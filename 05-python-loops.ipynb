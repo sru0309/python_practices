{
 "cells": [
  {
   "cell_type": "markdown",
   "metadata": {},
   "source": [
    "- python for loops\n",
    "     a for loop is used for iterating over a sequence (that is eithera list ,a tuple ,a dictionary,a set or a string)"
   ]
  },
  {
   "cell_type": "code",
   "execution_count": 1,
   "metadata": {},
   "outputs": [
    {
     "name": "stdout",
     "output_type": "stream",
     "text": [
      "1\n",
      "2\n",
      "3\n",
      "4\n"
     ]
    }
   ],
   "source": [
    "list = [1,2,3,4]\n",
    "for x in list:\n",
    "    print(x)"
   ]
  },
  {
   "cell_type": "markdown",
   "metadata": {},
   "source": [
    "- looping through a string"
   ]
  },
  {
   "cell_type": "code",
   "execution_count": 4,
   "metadata": {},
   "outputs": [
    {
     "name": "stdout",
     "output_type": "stream",
     "text": [
      "a\n",
      "p\n",
      "p\n",
      "l\n",
      "e\n"
     ]
    }
   ],
   "source": [
    "fruits =[\"apple\",\"banana\"]\n",
    "for x in \"apple\":\n",
    "    print(x)"
   ]
  },
  {
   "cell_type": "markdown",
   "metadata": {},
   "source": [
    "-program to find the sum of all numbers stored in a list"
   ]
  },
  {
   "cell_type": "code",
   "execution_count": 5,
   "metadata": {},
   "outputs": [
    {
     "name": "stdout",
     "output_type": "stream",
     "text": [
      "the sum of all the numbers is  39\n"
     ]
    }
   ],
   "source": [
    "#list of numbers\n",
    "numbers = [4,5,6,7,8,9]\n",
    "#variables to store the sum \n",
    "sum = 0\n",
    "for val in numbers:\n",
    "    sum =sum+val\n",
    "print(\"the sum of all the numbers is \",sum)"
   ]
  },
  {
   "cell_type": "markdown",
   "metadata": {},
   "source": [
    "- program to find the multiplication of all the numbers stored in the list"
   ]
  },
  {
   "cell_type": "code",
   "execution_count": 6,
   "metadata": {},
   "outputs": [
    {
     "name": "stdout",
     "output_type": "stream",
     "text": [
      "the multiplication of all the numbers in the list is  0\n"
     ]
    }
   ],
   "source": [
    "#list of numbers\n",
    "list =[1,2,3,4,5,6]\n",
    "#variable to stored the multiplication\n",
    "mul = 0\n",
    "for val in numbers:\n",
    "    mul = mul*val\n",
    "print(\"the multiplication of all the numbers in the list is \",mul)    "
   ]
  },
  {
   "cell_type": "markdown",
   "metadata": {},
   "source": [
    "- program to find the sum of all the even numbers stored in a list"
   ]
  },
  {
   "cell_type": "code",
   "execution_count": 1,
   "metadata": {},
   "outputs": [
    {
     "name": "stdout",
     "output_type": "stream",
     "text": [
      "the sum of all the even numbers in the list  2\n",
      "the sum of all the even numbers in the list  6\n",
      "the sum of all the even numbers in the list  12\n",
      "the sum of all the even numbers in the list  20\n",
      "the sum of all the even numbers in the list  30\n",
      "the sum of all the even numbers in the list  42\n",
      "the sum of all the even numbers in the list  56\n"
     ]
    }
   ],
   "source": [
    "#list of even numbers\n",
    "numbers =[2,4,6,8,10,12,14]\n",
    "#variable to stored the sum\n",
    "sum = 0\n",
    "for val in numbers:\n",
    "    sum =sum+val\n",
    "    print(\"the sum of all the even numbers in the list \",sum)\n"
   ]
  },
  {
   "cell_type": "code",
   "execution_count": 2,
   "metadata": {},
   "outputs": [
    {
     "name": "stdout",
     "output_type": "stream",
     "text": [
      "the sum of all the numbers is  30\n"
     ]
    }
   ],
   "source": [
    "#list of numbers\n",
    "numbers = [2,4,6,8,10]\n",
    "#variables to store the sum \n",
    "sum = 0\n",
    "for val in numbers:\n",
    "    sum =sum+val\n",
    "print(\"the sum of all the numbers is \",sum)"
   ]
  },
  {
   "cell_type": "markdown",
   "metadata": {},
   "source": [
    "- Star pattern"
   ]
  },
  {
   "cell_type": "code",
   "execution_count": 7,
   "metadata": {},
   "outputs": [
    {
     "name": "stdout",
     "output_type": "stream",
     "text": [
      "* \n",
      "* * \n",
      "* * * \n",
      "* * * * \n",
      "* * * * * \n",
      "* * * * * * \n",
      "* * * * * * * \n",
      "* * * * * * * * \n",
      "* * * * * * * * * \n"
     ]
    }
   ],
   "source": [
    "for i in range(1,10):\n",
    " print(i * \"* \")"
   ]
  },
  {
   "cell_type": "code",
   "execution_count": 8,
   "metadata": {},
   "outputs": [
    {
     "name": "stdout",
     "output_type": "stream",
     "text": [
      "* \n",
      "* * * \n",
      "* * * * * \n",
      "* * * * * * * \n",
      "* * * * * * * * * \n"
     ]
    }
   ],
   "source": [
    "for i in range(1,11,2):\n",
    "    print(i * \"* \")"
   ]
  },
  {
   "cell_type": "code",
   "execution_count": 9,
   "metadata": {},
   "outputs": [
    {
     "name": "stdout",
     "output_type": "stream",
     "text": [
      " * *\n",
      " * * * * *\n",
      " * * * * * * * *\n",
      " * * * * * * * * * * *\n",
      " * * * * * * * * * * * * * *\n",
      " * * * * * * * * * * * * * * * * *\n",
      " * * * * * * * * * * * * * * * * * * * *\n",
      " * * * * * * * * * * * * * * * * * * * * * * *\n",
      " * * * * * * * * * * * * * * * * * * * * * * * * * *\n",
      " * * * * * * * * * * * * * * * * * * * * * * * * * * * * *\n"
     ]
    }
   ],
   "source": [
    "for i in range(2,30,3):\n",
    "    print(i * \" *\")"
   ]
  },
  {
   "cell_type": "code",
   "execution_count": 3,
   "metadata": {},
   "outputs": [
    {
     "name": "stdout",
     "output_type": "stream",
     "text": [
      "* \n",
      " * \n",
      " *\n",
      "* * * * * * \n",
      " ****** \n",
      " * * * * * *\n",
      "* * * * * * * * * * * \n",
      " *********** \n",
      " * * * * * * * * * * *\n",
      "* * * * * * * * * * * * * * * * \n",
      " **************** \n",
      " * * * * * * * * * * * * * * * *\n",
      "* * * * * * * * * * * * * * * * * * * * * \n",
      " ********************* \n",
      " * * * * * * * * * * * * * * * * * * * * *\n",
      "* * * * * * * * * * * * * * * * * * * * * * * * * * \n",
      " ************************** \n",
      " * * * * * * * * * * * * * * * * * * * * * * * * * *\n"
     ]
    }
   ],
   "source": [
    "for i in range(1,30,5):\n",
    "    print(i * \"* \")\n",
    "    print(\" \" + i * \"*\" +\" \")\n",
    "    print(i * \" *\")"
   ]
  },
  {
   "cell_type": "code",
   "execution_count": 9,
   "metadata": {},
   "outputs": [
    {
     "name": "stdout",
     "output_type": "stream",
     "text": [
      " \n",
      " * \n",
      "    \n",
      " * * * * \n",
      "       \n",
      " * * * * * * * \n",
      "          \n",
      " * * * * * * * * * * \n",
      "             \n",
      " * * * * * * * * * * * * * \n",
      "                \n",
      " * * * * * * * * * * * * * * * * \n",
      "                   \n",
      " * * * * * * * * * * * * * * * * * * * \n",
      "                      \n",
      " * * * * * * * * * * * * * * * * * * * * * * \n",
      "                         \n",
      " * * * * * * * * * * * * * * * * * * * * * * * * * \n",
      "                            \n",
      " * * * * * * * * * * * * * * * * * * * * * * * * * * * * \n",
      "                               \n",
      " * * * * * * * * * * * * * * * * * * * * * * * * * * * * * * * \n",
      "                                  \n",
      " * * * * * * * * * * * * * * * * * * * * * * * * * * * * * * * * * * \n",
      "                                     \n",
      " * * * * * * * * * * * * * * * * * * * * * * * * * * * * * * * * * * * * * \n"
     ]
    }
   ],
   "source": [
    "for i in range(1,40,3):\n",
    "    print(i * \" \")\n",
    "    print(\" \"+i * \"* \")"
   ]
  },
  {
   "cell_type": "code",
   "execution_count": 7,
   "metadata": {},
   "outputs": [
    {
     "name": "stdout",
     "output_type": "stream",
     "text": [
      " \n",
      "  \n",
      "    \n",
      "     \n",
      "       \n",
      "        \n",
      "          \n",
      "           \n",
      "             \n",
      "              \n",
      "                \n",
      "                 \n",
      "                   \n",
      "                    \n",
      "                      \n",
      "                       \n",
      "                         \n",
      "                          \n",
      "                            \n",
      "                             \n",
      "                               \n",
      "                                \n",
      "                                  \n",
      "                                   \n",
      "                                     \n",
      "                                      \n"
     ]
    }
   ],
   "source": [
    "for i in range(1,40,3):\n",
    "    print(i * \" \")\n",
    "    print(\" \"+i * \" \")"
   ]
  },
  {
   "cell_type": "code",
   "execution_count": null,
   "metadata": {},
   "outputs": [],
   "source": []
  }
 ],
 "metadata": {
  "kernelspec": {
   "display_name": "Python 3.9.12 ('base')",
   "language": "python",
   "name": "python3"
  },
  "language_info": {
   "codemirror_mode": {
    "name": "ipython",
    "version": 3
   },
   "file_extension": ".py",
   "mimetype": "text/x-python",
   "name": "python",
   "nbconvert_exporter": "python",
   "pygments_lexer": "ipython3",
   "version": "3.9.12"
  },
  "orig_nbformat": 4,
  "vscode": {
   "interpreter": {
    "hash": "daee99e6893c0f9b4fa2cee7c11289a4ac1788238c3c1d2caa83921531d37465"
   }
  }
 },
 "nbformat": 4,
 "nbformat_minor": 2
}
