{
 "cells": [
  {
   "cell_type": "markdown",
   "metadata": {},
   "source": [
    "- TUPLES"
   ]
  },
  {
   "cell_type": "code",
   "execution_count": 1,
   "metadata": {},
   "outputs": [
    {
     "name": "stdout",
     "output_type": "stream",
     "text": [
      "()\n",
      "(1, 2, 3, 4, 5)\n",
      "(12, 'hello', 345.54)\n",
      "('hello', [12, 13, 14], (32, 57, 87))\n"
     ]
    }
   ],
   "source": [
    "#different types of tuples \n",
    "#empty tuple\n",
    "my_tuple =()\n",
    "print(my_tuple)\n",
    "#tuple with integers\n",
    "my_tuple=(1,2,3,4,5)\n",
    "print(my_tuple)\n",
    "#tuple with mixed datatypes\n",
    "my_tuple =(12,\"hello\",345.54)\n",
    "print(my_tuple)\n",
    "#nested tuple\n",
    "my_tuple =(\"hello\",[12,13,14],(32,57,87))\n",
    "print(my_tuple)"
   ]
  },
  {
   "cell_type": "code",
   "execution_count": null,
   "metadata": {},
   "outputs": [],
   "source": []
  }
 ],
 "metadata": {
  "kernelspec": {
   "display_name": "Python 3.9.12 ('base')",
   "language": "python",
   "name": "python3"
  },
  "language_info": {
   "codemirror_mode": {
    "name": "ipython",
    "version": 3
   },
   "file_extension": ".py",
   "mimetype": "text/x-python",
   "name": "python",
   "nbconvert_exporter": "python",
   "pygments_lexer": "ipython3",
   "version": "3.9.12"
  },
  "orig_nbformat": 4,
  "vscode": {
   "interpreter": {
    "hash": "daee99e6893c0f9b4fa2cee7c11289a4ac1788238c3c1d2caa83921531d37465"
   }
  }
 },
 "nbformat": 4,
 "nbformat_minor": 2
}
