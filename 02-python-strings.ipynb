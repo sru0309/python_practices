{
 "cells": [
  {
   "cell_type": "code",
   "execution_count": 1,
   "metadata": {},
   "outputs": [
    {
     "name": "stdout",
     "output_type": "stream",
     "text": [
      "hello\n"
     ]
    }
   ],
   "source": [
    "#defining strings in python\n",
    "my_string = 'hello'\n",
    "print(my_string)"
   ]
  },
  {
   "cell_type": "code",
   "execution_count": 2,
   "id": "50bde80f",
   "metadata": {},
   "outputs": [
    {
     "name": "stdout",
     "output_type": "stream",
     "text": [
      "hello\n"
     ]
    }
   ],
   "source": [
    "my_string = \"hello\"\n",
    "print(my_string)"
   ]
  },
  {
   "cell_type": "code",
   "execution_count": 3,
   "id": "c60fa3d7",
   "metadata": {},
   "outputs": [
    {
     "name": "stdout",
     "output_type": "stream",
     "text": [
      "hello\n"
     ]
    }
   ],
   "source": [
    "my_string =('''hello''')\n",
    "print(my_string)"
   ]
  },
  {
   "cell_type": "code",
   "execution_count": 10,
   "id": "e02e2d8b",
   "metadata": {},
   "outputs": [
    {
     "name": "stdout",
     "output_type": "stream",
     "text": [
      "srushti\n",
      "s\n",
      "i\n",
      "rush\n",
      "t\n",
      "ush\n"
     ]
    }
   ],
   "source": [
    "#accessing string characters in python\n",
    "str = 'srushti'\n",
    "print(str)\n",
    "\n",
    "#first character\n",
    "print(str[0])\n",
    "\n",
    "#last character\n",
    "print(str[-1])\n",
    "\n",
    "#slicing 2nd to 5th characters\n",
    "print(str[1:5])\n",
    "\n",
    "#slicing 6th to 2nd chracters\n",
    "print(str[5:-1])\n",
    "\n",
    "#slicing 3rd to 2nd chracters\n",
    "print(str[2:-2])"
   ]
  },
  {
   "cell_type": "code",
   "execution_count": 15,
   "id": "e6be5002",
   "metadata": {},
   "outputs": [
    {
     "name": "stdout",
     "output_type": "stream",
     "text": [
      "str1 + str2 =  hello   world !\n"
     ]
    }
   ],
   "source": [
    "#python string operation\n",
    "str1 = 'hello'\n",
    "str2 = 'world'\n",
    "\n",
    "#using +\n",
    "print('str1 + str2 = ',str1 ,' ', str2 ,'!')\n",
    "\n"
   ]
  },
  {
   "cell_type": "code",
   "execution_count": 16,
   "id": "4a1a0122",
   "metadata": {},
   "outputs": [
    {
     "name": "stdout",
     "output_type": "stream",
     "text": [
      "str1*4 = hellohellohellohello\n",
      "str2*4 = srushtisrushtisrushtisrushti\n"
     ]
    }
   ],
   "source": [
    "#using *\n",
    "print('str1*4 =',str1*4)\n",
    "print('str2*4 =',str*4)"
   ]
  },
  {
   "cell_type": "code",
   "execution_count": 1,
   "id": "8f0f7cc1",
   "metadata": {},
   "outputs": [
    {
     "name": "stdout",
     "output_type": "stream",
     "text": [
      "a*6= iamsrushtiiamsrushtiiamsrushtiiamsrushtiiamsrushtiiamsrushti\n"
     ]
    }
   ],
   "source": [
    "a =\"iamsrushti\"\n",
    "print('a*6=',a*6)"
   ]
  },
  {
   "cell_type": "code",
   "execution_count": 19,
   "id": "e843fecf",
   "metadata": {},
   "outputs": [
    {
     "name": "stdout",
     "output_type": "stream",
     "text": [
      "3 letters found\n"
     ]
    }
   ],
   "source": [
    "#iterating through a string \n",
    "count = 0\n",
    "for letter in 'hello world':\n",
    "    if (letter == 'l'):\n",
    "        count += 1\n",
    "print(count,'letters found')        "
   ]
  },
  {
   "cell_type": "code",
   "execution_count": 20,
   "id": "ee4ca692",
   "metadata": {},
   "outputs": [
    {
     "name": "stdout",
     "output_type": "stream",
     "text": [
      "1 letter found\n",
      "2 letter found\n"
     ]
    }
   ],
   "source": [
    "count = 0\n",
    "for letter in 'srushti':\n",
    "    if (letter =='s'):\n",
    "        count += 1\n",
    "        print(count,'letter found')\n"
   ]
  },
  {
   "cell_type": "code",
   "execution_count": 21,
   "id": "9ef0d06f",
   "metadata": {},
   "outputs": [
    {
     "name": "stdout",
     "output_type": "stream",
     "text": [
      "2 letters found\n"
     ]
    }
   ],
   "source": [
    "count = 0\n",
    "for letter in 'srushti':\n",
    "    if (letter == 's'):\n",
    "        count += 1\n",
    "print(count,'letters found')    "
   ]
  },
  {
   "cell_type": "code",
   "execution_count": 22,
   "id": "20ff77f2",
   "metadata": {},
   "outputs": [
    {
     "name": "stdout",
     "output_type": "stream",
     "text": [
      "7\n"
     ]
    }
   ],
   "source": [
    "#character count\n",
    "str = 'srushti'\n",
    "print(len(str))"
   ]
  },
  {
   "cell_type": "code",
   "execution_count": 25,
   "id": "5091209a",
   "metadata": {},
   "outputs": [
    {
     "name": "stdout",
     "output_type": "stream",
     "text": [
      "[(0, 's'), (1, 'r'), (2, 'u'), (3, 's'), (4, 'h'), (5, 't'), (6, 'i')]\n"
     ]
    }
   ],
   "source": [
    "#enumerate()\n",
    "str='srushti'\n",
    "list_enumerate = list(enumerate(str))\n",
    "print(list_enumerate)"
   ]
  },
  {
   "cell_type": "code",
   "execution_count": 1,
   "id": "7a887891",
   "metadata": {},
   "outputs": [
    {
     "data": {
      "text/plain": [
       "['__add__',\n",
       " '__class__',\n",
       " '__contains__',\n",
       " '__delattr__',\n",
       " '__dir__',\n",
       " '__doc__',\n",
       " '__eq__',\n",
       " '__format__',\n",
       " '__ge__',\n",
       " '__getattribute__',\n",
       " '__getitem__',\n",
       " '__getnewargs__',\n",
       " '__gt__',\n",
       " '__hash__',\n",
       " '__init__',\n",
       " '__init_subclass__',\n",
       " '__iter__',\n",
       " '__le__',\n",
       " '__len__',\n",
       " '__lt__',\n",
       " '__mod__',\n",
       " '__mul__',\n",
       " '__ne__',\n",
       " '__new__',\n",
       " '__reduce__',\n",
       " '__reduce_ex__',\n",
       " '__repr__',\n",
       " '__rmod__',\n",
       " '__rmul__',\n",
       " '__setattr__',\n",
       " '__sizeof__',\n",
       " '__str__',\n",
       " '__subclasshook__',\n",
       " 'capitalize',\n",
       " 'casefold',\n",
       " 'center',\n",
       " 'count',\n",
       " 'encode',\n",
       " 'endswith',\n",
       " 'expandtabs',\n",
       " 'find',\n",
       " 'format',\n",
       " 'format_map',\n",
       " 'index',\n",
       " 'isalnum',\n",
       " 'isalpha',\n",
       " 'isascii',\n",
       " 'isdecimal',\n",
       " 'isdigit',\n",
       " 'isidentifier',\n",
       " 'islower',\n",
       " 'isnumeric',\n",
       " 'isprintable',\n",
       " 'isspace',\n",
       " 'istitle',\n",
       " 'isupper',\n",
       " 'join',\n",
       " 'ljust',\n",
       " 'lower',\n",
       " 'lstrip',\n",
       " 'maketrans',\n",
       " 'partition',\n",
       " 'removeprefix',\n",
       " 'removesuffix',\n",
       " 'replace',\n",
       " 'rfind',\n",
       " 'rindex',\n",
       " 'rjust',\n",
       " 'rpartition',\n",
       " 'rsplit',\n",
       " 'rstrip',\n",
       " 'split',\n",
       " 'splitlines',\n",
       " 'startswith',\n",
       " 'strip',\n",
       " 'swapcase',\n",
       " 'title',\n",
       " 'translate',\n",
       " 'upper',\n",
       " 'zfill']"
      ]
     },
     "execution_count": 1,
     "metadata": {},
     "output_type": "execute_result"
    }
   ],
   "source": [
    "dir(str)"
   ]
  },
  {
   "cell_type": "code",
   "execution_count": 12,
   "id": "c1f98ab7",
   "metadata": {},
   "outputs": [
    {
     "name": "stdout",
     "output_type": "stream",
     "text": [
      "I AM SRUSHTI\n"
     ]
    }
   ],
   "source": [
    "#using swapcase()\n",
    "str=\"i am srushti\"\n",
    "str_swapcase=str.swapcase()\n",
    "print(str_swapcase)"
   ]
  },
  {
   "cell_type": "code",
   "execution_count": 9,
   "id": "db8e06da",
   "metadata": {},
   "outputs": [
    {
     "name": "stdout",
     "output_type": "stream",
     "text": [
      "i am srushti\n"
     ]
    }
   ],
   "source": [
    "str='I AM SRUSHTI'\n",
    "str_swapcase =str.swapcase()\n",
    "print(str_swapcase)"
   ]
  },
  {
   "cell_type": "code",
   "execution_count": 13,
   "id": "91fb8776",
   "metadata": {},
   "outputs": [
    {
     "name": "stdout",
     "output_type": "stream",
     "text": [
      "I Am Srushti\n"
     ]
    }
   ],
   "source": [
    "#using title()\n",
    "str=\"i am srushti\"\n",
    "str_title = str.title()\n",
    "print(str_title)"
   ]
  },
  {
   "cell_type": "code",
   "execution_count": 21,
   "id": "dc913985",
   "metadata": {},
   "outputs": [
    {
     "name": "stdout",
     "output_type": "stream",
     "text": [
      "i am srushti\n"
     ]
    }
   ],
   "source": [
    "#using traslate()\n",
    "str=\"i am srushti\"\n",
    "str_traslate = str.translate(\"am\")\n",
    "print(str_traslate)"
   ]
  },
  {
   "cell_type": "code",
   "execution_count": 3,
   "id": "d1787b43",
   "metadata": {},
   "outputs": [
    {
     "data": {
      "text/plain": [
       "'I am srushti'"
      ]
     },
     "execution_count": 3,
     "metadata": {},
     "output_type": "execute_result"
    }
   ],
   "source": [
    "str.capitalize()"
   ]
  },
  {
   "cell_type": "code",
   "execution_count": 5,
   "id": "7874d8d9",
   "metadata": {},
   "outputs": [
    {
     "data": {
      "text/plain": [
       "'i am srushti'"
      ]
     },
     "execution_count": 5,
     "metadata": {},
     "output_type": "execute_result"
    }
   ],
   "source": [
    "str.casefold()"
   ]
  },
  {
   "cell_type": "code",
   "execution_count": 8,
   "id": "b6e01ed4",
   "metadata": {},
   "outputs": [
    {
     "data": {
      "text/plain": [
       "'i am srushti'"
      ]
     },
     "execution_count": 8,
     "metadata": {},
     "output_type": "execute_result"
    }
   ],
   "source": [
    "str.center(10)"
   ]
  },
  {
   "cell_type": "code",
   "execution_count": 18,
   "id": "9fd38e90",
   "metadata": {},
   "outputs": [
    {
     "data": {
      "text/plain": [
       "b'i am srushti'"
      ]
     },
     "execution_count": 18,
     "metadata": {},
     "output_type": "execute_result"
    }
   ],
   "source": [
    "str.encode()"
   ]
  },
  {
   "cell_type": "code",
   "execution_count": 21,
   "id": "de0cfbbb",
   "metadata": {},
   "outputs": [
    {
     "data": {
      "text/plain": [
       "True"
      ]
     },
     "execution_count": 21,
     "metadata": {},
     "output_type": "execute_result"
    }
   ],
   "source": [
    "str.endswith(\"i\")"
   ]
  },
  {
   "cell_type": "code",
   "execution_count": 23,
   "id": "9659f099",
   "metadata": {},
   "outputs": [
    {
     "data": {
      "text/plain": [
       "False"
      ]
     },
     "execution_count": 23,
     "metadata": {},
     "output_type": "execute_result"
    }
   ],
   "source": [
    "str.endswith(\"s\")"
   ]
  },
  {
   "cell_type": "code",
   "execution_count": 25,
   "id": "2a75b49f",
   "metadata": {},
   "outputs": [
    {
     "data": {
      "text/plain": [
       "'i am srushti'"
      ]
     },
     "execution_count": 25,
     "metadata": {},
     "output_type": "execute_result"
    }
   ],
   "source": [
    "str.expandtabs()"
   ]
  },
  {
   "cell_type": "code",
   "execution_count": 27,
   "id": "37b8d345",
   "metadata": {},
   "outputs": [
    {
     "data": {
      "text/plain": [
       "5"
      ]
     },
     "execution_count": 27,
     "metadata": {},
     "output_type": "execute_result"
    }
   ],
   "source": [
    "str.find(\"s\")"
   ]
  },
  {
   "cell_type": "code",
   "execution_count": 29,
   "id": "56c09e28",
   "metadata": {},
   "outputs": [
    {
     "data": {
      "text/plain": [
       "'i am srushti'"
      ]
     },
     "execution_count": 29,
     "metadata": {},
     "output_type": "execute_result"
    }
   ],
   "source": [
    "str.format(\"s\",\"r\")"
   ]
  },
  {
   "cell_type": "code",
   "execution_count": 32,
   "id": "5e7be9d5",
   "metadata": {},
   "outputs": [
    {
     "data": {
      "text/plain": [
       "'i am srushti'"
      ]
     },
     "execution_count": 32,
     "metadata": {},
     "output_type": "execute_result"
    }
   ],
   "source": [
    "str.format_map(\"s\")"
   ]
  },
  {
   "cell_type": "code",
   "execution_count": 38,
   "id": "67e6d70c",
   "metadata": {},
   "outputs": [
    {
     "data": {
      "text/plain": [
       "False"
      ]
     },
     "execution_count": 38,
     "metadata": {},
     "output_type": "execute_result"
    }
   ],
   "source": [
    "str.isalnum()\n"
   ]
  },
  {
   "cell_type": "code",
   "execution_count": 39,
   "id": "bd2a2c8c",
   "metadata": {},
   "outputs": [
    {
     "data": {
      "text/plain": [
       "False"
      ]
     },
     "execution_count": 39,
     "metadata": {},
     "output_type": "execute_result"
    }
   ],
   "source": [
    "str.isalpha()"
   ]
  },
  {
   "cell_type": "code",
   "execution_count": 41,
   "id": "3e8ddf75",
   "metadata": {},
   "outputs": [
    {
     "data": {
      "text/plain": [
       "True"
      ]
     },
     "execution_count": 41,
     "metadata": {},
     "output_type": "execute_result"
    }
   ],
   "source": [
    "str.isascii()"
   ]
  },
  {
   "cell_type": "code",
   "execution_count": 43,
   "id": "ffbcb37a",
   "metadata": {},
   "outputs": [
    {
     "data": {
      "text/plain": [
       "False"
      ]
     },
     "execution_count": 43,
     "metadata": {},
     "output_type": "execute_result"
    }
   ],
   "source": [
    "str.isdigit()"
   ]
  },
  {
   "cell_type": "code",
   "execution_count": 44,
   "id": "bf771b9f",
   "metadata": {},
   "outputs": [
    {
     "data": {
      "text/plain": [
       "False"
      ]
     },
     "execution_count": 44,
     "metadata": {},
     "output_type": "execute_result"
    }
   ],
   "source": [
    "str.isdecimal()"
   ]
  },
  {
   "cell_type": "code",
   "execution_count": 45,
   "id": "bb0b9204",
   "metadata": {},
   "outputs": [
    {
     "data": {
      "text/plain": [
       "False"
      ]
     },
     "execution_count": 45,
     "metadata": {},
     "output_type": "execute_result"
    }
   ],
   "source": [
    "str.isidentifier()"
   ]
  },
  {
   "cell_type": "code",
   "execution_count": 46,
   "id": "11396db2",
   "metadata": {},
   "outputs": [
    {
     "data": {
      "text/plain": [
       "True"
      ]
     },
     "execution_count": 46,
     "metadata": {},
     "output_type": "execute_result"
    }
   ],
   "source": [
    "str.islower()"
   ]
  },
  {
   "cell_type": "code",
   "execution_count": 47,
   "id": "2e8a62a3",
   "metadata": {},
   "outputs": [
    {
     "data": {
      "text/plain": [
       "False"
      ]
     },
     "execution_count": 47,
     "metadata": {},
     "output_type": "execute_result"
    }
   ],
   "source": [
    "str.isnumeric()"
   ]
  },
  {
   "cell_type": "code",
   "execution_count": 48,
   "id": "4ce77dfc",
   "metadata": {},
   "outputs": [
    {
     "data": {
      "text/plain": [
       "True"
      ]
     },
     "execution_count": 48,
     "metadata": {},
     "output_type": "execute_result"
    }
   ],
   "source": [
    "str.isprintable()"
   ]
  },
  {
   "cell_type": "code",
   "execution_count": 49,
   "id": "aa13f2a8",
   "metadata": {},
   "outputs": [
    {
     "data": {
      "text/plain": [
       "False"
      ]
     },
     "execution_count": 49,
     "metadata": {},
     "output_type": "execute_result"
    }
   ],
   "source": [
    "str.isspace()"
   ]
  },
  {
   "cell_type": "code",
   "execution_count": 50,
   "id": "deb80a2f",
   "metadata": {},
   "outputs": [
    {
     "data": {
      "text/plain": [
       "False"
      ]
     },
     "execution_count": 50,
     "metadata": {},
     "output_type": "execute_result"
    }
   ],
   "source": [
    "str.istitle()"
   ]
  },
  {
   "cell_type": "code",
   "execution_count": 51,
   "id": "d69b764c",
   "metadata": {},
   "outputs": [
    {
     "data": {
      "text/plain": [
       "False"
      ]
     },
     "execution_count": 51,
     "metadata": {},
     "output_type": "execute_result"
    }
   ],
   "source": [
    "str.isupper()"
   ]
  },
  {
   "cell_type": "code",
   "execution_count": 53,
   "id": "c686adaf",
   "metadata": {},
   "outputs": [
    {
     "data": {
      "text/plain": [
       "'s'"
      ]
     },
     "execution_count": 53,
     "metadata": {},
     "output_type": "execute_result"
    }
   ],
   "source": [
    "str.join(\"s\")"
   ]
  },
  {
   "cell_type": "code",
   "execution_count": 56,
   "id": "d4eb397b",
   "metadata": {},
   "outputs": [
    {
     "name": "stdout",
     "output_type": "stream",
     "text": [
      "hhelloihelloi\n"
     ]
    }
   ],
   "source": [
    "str = \"hii\"\n",
    "join = \"hello\".join(str)\n",
    "print(join)"
   ]
  },
  {
   "cell_type": "code",
   "execution_count": 55,
   "id": "97d0d8c9",
   "metadata": {},
   "outputs": [
    {
     "data": {
      "text/plain": [
       "'hhelloihelloi'"
      ]
     },
     "execution_count": 55,
     "metadata": {},
     "output_type": "execute_result"
    }
   ],
   "source": [
    "join"
   ]
  },
  {
   "cell_type": "code",
   "execution_count": 61,
   "id": "047a6397",
   "metadata": {},
   "outputs": [
    {
     "name": "stdout",
     "output_type": "stream",
     "text": [
      "h   i   i       h   e   l   l   o\n"
     ]
    }
   ],
   "source": [
    "str =\"hii hello\"\n",
    "join = '   '.join(str)\n",
    "print(join)"
   ]
  },
  {
   "cell_type": "code",
   "execution_count": 64,
   "id": "b6dff399",
   "metadata": {},
   "outputs": [
    {
     "data": {
      "text/plain": [
       "'hii hello'"
      ]
     },
     "execution_count": 64,
     "metadata": {},
     "output_type": "execute_result"
    }
   ],
   "source": [
    "str.ljust(1)"
   ]
  },
  {
   "cell_type": "code",
   "execution_count": 65,
   "id": "ab3a9112",
   "metadata": {},
   "outputs": [
    {
     "data": {
      "text/plain": [
       "'hii hello'"
      ]
     },
     "execution_count": 65,
     "metadata": {},
     "output_type": "execute_result"
    }
   ],
   "source": [
    "str.lower()"
   ]
  },
  {
   "cell_type": "code",
   "execution_count": 67,
   "id": "2f9e52fa",
   "metadata": {},
   "outputs": [
    {
     "data": {
      "text/plain": [
       "'HII HELLO'"
      ]
     },
     "execution_count": 67,
     "metadata": {},
     "output_type": "execute_result"
    }
   ],
   "source": [
    "str.upper()"
   ]
  },
  {
   "cell_type": "code",
   "execution_count": 69,
   "id": "c6b16bc2",
   "metadata": {},
   "outputs": [
    {
     "data": {
      "text/plain": [
       "['hii', 'hello']"
      ]
     },
     "execution_count": 69,
     "metadata": {},
     "output_type": "execute_result"
    }
   ],
   "source": [
    "str.split()"
   ]
  },
  {
   "cell_type": "code",
   "execution_count": 73,
   "id": "b13d908f",
   "metadata": {},
   "outputs": [
    {
     "data": {
      "text/plain": [
       "'hii hello'"
      ]
     },
     "execution_count": 73,
     "metadata": {},
     "output_type": "execute_result"
    }
   ],
   "source": [
    "str.strip()"
   ]
  },
  {
   "cell_type": "code",
   "execution_count": 75,
   "id": "5303dd6b",
   "metadata": {},
   "outputs": [
    {
     "data": {
      "text/plain": [
       "'HII HELLO'"
      ]
     },
     "execution_count": 75,
     "metadata": {},
     "output_type": "execute_result"
    }
   ],
   "source": [
    "str.swapcase()"
   ]
  },
  {
   "cell_type": "code",
   "execution_count": 76,
   "id": "92f5d498",
   "metadata": {},
   "outputs": [
    {
     "data": {
      "text/plain": [
       "'Hii Hello'"
      ]
     },
     "execution_count": 76,
     "metadata": {},
     "output_type": "execute_result"
    }
   ],
   "source": [
    "str.title()"
   ]
  },
  {
   "cell_type": "code",
   "execution_count": 78,
   "id": "700e3fb9",
   "metadata": {},
   "outputs": [
    {
     "data": {
      "text/plain": [
       "'hii hello'"
      ]
     },
     "execution_count": 78,
     "metadata": {},
     "output_type": "execute_result"
    }
   ],
   "source": [
    "str.translate('i')"
   ]
  },
  {
   "cell_type": "code",
   "execution_count": 79,
   "id": "9a27abb0",
   "metadata": {},
   "outputs": [
    {
     "ename": "TypeError",
     "evalue": "str.zfill() takes exactly one argument (0 given)",
     "output_type": "error",
     "traceback": [
      "\u001b[1;31m---------------------------------------------------------------------------\u001b[0m",
      "\u001b[1;31mTypeError\u001b[0m                                 Traceback (most recent call last)",
      "\u001b[1;32md:\\Python\\python_practice\\02-python-strings.ipynb Cell 51\u001b[0m in \u001b[0;36m<cell line: 1>\u001b[1;34m()\u001b[0m\n\u001b[1;32m----> <a href='vscode-notebook-cell:/d%3A/Python/python_practice/02-python-strings.ipynb#Y102sZmlsZQ%3D%3D?line=0'>1</a>\u001b[0m \u001b[39mstr\u001b[39;49m\u001b[39m.\u001b[39;49mzfill()\n",
      "\u001b[1;31mTypeError\u001b[0m: str.zfill() takes exactly one argument (0 given)"
     ]
    }
   ],
   "source": [
    "str.zfill()"
   ]
  },
  {
   "cell_type": "code",
   "execution_count": 86,
   "id": "53b7f765",
   "metadata": {},
   "outputs": [],
   "source": [
    "str = \"hii,i am srushti\"\n",
    "s = str.split()[::-1]\n",
    "l = []\n",
    "for i in s:\n",
    "    l.append(i)\n",
    "     \n",
    "l =''.join(s)  \n"
   ]
  },
  {
   "cell_type": "code",
   "execution_count": 87,
   "id": "46891916",
   "metadata": {},
   "outputs": [
    {
     "data": {
      "text/plain": [
       "'srushtiamhii,i'"
      ]
     },
     "execution_count": 87,
     "metadata": {},
     "output_type": "execute_result"
    }
   ],
   "source": [
    "l"
   ]
  },
  {
   "cell_type": "code",
   "execution_count": 95,
   "id": "97695365",
   "metadata": {},
   "outputs": [
    {
     "name": "stdout",
     "output_type": "stream",
     "text": [
      "you are how\n"
     ]
    }
   ],
   "source": [
    "string = \"how are you\"\n",
    "s = string.split()[::-1]\n",
    "l =[]\n",
    "for i in s:\n",
    "    l.append(i)\n",
    "print(' '.join(l))"
   ]
  },
  {
   "cell_type": "code",
   "execution_count": null,
   "id": "cd01d8c5",
   "metadata": {},
   "outputs": [],
   "source": []
  }
 ],
 "metadata": {
  "kernelspec": {
   "display_name": "Python 3.9.12 ('base')",
   "language": "python",
   "name": "python3"
  },
  "language_info": {
   "codemirror_mode": {
    "name": "ipython",
    "version": 3
   },
   "file_extension": ".py",
   "mimetype": "text/x-python",
   "name": "python",
   "nbconvert_exporter": "python",
   "pygments_lexer": "ipython3",
   "version": "3.9.12"
  },
  "vscode": {
   "interpreter": {
    "hash": "daee99e6893c0f9b4fa2cee7c11289a4ac1788238c3c1d2caa83921531d37465"
   }
  }
 },
 "nbformat": 4,
 "nbformat_minor": 5
}
