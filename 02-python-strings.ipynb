{
 "cells": [
  {
   "cell_type": "code",
   "execution_count": 1,
   "metadata": {},
   "outputs": [
    {
     "name": "stdout",
     "output_type": "stream",
     "text": [
      "hello\n"
     ]
    }
   ],
   "source": [
    "#defining strings in python\n",
    "my_string = 'hello'\n",
    "print(my_string)"
   ]
  },
  {
   "cell_type": "code",
   "execution_count": 2,
   "id": "50bde80f",
   "metadata": {},
   "outputs": [
    {
     "name": "stdout",
     "output_type": "stream",
     "text": [
      "hello\n"
     ]
    }
   ],
   "source": [
    "my_string = \"hello\"\n",
    "print(my_string)"
   ]
  },
  {
   "cell_type": "code",
   "execution_count": 3,
   "id": "c60fa3d7",
   "metadata": {},
   "outputs": [
    {
     "name": "stdout",
     "output_type": "stream",
     "text": [
      "hello\n"
     ]
    }
   ],
   "source": [
    "my_string =('''hello''')\n",
    "print(my_string)"
   ]
  },
  {
   "cell_type": "code",
   "execution_count": 10,
   "id": "e02e2d8b",
   "metadata": {},
   "outputs": [
    {
     "name": "stdout",
     "output_type": "stream",
     "text": [
      "srushti\n",
      "s\n",
      "i\n",
      "rush\n",
      "t\n",
      "ush\n"
     ]
    }
   ],
   "source": [
    "#accessing string characters in python\n",
    "str = 'srushti'\n",
    "print(str)\n",
    "\n",
    "#first character\n",
    "print(str[0])\n",
    "\n",
    "#last character\n",
    "print(str[-1])\n",
    "\n",
    "#slicing 2nd to 5th characters\n",
    "print(str[1:5])\n",
    "\n",
    "#slicing 6th to 2nd chracters\n",
    "print(str[5:-1])\n",
    "\n",
    "#slicing 3rd to 2nd chracters\n",
    "print(str[2:-2])"
   ]
  },
  {
   "cell_type": "code",
   "execution_count": 15,
   "id": "e6be5002",
   "metadata": {},
   "outputs": [
    {
     "name": "stdout",
     "output_type": "stream",
     "text": [
      "str1 + str2 =  hello   world !\n"
     ]
    }
   ],
   "source": [
    "#python string operation\n",
    "str1 = 'hello'\n",
    "str2 = 'world'\n",
    "\n",
    "#using +\n",
    "print('str1 + str2 = ',str1 ,' ', str2 ,'!')\n",
    "\n"
   ]
  },
  {
   "cell_type": "code",
   "execution_count": 16,
   "id": "4a1a0122",
   "metadata": {},
   "outputs": [
    {
     "name": "stdout",
     "output_type": "stream",
     "text": [
      "str1*4 = hellohellohellohello\n",
      "str2*4 = srushtisrushtisrushtisrushti\n"
     ]
    }
   ],
   "source": [
    "#using *\n",
    "print('str1*4 =',str1*4)\n",
    "print('str2*4 =',str*4)"
   ]
  },
  {
   "cell_type": "code",
   "execution_count": 19,
   "id": "e843fecf",
   "metadata": {},
   "outputs": [
    {
     "name": "stdout",
     "output_type": "stream",
     "text": [
      "3 letters found\n"
     ]
    }
   ],
   "source": [
    "#iterating through a string \n",
    "count = 0\n",
    "for letter in 'hello world':\n",
    "    if (letter == 'l'):\n",
    "        count += 1\n",
    "print(count,'letters found')        "
   ]
  },
  {
   "cell_type": "code",
   "execution_count": 20,
   "id": "ee4ca692",
   "metadata": {},
   "outputs": [
    {
     "name": "stdout",
     "output_type": "stream",
     "text": [
      "1 letter found\n",
      "2 letter found\n"
     ]
    }
   ],
   "source": [
    "count = 0\n",
    "for letter in 'srushti':\n",
    "    if (letter =='s'):\n",
    "        count += 1\n",
    "        print(count,'letter found')\n"
   ]
  },
  {
   "cell_type": "code",
   "execution_count": 21,
   "id": "9ef0d06f",
   "metadata": {},
   "outputs": [
    {
     "name": "stdout",
     "output_type": "stream",
     "text": [
      "2 letters found\n"
     ]
    }
   ],
   "source": [
    "count = 0\n",
    "for letter in 'srushti':\n",
    "    if (letter == 's'):\n",
    "        count += 1\n",
    "print(count,'letters found')    "
   ]
  },
  {
   "cell_type": "code",
   "execution_count": 22,
   "id": "20ff77f2",
   "metadata": {},
   "outputs": [
    {
     "name": "stdout",
     "output_type": "stream",
     "text": [
      "7\n"
     ]
    }
   ],
   "source": [
    "#character count\n",
    "str = 'srushti'\n",
    "print(len(str))"
   ]
  },
  {
   "cell_type": "code",
   "execution_count": 25,
   "id": "5091209a",
   "metadata": {},
   "outputs": [
    {
     "name": "stdout",
     "output_type": "stream",
     "text": [
      "[(0, 's'), (1, 'r'), (2, 'u'), (3, 's'), (4, 'h'), (5, 't'), (6, 'i')]\n"
     ]
    }
   ],
   "source": [
    "#enumerate()\n",
    "str='srushti'\n",
    "list_enumerate = list(enumerate(str))\n",
    "print(list_enumerate)"
   ]
  },
  {
   "cell_type": "code",
   "execution_count": null,
   "id": "7a887891",
   "metadata": {},
   "outputs": [],
   "source": []
  }
 ],
 "metadata": {
  "kernelspec": {
   "display_name": "Python 3.9.12 ('base')",
   "language": "python",
   "name": "python3"
  },
  "language_info": {
   "codemirror_mode": {
    "name": "ipython",
    "version": 3
   },
   "file_extension": ".py",
   "mimetype": "text/x-python",
   "name": "python",
   "nbconvert_exporter": "python",
   "pygments_lexer": "ipython3",
   "version": "3.9.12"
  },
  "vscode": {
   "interpreter": {
    "hash": "daee99e6893c0f9b4fa2cee7c11289a4ac1788238c3c1d2caa83921531d37465"
   }
  }
 },
 "nbformat": 4,
 "nbformat_minor": 5
}
