{
 "cells": [
  {
   "cell_type": "markdown",
   "metadata": {},
   "source": [
    "-  reverse words in a give string"
   ]
  },
  {
   "cell_type": "code",
   "execution_count": 10,
   "metadata": {},
   "outputs": [
    {
     "name": "stdout",
     "output_type": "stream",
     "text": [
      "srushti am i hey\n"
     ]
    }
   ],
   "source": [
    "#reverse words in a give string\n",
    "string =\"hey i am srushti\"\n",
    "s = string.split()[::-1]\n",
    "l =[]\n",
    "for i in s:\n",
    "    l.append(i)\n",
    "print(' '.join(l))\n"
   ]
  },
  {
   "cell_type": "code",
   "execution_count": 7,
   "metadata": {},
   "outputs": [
    {
     "data": {
      "text/plain": [
       "['srushti', 'am', 'i', 'hey']"
      ]
     },
     "execution_count": 7,
     "metadata": {},
     "output_type": "execute_result"
    }
   ],
   "source": [
    "l"
   ]
  },
  {
   "cell_type": "code",
   "execution_count": 13,
   "metadata": {},
   "outputs": [
    {
     "name": "stdout",
     "output_type": "stream",
     "text": [
      "you are how hii\n"
     ]
    }
   ],
   "source": [
    "#reversed \n",
    "def rev_sentence(sentence):\n",
    "    words =sentence.split(' ')\n",
    "    reversed_sentence = ' '.join(reversed(words))\n",
    "    return reversed_sentence\n",
    "if __name__ == \"__main__\":\n",
    "    input =\"hii how are you\"\n",
    "    print(rev_sentence(input))"
   ]
  },
  {
   "cell_type": "code",
   "execution_count": 22,
   "metadata": {},
   "outputs": [],
   "source": [
    "str =\"hey how are you\"\n",
    "split = str.split(' ')\n",
    "reversed_sentence =' '.join(reversed(split))"
   ]
  },
  {
   "cell_type": "code",
   "execution_count": 23,
   "metadata": {},
   "outputs": [
    {
     "data": {
      "text/plain": [
       "'you are how hey'"
      ]
     },
     "execution_count": 23,
     "metadata": {},
     "output_type": "execute_result"
    }
   ],
   "source": [
    "reversed_sentence"
   ]
  },
  {
   "cell_type": "code",
   "execution_count": 26,
   "metadata": {},
   "outputs": [
    {
     "name": "stdout",
     "output_type": "stream",
     "text": [
      "u o y   e r a   w o h\n"
     ]
    }
   ],
   "source": [
    "str =\"how are you\"\n",
    "rev = ' '.join(reversed(str))   #space \n",
    "print(rev)"
   ]
  },
  {
   "cell_type": "code",
   "execution_count": 27,
   "metadata": {},
   "outputs": [
    {
     "name": "stdout",
     "output_type": "stream",
     "text": [
      "uoy era woh\n"
     ]
    }
   ],
   "source": [
    "str = \"how are you\"\n",
    "rev = ''.join(reversed(str))   #without space\n",
    "print(rev)"
   ]
  },
  {
   "cell_type": "markdown",
   "metadata": {},
   "source": [
    "- replacing the characters from the string"
   ]
  },
  {
   "cell_type": "code",
   "execution_count": 28,
   "metadata": {},
   "outputs": [],
   "source": [
    "#replacing the characters from the string\n",
    "str = \"i am srushti\"\n",
    "replace = str.replace(\"a\",'')"
   ]
  },
  {
   "cell_type": "code",
   "execution_count": 30,
   "metadata": {},
   "outputs": [
    {
     "data": {
      "text/plain": [
       "'i m srushti'"
      ]
     },
     "execution_count": 30,
     "metadata": {},
     "output_type": "execute_result"
    }
   ],
   "source": [
    "replace"
   ]
  },
  {
   "cell_type": "code",
   "execution_count": 32,
   "metadata": {},
   "outputs": [],
   "source": [
    "str =\"i am srushti\"\n",
    "str2 = str.replace(\"s\",'',1)"
   ]
  },
  {
   "cell_type": "code",
   "execution_count": 34,
   "metadata": {},
   "outputs": [
    {
     "data": {
      "text/plain": [
       "'i am rushti'"
      ]
     },
     "execution_count": 34,
     "metadata": {},
     "output_type": "execute_result"
    }
   ],
   "source": [
    "str2"
   ]
  },
  {
   "cell_type": "code",
   "execution_count": 38,
   "metadata": {},
   "outputs": [],
   "source": [
    "str2 = str.replace(\"s\",\"n\",2)"
   ]
  },
  {
   "cell_type": "code",
   "execution_count": 40,
   "metadata": {},
   "outputs": [
    {
     "data": {
      "text/plain": [
       "'i am nrunhti'"
      ]
     },
     "execution_count": 40,
     "metadata": {},
     "output_type": "execute_result"
    }
   ],
   "source": [
    "str2"
   ]
  },
  {
   "cell_type": "markdown",
   "metadata": {},
   "source": [
    "- program to print even length words in a string"
   ]
  },
  {
   "cell_type": "code",
   "execution_count": 53,
   "metadata": {},
   "outputs": [
    {
     "name": "stdout",
     "output_type": "stream",
     "text": [
      "this\n",
      "is\n",
      "python\n",
      "language\n"
     ]
    }
   ],
   "source": [
    "#program to print even length words in a string\n",
    "n = \"this is a python language\"\n",
    "s= n.split(\" \")\n",
    "for i in s:\n",
    "    if len(i)%2==0:\n",
    "      print(i)"
   ]
  },
  {
   "cell_type": "code",
   "execution_count": 51,
   "metadata": {},
   "outputs": [
    {
     "data": {
      "text/plain": [
       "['this', 'is', 'a', 'python', 'language']"
      ]
     },
     "execution_count": 51,
     "metadata": {},
     "output_type": "execute_result"
    }
   ],
   "source": [
    "s"
   ]
  },
  {
   "cell_type": "code",
   "execution_count": 55,
   "metadata": {},
   "outputs": [
    {
     "name": "stdout",
     "output_type": "stream",
     "text": [
      "this\n",
      "language\n"
     ]
    }
   ],
   "source": [
    "n = \"this is a python language\"\n",
    "s= n.split(\" \")\n",
    "for i in s:\n",
    "    if len(i)%4==0:\n",
    "        print(i)\n",
    "      "
   ]
  },
  {
   "cell_type": "code",
   "execution_count": 3,
   "metadata": {},
   "outputs": [
    {
     "name": "stdout",
     "output_type": "stream",
     "text": [
      "python\n"
     ]
    }
   ],
   "source": [
    "n = \"This is a python launguage\"\n",
    "s = n.split(\" \")\n",
    "for i in s:\n",
    "    if len(i)%6==0:\n",
    "        print(i)"
   ]
  },
  {
   "cell_type": "code",
   "execution_count": 8,
   "metadata": {},
   "outputs": [],
   "source": [
    "def printwords(s):\n",
    "    s =\"this is easy language\"\n",
    "    s=s.split(' ')\n",
    "    for i in s:\n",
    "        if len(i)%2==0:\n",
    "            print(i)\n"
   ]
  },
  {
   "cell_type": "code",
   "execution_count": 10,
   "metadata": {},
   "outputs": [
    {
     "name": "stdout",
     "output_type": "stream",
     "text": [
      "this\n",
      "is\n",
      "easy\n",
      "language\n",
      "None\n"
     ]
    }
   ],
   "source": [
    "print(printwords(s))"
   ]
  },
  {
   "cell_type": "code",
   "execution_count": 15,
   "metadata": {},
   "outputs": [
    {
     "ename": "TypeError",
     "evalue": "filter expected 2 arguments, got 1",
     "output_type": "error",
     "traceback": [
      "\u001b[1;31m---------------------------------------------------------------------------\u001b[0m",
      "\u001b[1;31mTypeError\u001b[0m                                 Traceback (most recent call last)",
      "\u001b[1;32md:\\Python\\python_practice\\002-basic-string-program.ipynb Cell 23\u001b[0m in \u001b[0;36m<cell line: 3>\u001b[1;34m()\u001b[0m\n\u001b[0;32m      <a href='vscode-notebook-cell:/d%3A/Python/python_practice/002-basic-string-program.ipynb#X32sZmlsZQ%3D%3D?line=0'>1</a>\u001b[0m n \u001b[39m=\u001b[39m \u001b[39m\"\u001b[39m\u001b[39mthis is easy language\u001b[39m\u001b[39m\"\u001b[39m\n\u001b[0;32m      <a href='vscode-notebook-cell:/d%3A/Python/python_practice/002-basic-string-program.ipynb#X32sZmlsZQ%3D%3D?line=1'>2</a>\u001b[0m s\u001b[39m=\u001b[39mn\u001b[39m.\u001b[39msplit(\u001b[39m'\u001b[39m\u001b[39m \u001b[39m\u001b[39m'\u001b[39m)\n\u001b[1;32m----> <a href='vscode-notebook-cell:/d%3A/Python/python_practice/002-basic-string-program.ipynb#X32sZmlsZQ%3D%3D?line=2'>3</a>\u001b[0m l\u001b[39m=\u001b[39m\u001b[39mlist\u001b[39m(\u001b[39mfilter\u001b[39;49m(\u001b[39mlambda\u001b[39;49;00m x : (\u001b[39mlen\u001b[39;49m(x)\u001b[39m%\u001b[39;49m\u001b[39m2\u001b[39;49m\u001b[39m==\u001b[39;49m\u001b[39m0\u001b[39;49m)\u001b[39m.\u001b[39;49ms))\n\u001b[0;32m      <a href='vscode-notebook-cell:/d%3A/Python/python_practice/002-basic-string-program.ipynb#X32sZmlsZQ%3D%3D?line=3'>4</a>\u001b[0m \u001b[39mprint\u001b[39m(s)\n",
      "\u001b[1;31mTypeError\u001b[0m: filter expected 2 arguments, got 1"
     ]
    }
   ],
   "source": [
    "n = \"this is easy language\"\n",
    "s=n.split(' ')\n",
    "l=list(filter(lambda x : (len(x)%2==0).s))\n",
    "print(s)\n"
   ]
  },
  {
   "cell_type": "code",
   "execution_count": 16,
   "metadata": {},
   "outputs": [
    {
     "name": "stdout",
     "output_type": "stream",
     "text": [
      "['this', 'is', 'easy', 'language']\n"
     ]
    }
   ],
   "source": [
    "n=\"this is easy language\"\n",
    "s=n.split(' ')\n",
    "print([x for x in s if len(x)%2==0])"
   ]
  },
  {
   "cell_type": "markdown",
   "metadata": {},
   "source": [
    "- using slicing and upper()and split()"
   ]
  },
  {
   "cell_type": "code",
   "execution_count": 25,
   "metadata": {},
   "outputs": [
    {
     "name": "stdout",
     "output_type": "stream",
     "text": [
      "string before : this is easy language\n",
      "string after: ThiS IS EasY LanguagE\n"
     ]
    }
   ],
   "source": [
    "#using slicing and upper() and split()\n",
    "n = \"this is easy language\"\n",
    "print(\"string before :\",n)\n",
    "a =n.split(' ')\n",
    "res =[]\n",
    "for i in a:\n",
    "    x=i[0].upper()+i[1:-1]+i[-1].upper()\n",
    "    res.append(x)\n",
    "res=\" \".join(res)\n",
    "print(\"string after:\",res) "
   ]
  },
  {
   "cell_type": "code",
   "execution_count": 1,
   "metadata": {},
   "outputs": [
    {
     "name": "stdout",
     "output_type": "stream",
     "text": [
      "string before: python is a programming language\n",
      "string after: PthN IS AA PogrammiG LnguaE\n"
     ]
    }
   ],
   "source": [
    "n = \"python is a programming language\"\n",
    "print(\"string before:\",n)\n",
    "a =n.split(' ')\n",
    "res =[]\n",
    "for i in a:\n",
    "    x =i[0].upper()+i[2:-2]+i[-1].upper()\n",
    "    res.append(x)\n",
    "res=' '.join(res)\n",
    "print(\"string after:\",res)"
   ]
  },
  {
   "cell_type": "markdown",
   "metadata": {},
   "source": [
    "- program to cheak if a string has at least one letter and one number"
   ]
  },
  {
   "cell_type": "code",
   "execution_count": 2,
   "metadata": {},
   "outputs": [
    {
     "name": "stdout",
     "output_type": "stream",
     "text": [
      "True\n",
      "False\n"
     ]
    }
   ],
   "source": [
    "def cheakstring(str):\n",
    "    flag_l = False\n",
    "    flag_n = False\n",
    "\n",
    "    for i in str:\n",
    "        if i.isalpha():\n",
    "            flag_l = True\n",
    "        if i.isdigit():\n",
    "            flag_n = True\n",
    "    return flag_l and flag_n\n",
    "print(cheakstring(\"they 2 are busy \"))\n",
    "print(cheakstring(\"hey there\"))\n"
   ]
  },
  {
   "cell_type": "code",
   "execution_count": 4,
   "metadata": {},
   "outputs": [
    {
     "name": "stdout",
     "output_type": "stream",
     "text": [
      "True\n"
     ]
    }
   ],
   "source": [
    "def cheakstring(str):\n",
    "    flag_l = False\n",
    "    for i in str:\n",
    "        if i.isalpha():\n",
    "          flag_l = True\n",
    "        if i.isdigit():\n",
    "            flag_l= True\n",
    "    return flag_l\n",
    "print(cheakstring(\"hey there3\")) "
   ]
  },
  {
   "cell_type": "code",
   "execution_count": 8,
   "metadata": {},
   "outputs": [
    {
     "name": "stdout",
     "output_type": "stream",
     "text": [
      "False\n"
     ]
    }
   ],
   "source": [
    "def cheakstring(str):\n",
    "    for i in str:\n",
    "        if i.isdigit():\n",
    "            flag_l =True\n",
    "        else:\n",
    "            flag_l = False\n",
    "    return flag_l\n",
    "print(cheakstring(\"hey there\"))"
   ]
  },
  {
   "cell_type": "code",
   "execution_count": 11,
   "metadata": {},
   "outputs": [
    {
     "name": "stdout",
     "output_type": "stream",
     "text": [
      "False\n"
     ]
    }
   ],
   "source": [
    "def chaekstring(str):\n",
    "    for i in str:\n",
    "        if i.isalpha():\n",
    "            flag_n=True\n",
    "        else:\n",
    "            flag_n= False\n",
    "    return flag_n\n",
    "print(cheakstring(\"hey there \"))"
   ]
  },
  {
   "cell_type": "code",
   "execution_count": 1,
   "metadata": {},
   "outputs": [],
   "source": [
    "def cheak(string):\n",
    "    string=string.lower()\n",
    "    vowel_1 =set('aeiou')\n",
    "    string_1= set({})\n",
    "    for character_1 in string:\n",
    "        if character_1 in vowel_1:\n",
    "            string_1.add(charcter_1)\n",
    "        else:\n",
    "            pass\n",
    "\n",
    "        if len(string_1)==len(vowel_1):\n",
    "            print(\"the string is accepted\")\n",
    "        else:\n",
    "            print(\"the string is not accepted\")\n",
    "            \n",
    "            "
   ]
  },
  {
   "cell_type": "code",
   "execution_count": null,
   "metadata": {},
   "outputs": [],
   "source": []
  }
 ],
 "metadata": {
  "kernelspec": {
   "display_name": "Python 3.9.12 ('base')",
   "language": "python",
   "name": "python3"
  },
  "language_info": {
   "codemirror_mode": {
    "name": "ipython",
    "version": 3
   },
   "file_extension": ".py",
   "mimetype": "text/x-python",
   "name": "python",
   "nbconvert_exporter": "python",
   "pygments_lexer": "ipython3",
   "version": "3.9.12"
  },
  "orig_nbformat": 4,
  "vscode": {
   "interpreter": {
    "hash": "daee99e6893c0f9b4fa2cee7c11289a4ac1788238c3c1d2caa83921531d37465"
   }
  }
 },
 "nbformat": 4,
 "nbformat_minor": 2
}
