{
 "cells": [
  {
   "cell_type": "markdown",
   "metadata": {},
   "source": [
    "- 1.cheak if a list contain an element"
   ]
  },
  {
   "cell_type": "code",
   "execution_count": 1,
   "metadata": {},
   "outputs": [
    {
     "data": {
      "text/plain": [
       "True"
      ]
     },
     "execution_count": 1,
     "metadata": {},
     "output_type": "execute_result"
    }
   ],
   "source": [
    "li = [ 1,3,5,\"a\",\"b\"]\n",
    "\"a\" in li\n"
   ]
  },
  {
   "cell_type": "markdown",
   "metadata": {},
   "source": [
    "- 2.python program to interchange first and last elements in a list"
   ]
  },
  {
   "cell_type": "code",
   "execution_count": 1,
   "metadata": {},
   "outputs": [
    {
     "name": "stdout",
     "output_type": "stream",
     "text": [
      "[78, 34, 56, 82, 12]\n"
     ]
    }
   ],
   "source": [
    "def swaplist(newlist):\n",
    "    size =len(newlist)\n",
    "    temp =newlist[0]\n",
    "    newlist[0]=newlist[size-1]\n",
    "    newlist[size-1]=temp \n",
    "    return newlist\n",
    "newlist =[12,34,56,82,78]\n",
    "print(swaplist(newlist))"
   ]
  },
  {
   "cell_type": "markdown",
   "metadata": {},
   "source": [
    "- 3.program to swap the elements at give position "
   ]
  },
  {
   "cell_type": "code",
   "execution_count": 6,
   "metadata": {},
   "outputs": [
    {
     "name": "stdout",
     "output_type": "stream",
     "text": [
      "[65, 45, 23, 76]\n"
     ]
    }
   ],
   "source": [
    "def swapPosition(list,pos1,pos2):\n",
    "    list[pos1],list[pos2]=list[pos2],list[pos1]\n",
    "\n",
    "    return list\n",
    "list =[23,45,65,76]\n",
    "pos1,pos2 = 1,3\n",
    "print(swapPosition(list,pos1-1,pos2-1))"
   ]
  },
  {
   "cell_type": "code",
   "execution_count": 8,
   "metadata": {},
   "outputs": [
    {
     "name": "stdout",
     "output_type": "stream",
     "text": [
      "[14, 34, 34, 45, 67, 123]\n"
     ]
    }
   ],
   "source": [
    "def swapposition(list,pos1,pos2,pos3):\n",
    "    list[pos1],list[pos3]=list[pos3],list[pos2]\n",
    "    return list\n",
    "list =[12,34,14,45,67,123]\n",
    "pos1,pos2,pos3 =1,2,3\n",
    "print(swapposition(list,pos1-1,pos2-1,pos3-1))"
   ]
  },
  {
   "cell_type": "code",
   "execution_count": 10,
   "metadata": {},
   "outputs": [
    {
     "name": "stdout",
     "output_type": "stream",
     "text": [
      "[14, 12, 34, 45, 67, 123]\n"
     ]
    }
   ],
   "source": [
    "def swapposition(list,pos1,pos2,pos3):\n",
    "    list[pos1],list[pos2],list[pos3]=list[pos3],list[pos1],list[pos2]\n",
    "    return list\n",
    "list =[12,34,14,45,67,123]\n",
    "pos1,pos2,pos3 =1,2,3\n",
    "print(swapposition(list,pos1-1,pos2-1,pos3-1))"
   ]
  },
  {
   "cell_type": "code",
   "execution_count": 18,
   "metadata": {},
   "outputs": [
    {
     "name": "stdout",
     "output_type": "stream",
     "text": [
      "[758, 232, 785, 937, 121, 786]\n"
     ]
    }
   ],
   "source": [
    "def swapposition(list,pos1,pos3,pos5):\n",
    "    list[pos1],list[pos3],list[pos5] =list[pos3],list[pos5],list[pos1]\n",
    "     \n",
    "    return list\n",
    "list=[121,232,758,937,785,786]\n",
    "pos1,pos3,pos5 =1,3,5\n",
    "print(swapposition(list,pos1-1,pos3-1,pos5-1))"
   ]
  },
  {
   "cell_type": "code",
   "execution_count": 20,
   "metadata": {},
   "outputs": [
    {
     "name": "stdout",
     "output_type": "stream",
     "text": [
      "[758, 232, 785, 937, 758, 786]\n"
     ]
    }
   ],
   "source": [
    "def swapposition(list,pos1,pos3,pos5):\n",
    "    list[pos1] =list[pos3]\n",
    "    list[pos3] =list[pos5]\n",
    "    list[pos5] =list[pos1]\n",
    "    return list\n",
    "list=[121,232,758,937,785,786]\n",
    "pos1,pos3,pos5 =1,3,5\n",
    "print(swapposition(list,pos1-1,pos3-1,pos5-1))"
   ]
  },
  {
   "cell_type": "code",
   "execution_count": 2,
   "metadata": {},
   "outputs": [
    {
     "name": "stdout",
     "output_type": "stream",
     "text": [
      "[134, 134, 134, 156, 176, 987]\n"
     ]
    }
   ],
   "source": [
    "def swapposition(list,pos1,pos2,pos3):\n",
    "    list[pos1]=list[pos3]\n",
    "    list[pos2]=list[pos1]\n",
    "    list[pos3]=list[pos2]\n",
    "    return list\n",
    "list =[123,45,134,156,176,987]\n",
    "pos1,pos2,pos3 =1,2,3\n",
    "print(swapposition(list,pos1-1,pos2-1,pos3-1))"
   ]
  },
  {
   "cell_type": "markdown",
   "metadata": {},
   "source": [
    "- multiply all the numbers in the list"
   ]
  },
  {
   "cell_type": "code",
   "execution_count": 2,
   "metadata": {},
   "outputs": [
    {
     "name": "stdout",
     "output_type": "stream",
     "text": [
      "1\n",
      "2\n"
     ]
    }
   ],
   "source": [
    "def multiplylist(mylist):\n",
    "    result = 1\n",
    "    for x in mylist :\n",
    "        result =result * x\n",
    "        return result\n",
    "l1 =[1,2,3]\n",
    "l2 =[2,4,6]\n",
    "print(multiplylist(l1))\n",
    "print(multiplylist(l2))\n"
   ]
  },
  {
   "cell_type": "code",
   "execution_count": 3,
   "metadata": {},
   "outputs": [
    {
     "name": "stdout",
     "output_type": "stream",
     "text": [
      "6\n",
      "48\n"
     ]
    }
   ],
   "source": [
    "import numpy\n",
    "list1 = [1,2,3]\n",
    "list2 = [2,4,6]\n",
    "result1 =numpy.prod(list1)\n",
    "result2 =numpy.prod(list2)\n",
    "print(result1)\n",
    "print(result2)"
   ]
  }
 ],
 "metadata": {
  "kernelspec": {
   "display_name": "Python 3.9.12 ('base')",
   "language": "python",
   "name": "python3"
  },
  "language_info": {
   "codemirror_mode": {
    "name": "ipython",
    "version": 3
   },
   "file_extension": ".py",
   "mimetype": "text/x-python",
   "name": "python",
   "nbconvert_exporter": "python",
   "pygments_lexer": "ipython3",
   "version": "3.9.12"
  },
  "orig_nbformat": 4,
  "vscode": {
   "interpreter": {
    "hash": "daee99e6893c0f9b4fa2cee7c11289a4ac1788238c3c1d2caa83921531d37465"
   }
  }
 },
 "nbformat": 4,
 "nbformat_minor": 2
}
