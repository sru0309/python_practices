{
 "cells": [
  {
   "cell_type": "markdown",
   "metadata": {},
   "source": [
    "- Sets"
   ]
  },
  {
   "cell_type": "code",
   "execution_count": 9,
   "metadata": {},
   "outputs": [
    {
     "name": "stdout",
     "output_type": "stream",
     "text": [
      "<class 'dict'>\n",
      "<class 'set'>\n"
     ]
    }
   ],
   "source": [
    "#difference between sets and dictionary\n",
    "#initialze a with {}\n",
    "a = {}\n",
    "\n",
    "#cheak data type of a\n",
    "print(type(a))\n",
    "\n",
    "#initialize a with set()\n",
    "a=set()\n",
    "\n",
    "#cheak data type of a\n",
    "print(type(a))"
   ]
  },
  {
   "cell_type": "code",
   "execution_count": 1,
   "metadata": {},
   "outputs": [
    {
     "name": "stdout",
     "output_type": "stream",
     "text": [
      "[{'a', 'b', 'c'}]\n"
     ]
    }
   ],
   "source": [
    "myset = [{'a','b','c'}]\n",
    "print(myset)"
   ]
  },
  {
   "cell_type": "code",
   "execution_count": 3,
   "metadata": {},
   "outputs": [
    {
     "name": "stdout",
     "output_type": "stream",
     "text": [
      "{'c', 'b', 'a'}\n"
     ]
    }
   ],
   "source": [
    "myset = set([\"a\",\"b\",\"c\"])\n",
    "print(myset)"
   ]
  },
  {
   "cell_type": "code",
   "execution_count": 4,
   "metadata": {},
   "outputs": [
    {
     "name": "stdout",
     "output_type": "stream",
     "text": [
      "{'c', 'd', 'b', 'a'}\n"
     ]
    }
   ],
   "source": [
    "myset.add(\"d\")\n",
    "print(myset)"
   ]
  },
  {
   "cell_type": "code",
   "execution_count": 7,
   "metadata": {},
   "outputs": [
    {
     "name": "stdout",
     "output_type": "stream",
     "text": [
      "{'d', 'e', 'a', 'c', 'b'}\n"
     ]
    }
   ],
   "source": [
    "myset.add(\"e\")\n",
    "print(myset)"
   ]
  },
  {
   "cell_type": "code",
   "execution_count": 8,
   "metadata": {},
   "outputs": [
    {
     "name": "stdout",
     "output_type": "stream",
     "text": [
      "{'white', 'black', 'green'}\n"
     ]
    }
   ],
   "source": [
    "colours = set([\"black\",\"white\",\"green\"])\n",
    "print(colours)"
   ]
  },
  {
   "cell_type": "code",
   "execution_count": 10,
   "metadata": {},
   "outputs": [
    {
     "name": "stdout",
     "output_type": "stream",
     "text": [
      "{'white', 'black', 'green', 'grey'}\n",
      "{'pink', 'black', 'green', 'white', 'grey'}\n"
     ]
    }
   ],
   "source": [
    "colours.add(\"grey\")\n",
    "print(colours)\n",
    "colours.add(\"pink\")\n",
    "print(colours)"
   ]
  },
  {
   "cell_type": "code",
   "execution_count": 14,
   "metadata": {},
   "outputs": [
    {
     "name": "stdout",
     "output_type": "stream",
     "text": [
      "{'green', 'white', 'grey'}\n"
     ]
    }
   ],
   "source": [
    "colours.pop()\n",
    "print(colours)"
   ]
  },
  {
   "cell_type": "code",
   "execution_count": 6,
   "metadata": {},
   "outputs": [
    {
     "name": "stdout",
     "output_type": "stream",
     "text": [
      "unioun using union() function\n",
      "{'manti', 'ganya', 'toni', 'chotashubhya', 'nikita', 'acchi', 'saurabh', 'gavi', 'moni', 'ad', 'shubham', 'gaurya', 'dhanya'}\n",
      "union using '|' operator \n",
      "{'manti', 'ganya', 'toni', 'chotashubhya', 'nikita', 'acchi', 'saurabh', 'gavi', 'moni', 'ad', 'shubham', 'gaurya', 'dhanya'}\n"
     ]
    }
   ],
   "source": [
    "#python program to demonstrate union of two set\n",
    "Boys = {\"shubham\",\"saurabh\",\"dhanya\",\"chotashubhya\",\"gaurya\",\"ad\",\"ganya\"}\n",
    "Girls = {\"nikita\",\"toni\",\"acchi\",\"gavi\",\"manti\",\"moni\"}\n",
    "#using union() function\n",
    "friends = Boys.union(Girls)\n",
    "print(\"unioun using union() function\")\n",
    "print(friends) \n",
    "\n",
    "#union using \"|\"\n",
    "friends =Boys|Girls\n",
    "print(\"union using '|' operator \")\n",
    "print(friends) "
   ]
  },
  {
   "cell_type": "code",
   "execution_count": 7,
   "metadata": {},
   "outputs": [
    {
     "name": "stdout",
     "output_type": "stream",
     "text": [
      "{1, 2, 3}\n",
      "{'hello', (1, 2, 3), 4.5}\n"
     ]
    }
   ],
   "source": [
    "#different type of sets in python\n",
    "#sets of intgers\n",
    "my_set ={1,2,3}\n",
    "print(my_set)\n",
    "\n",
    "#set of mixed datatypes\n",
    "my_set ={ 4.5,\"hello\",(1,2,3)}\n",
    "print(my_set)\n"
   ]
  },
  {
   "cell_type": "code",
   "execution_count": 3,
   "metadata": {},
   "outputs": [
    {
     "ename": "TypeError",
     "evalue": "'tuple' object is not callable",
     "output_type": "error",
     "traceback": [
      "\u001b[1;31m---------------------------------------------------------------------------\u001b[0m",
      "\u001b[1;31mTypeError\u001b[0m                                 Traceback (most recent call last)",
      "\u001b[1;32md:\\Python\\python_practice\\07-python-sets.ipynb Cell 12\u001b[0m in \u001b[0;36m<cell line: 1>\u001b[1;34m()\u001b[0m\n\u001b[1;32m----> <a href='vscode-notebook-cell:/d%3A/Python/python_practice/07-python-sets.ipynb#X14sZmlsZQ%3D%3D?line=0'>1</a>\u001b[0m \u001b[39mset\u001b[39m \u001b[39m=\u001b[39m\u001b[39mset\u001b[39;49m(\u001b[39m1\u001b[39;49m,\u001b[39m3\u001b[39;49m,\u001b[39m2\u001b[39;49m,\u001b[39m4\u001b[39;49m,\u001b[39m5\u001b[39;49m,\u001b[39m4\u001b[39;49m,\u001b[39m3\u001b[39;49m,\u001b[39m7\u001b[39;49m,\u001b[39m8\u001b[39;49m,\u001b[39m9\u001b[39;49m)\n\u001b[0;32m      <a href='vscode-notebook-cell:/d%3A/Python/python_practice/07-python-sets.ipynb#X14sZmlsZQ%3D%3D?line=1'>2</a>\u001b[0m \u001b[39mprint\u001b[39m(\u001b[39mset\u001b[39m)\n",
      "\u001b[1;31mTypeError\u001b[0m: 'tuple' object is not callable"
     ]
    }
   ],
   "source": [
    "set =set(1,3,2,4,5,4,3,7,8,9)\n",
    "print(set)"
   ]
  },
  {
   "cell_type": "code",
   "execution_count": null,
   "metadata": {},
   "outputs": [],
   "source": []
  }
 ],
 "metadata": {
  "kernelspec": {
   "display_name": "Python 3.9.12 ('base')",
   "language": "python",
   "name": "python3"
  },
  "language_info": {
   "codemirror_mode": {
    "name": "ipython",
    "version": 3
   },
   "file_extension": ".py",
   "mimetype": "text/x-python",
   "name": "python",
   "nbconvert_exporter": "python",
   "pygments_lexer": "ipython3",
   "version": "3.9.12"
  },
  "orig_nbformat": 4,
  "vscode": {
   "interpreter": {
    "hash": "daee99e6893c0f9b4fa2cee7c11289a4ac1788238c3c1d2caa83921531d37465"
   }
  }
 },
 "nbformat": 4,
 "nbformat_minor": 2
}
