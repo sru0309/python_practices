{
 "cells": [
  {
   "cell_type": "markdown",
   "metadata": {},
   "source": [
    "- Write a programe to demonstrate different numbers data types in python"
   ]
  },
  {
   "cell_type": "code",
   "execution_count": 1,
   "metadata": {},
   "outputs": [
    {
     "name": "stdout",
     "output_type": "stream",
     "text": [
      "a is a Type of  <class 'int'>\n",
      "b is a Type of  <class 'float'>\n",
      "c is a Type of  <class 'complex'>\n"
     ]
    }
   ],
   "source": [
    "a = 10      # integer datatypes\n",
    "b = 11.6    # float datatypes\n",
    "c = 2.05j   # complex numbers \n",
    "\n",
    "print(\"a is a Type of \", type(a))\n",
    "print(\"b is a Type of \",type(b))\n",
    "print(\"c is a Type of \",type(c))"
   ]
  },
  {
   "cell_type": "markdown",
   "metadata": {},
   "source": [
    "- Write a program to perform different arithmetic operation on numbers in python "
   ]
  },
  {
   "cell_type": "code",
   "execution_count": 2,
   "metadata": {},
   "outputs": [
    {
     "name": "stdout",
     "output_type": "stream",
     "text": [
      "Addition of a and b : 6\n",
      "substraction of a and b : -2\n",
      "multiplication of a and b : 8\n",
      "division of a and b : 0.5\n"
     ]
    }
   ],
   "source": [
    "a = int(input(\"enter a number : \"))\n",
    "b = int(input(\"enter a number : \"))\n",
    "print(\"Addition of a and b :\",a+b)\n",
    "print(\"substraction of a and b :\",a-b)\n",
    "print(\"multiplication of a and b :\",a*b)\n",
    "print(\"division of a and b :\",a/b)"
   ]
  }
 ],
 "metadata": {
  "kernelspec": {
   "display_name": "Python 3.9.12 ('base')",
   "language": "python",
   "name": "python3"
  },
  "language_info": {
   "codemirror_mode": {
    "name": "ipython",
    "version": 3
   },
   "file_extension": ".py",
   "mimetype": "text/x-python",
   "name": "python",
   "nbconvert_exporter": "python",
   "pygments_lexer": "ipython3",
   "version": "3.9.12"
  },
  "orig_nbformat": 4,
  "vscode": {
   "interpreter": {
    "hash": "daee99e6893c0f9b4fa2cee7c11289a4ac1788238c3c1d2caa83921531d37465"
   }
  }
 },
 "nbformat": 4,
 "nbformat_minor": 2
}
