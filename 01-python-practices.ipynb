{
 "cells": [
  {
   "cell_type": "code",
   "execution_count": 3,
   "id": "2d65d399",
   "metadata": {},
   "outputs": [
    {
     "name": "stdout",
     "output_type": "stream",
     "text": [
      "2\n",
      "3\n",
      "4\n",
      "5\n",
      "6\n",
      "7\n",
      "8\n",
      "9\n",
      "10\n",
      "11\n"
     ]
    }
   ],
   "source": []
  },
  {
   "cell_type": "code",
   "execution_count": null,
   "id": "f6eff556",
   "metadata": {},
   "outputs": [],
   "source": []
  },
  {
   "cell_type": "code",
   "execution_count": 7,
   "id": "31275093",
   "metadata": {},
   "outputs": [
    {
     "name": "stdout",
     "output_type": "stream",
     "text": [
      "1  \n",
      "1  \n",
      "2  \n",
      "1  \n",
      "2  \n",
      "3  \n",
      "1  \n",
      "2  \n",
      "3  \n",
      "4  \n",
      "1  \n",
      "2  \n",
      "3  \n",
      "4  \n",
      "5  \n"
     ]
    }
   ],
   "source": [
    "row=5\n",
    "for i in range(1,row+1,1):\n",
    "    for j in range(1,i+1):\n",
    "        print(j,end=' ')\n",
    "        print(' ')"
   ]
  },
  {
   "cell_type": "code",
   "execution_count": 10,
   "id": "bbbb6ec8",
   "metadata": {},
   "outputs": [
    {
     "name": "stdout",
     "output_type": "stream",
     "text": [
      "enter a number:10\n",
      "10\n",
      "sum is : <built-in function sum>\n"
     ]
    }
   ],
   "source": [
    "#calculate the sum of all numbers from 1 to given number\n",
    "s=0\n",
    "n=int(input('enter a number:'))\n",
    "for i in range(1,n+1,1):\n",
    "   s+=1\n",
    "print(n)\n",
    "print('sum is :',sum)\n",
    "    \n"
   ]
  },
  {
   "cell_type": "code",
   "execution_count": 12,
   "id": "cd89abc0",
   "metadata": {},
   "outputs": [
    {
     "name": "stdout",
     "output_type": "stream",
     "text": [
      "enter a number:9\n",
      "sum is: 45\n"
     ]
    }
   ],
   "source": [
    "n=int(input(\"enter a number:\"))\n",
    "x=sum(range(1,n+1))\n",
    "print('sum is:',x)"
   ]
  },
  {
   "cell_type": "code",
   "execution_count": 13,
   "id": "441fa7c9",
   "metadata": {},
   "outputs": [
    {
     "name": "stdout",
     "output_type": "stream",
     "text": [
      "2\n",
      "4\n",
      "6\n",
      "8\n",
      "10\n",
      "12\n",
      "14\n",
      "16\n",
      "18\n",
      "20\n"
     ]
    }
   ],
   "source": [
    "n=2\n",
    "for i in range(1,11,1):\n",
    "    p=n*i\n",
    "    print(p)"
   ]
  },
  {
   "cell_type": "code",
   "execution_count": 14,
   "id": "2f2d1715",
   "metadata": {},
   "outputs": [
    {
     "name": "stdout",
     "output_type": "stream",
     "text": [
      "123\n",
      "246\n",
      "369\n",
      "492\n",
      "615\n",
      "738\n",
      "861\n",
      "984\n",
      "1107\n",
      "1230\n"
     ]
    }
   ],
   "source": [
    "n=123\n",
    "for i in range(1,11,1):\n",
    "    p=n*i\n",
    "    print(p)"
   ]
  },
  {
   "cell_type": "code",
   "execution_count": 1,
   "id": "c2847e7f",
   "metadata": {},
   "outputs": [
    {
     "name": "stdout",
     "output_type": "stream",
     "text": [
      "45\n",
      "65\n"
     ]
    }
   ],
   "source": [
    "numbers=[45,65,78,49,300]\n",
    "for item in numbers:\n",
    "    if item >250:\n",
    "        break\n",
    "    elif item>78:\n",
    "        continue\n",
    "    elif item % 5==0:\n",
    "    \n",
    "       print(item)"
   ]
  },
  {
   "cell_type": "code",
   "execution_count": 20,
   "id": "20b59aaf",
   "metadata": {},
   "outputs": [
    {
     "name": "stdout",
     "output_type": "stream",
     "text": [
      "total digits are:  22\n"
     ]
    }
   ],
   "source": [
    "#count the total number in digits in a number\n",
    "number=9876565437645768798808\n",
    "count=0\n",
    "while number !=0:\n",
    "    number=number//10\n",
    "    count=count+1\n",
    "print(\"total digits are: \",count)\n"
   ]
  },
  {
   "cell_type": "markdown",
   "id": "9f56466c",
   "metadata": {},
   "source": []
  },
  {
   "cell_type": "code",
   "execution_count": 21,
   "id": "8ca18bbb",
   "metadata": {},
   "outputs": [
    {
     "name": "stdout",
     "output_type": "stream",
     "text": [
      "5 \n",
      "4 \n",
      "3 \n",
      "2 \n",
      "1 \n",
      "4 \n",
      "3 \n",
      "2 \n",
      "1 \n",
      "3 \n",
      "2 \n",
      "1 \n",
      "2 \n",
      "1 \n",
      "1 \n"
     ]
    }
   ],
   "source": [
    "#print the pattern\n",
    "n=5\n",
    "k=5\n",
    "for i in range(0,n+1):\n",
    "    for j in range(k-i,0,-1):\n",
    "        print(j,end=' ')\n",
    "        print()\n",
    "    \n"
   ]
  },
  {
   "cell_type": "code",
   "execution_count": 22,
   "id": "b29d9631",
   "metadata": {},
   "outputs": [
    {
     "name": "stdout",
     "output_type": "stream",
     "text": [
      "15\n",
      "14\n",
      "13\n",
      "12\n",
      "11\n"
     ]
    }
   ],
   "source": [
    "#print list in reverse order using a loop\n",
    "list1=[11,12,13,14,15]\n",
    "list2=reversed(list1)\n",
    "for item in list2:\n",
    "    print(item)"
   ]
  },
  {
   "cell_type": "code",
   "execution_count": null,
   "id": "cc8b6bcc",
   "metadata": {},
   "outputs": [],
   "source": []
  }
 ],
 "metadata": {
  "kernelspec": {
   "display_name": "Python 3 (ipykernel)",
   "language": "python",
   "name": "python3"
  },
  "language_info": {
   "codemirror_mode": {
    "name": "ipython",
    "version": 3
   },
   "file_extension": ".py",
   "mimetype": "text/x-python",
   "name": "python",
   "nbconvert_exporter": "python",
   "pygments_lexer": "ipython3",
   "version": "3.9.12"
  },
  "vscode": {
   "interpreter": {
    "hash": "daee99e6893c0f9b4fa2cee7c11289a4ac1788238c3c1d2caa83921531d37465"
   }
  }
 },
 "nbformat": 4,
 "nbformat_minor": 5
}
