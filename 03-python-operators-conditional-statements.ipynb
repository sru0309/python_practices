{
 "cells": [
  {
   "cell_type": "code",
   "execution_count": 1,
   "id": "e6aab1c0",
   "metadata": {},
   "outputs": [
    {
     "name": "stdout",
     "output_type": "stream",
     "text": [
      "6\n"
     ]
    }
   ],
   "source": [
    "#using +\n",
    "x=2\n",
    "y=4\n",
    "print(x+y)"
   ]
  },
  {
   "cell_type": "code",
   "execution_count": 2,
   "id": "f190ce4a",
   "metadata": {},
   "outputs": [
    {
     "name": "stdout",
     "output_type": "stream",
     "text": [
      "6\n",
      "2\n",
      "8\n",
      "0.5\n",
      "0\n",
      "16\n"
     ]
    }
   ],
   "source": [
    "#Arithemetic operators\n",
    "\n",
    "x=2\n",
    "y=4\n",
    "\n",
    "#using +\n",
    "print(x+y)\n",
    "\n",
    "#using -\n",
    "print(y-x)\n",
    "\n",
    "#using *\n",
    "print(x*y)\n",
    "\n",
    "#using /\n",
    "print(x/y)\n",
    "\n",
    "#using //\n",
    "print(x//y)\n",
    "\n",
    "#using **\n",
    "print(x**y)"
   ]
  },
  {
   "cell_type": "code",
   "execution_count": 10,
   "id": "51f25b78",
   "metadata": {},
   "outputs": [
    {
     "name": "stdout",
     "output_type": "stream",
     "text": [
      "17\n",
      "12\n",
      "24\n",
      "12.0\n",
      "144.0\n",
      "72.0\n"
     ]
    }
   ],
   "source": [
    "#assignment operators\n",
    "a = 15\n",
    "#using +=\n",
    "a += 2\n",
    "print(a)\n",
    "\n",
    "#using -=\n",
    "a -= 5\n",
    "print(a)\n",
    "\n",
    "#using *=\n",
    "a *= 2\n",
    "print(a)\n",
    "\n",
    "#using /=\n",
    "a /= 2\n",
    "print(a)\n",
    "\n",
    "#using **=\n",
    "a**= 2\n",
    "print(a)\n",
    "\n",
    "#using //=\n",
    "a //= 2\n",
    "print(a)"
   ]
  },
  {
   "cell_type": "code",
   "execution_count": 13,
   "id": "24ac7d6e",
   "metadata": {},
   "outputs": [
    {
     "name": "stdout",
     "output_type": "stream",
     "text": [
      "x and y is False\n",
      "x and y is True\n",
      "not x is  False\n",
      "not y is True\n"
     ]
    }
   ],
   "source": [
    "#Logical operators\n",
    "x = True\n",
    "y = False\n",
    "\n",
    "print('x and y is',x and y)\n",
    "print('x and y is',x or y)\n",
    "print('not x is ', not x )\n",
    "print('not y is',not y)"
   ]
  },
  {
   "cell_type": "code",
   "execution_count": 3,
   "id": "87a23437",
   "metadata": {},
   "outputs": [
    {
     "name": "stdout",
     "output_type": "stream",
     "text": [
      "True\n"
     ]
    }
   ],
   "source": [
    "#Membership operators\n",
    "x = 'hello world'\n",
    "\n",
    "print('h'in x)"
   ]
  },
  {
   "cell_type": "code",
   "execution_count": 2,
   "id": "9a5774ec",
   "metadata": {},
   "outputs": [
    {
     "name": "stdout",
     "output_type": "stream",
     "text": [
      "b is greater than a\n"
     ]
    }
   ],
   "source": [
    "#conditional statements\n",
    "#using if\n",
    "a=4\n",
    "b=6\n",
    "if a<b:\n",
    "    print('b is greater than a')"
   ]
  },
  {
   "cell_type": "code",
   "execution_count": 3,
   "id": "b8ba8fac",
   "metadata": {},
   "outputs": [
    {
     "name": "stdout",
     "output_type": "stream",
     "text": [
      "b is greater than a\n"
     ]
    }
   ],
   "source": [
    "#using if-else\n",
    "a=35\n",
    "b=45\n",
    "if a<b:\n",
    "    print('b is greater than a')\n",
    "else:\n",
    "    print('a is greater than b')    "
   ]
  },
  {
   "cell_type": "code",
   "execution_count": 2,
   "id": "31c22d5f",
   "metadata": {},
   "outputs": [
    {
     "name": "stdout",
     "output_type": "stream",
     "text": [
      "a is greater than 5 \n"
     ]
    }
   ],
   "source": [
    "#using if-elif-else\n",
    "a=10\n",
    "if (a == 0):\n",
    "    print(\"a is equal to zero\")\n",
    "elif (a>5):\n",
    "    print(\"a is greater than 5 \")\n",
    "else:\n",
    "    print(\"a is smaller than 5\")      \n"
   ]
  },
  {
   "cell_type": "code",
   "execution_count": 6,
   "id": "037e5e63",
   "metadata": {},
   "outputs": [
    {
     "name": "stdout",
     "output_type": "stream",
     "text": [
      "number is negative\n"
     ]
    }
   ],
   "source": [
    "#using if-elif-else\n",
    "number= -6\n",
    "if (number >= 0):                     #false statement\n",
    "    print(\"number is equal to zero\")\n",
    "elif (number > 0):\n",
    "    print (\"number is positive\")\n",
    "else:\n",
    "    print(\"number is negative\")        #true statement"
   ]
  },
  {
   "cell_type": "code",
   "execution_count": 1,
   "id": "63489a18",
   "metadata": {},
   "outputs": [
    {
     "name": "stdout",
     "output_type": "stream",
     "text": [
      "enter the age :16\n",
      "not eligible\n"
     ]
    }
   ],
   "source": [
    "#program to find age eligibility\n",
    "age =input(\"enter the age :\")\n",
    "if age.isnumeric():\n",
    "    age = int(age)\n",
    "    if age >=18 :\n",
    "        print(\"eligible\")\n",
    "    else:\n",
    "     print(\"not eligible\")\n",
    "else:\n",
    "    print(\"please enter age(numeric value) only\")          "
   ]
  },
  {
   "cell_type": "code",
   "execution_count": 2,
   "id": "7e1ee9bc",
   "metadata": {},
   "outputs": [
    {
     "name": "stdout",
     "output_type": "stream",
     "text": [
      "b is greater than a\n"
     ]
    }
   ],
   "source": [
    "a = 55\n",
    "b = 55\n",
    "if b>=a:\n",
    "    print(\"b is greater than a\")\n",
    "elif a==b:\n",
    "    print(\"b is equal to a\")    "
   ]
  },
  {
   "cell_type": "markdown",
   "id": "6bf111ff",
   "metadata": {},
   "source": []
  },
  {
   "cell_type": "code",
   "execution_count": 1,
   "id": "0906ddc7",
   "metadata": {},
   "outputs": [
    {
     "name": "stdout",
     "output_type": "stream",
     "text": [
      "number is odd\n",
      "number is even\n",
      "number is odd\n",
      "number is even\n",
      "number is odd\n",
      "number is even\n",
      "number is odd\n",
      "number is even\n",
      "number is odd\n",
      "number is even\n"
     ]
    }
   ],
   "source": [
    "list=[11,12,13,14,15,16,17,18,19,20]\n",
    "for i in list:\n",
    "    i=i%2\n",
    "    if i==0:\n",
    "        print(\"number is even\")\n",
    "    else:\n",
    "        print(\"number is odd\")    "
   ]
  },
  {
   "cell_type": "code",
   "execution_count": null,
   "id": "9d699bfb",
   "metadata": {},
   "outputs": [],
   "source": []
  }
 ],
 "metadata": {
  "kernelspec": {
   "display_name": "Python 3 (ipykernel)",
   "language": "python",
   "name": "python3"
  },
  "language_info": {
   "codemirror_mode": {
    "name": "ipython",
    "version": 3
   },
   "file_extension": ".py",
   "mimetype": "text/x-python",
   "name": "python",
   "nbconvert_exporter": "python",
   "pygments_lexer": "ipython3",
   "version": "3.9.12 (main, Apr  4 2022, 05:22:27) [MSC v.1916 64 bit (AMD64)]"
  },
  "vscode": {
   "interpreter": {
    "hash": "daee99e6893c0f9b4fa2cee7c11289a4ac1788238c3c1d2caa83921531d37465"
   }
  }
 },
 "nbformat": 4,
 "nbformat_minor": 5
}
