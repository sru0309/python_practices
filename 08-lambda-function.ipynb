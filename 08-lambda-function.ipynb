{
 "cells": [
  {
   "cell_type": "code",
   "execution_count": 2,
   "metadata": {},
   "outputs": [],
   "source": [
    "double =lambda x :x*2"
   ]
  },
  {
   "cell_type": "code",
   "execution_count": 4,
   "metadata": {},
   "outputs": [
    {
     "name": "stdout",
     "output_type": "stream",
     "text": [
      "[2, 4, 56]\n"
     ]
    }
   ],
   "source": [
    "mylist = [1,2,3,4,56,745]\n",
    "newlist = list(filter(lambda x: (x%2==0),mylist))\n",
    "print(newlist)"
   ]
  },
  {
   "cell_type": "code",
   "execution_count": 1,
   "metadata": {},
   "outputs": [
    {
     "name": "stdout",
     "output_type": "stream",
     "text": [
      "[1, 2, 3, 4, 5, 6, 7, 8, 9]\n"
     ]
    }
   ],
   "source": [
    "mylist =[1,2,3,4,5,6,7,8,9]\n",
    "even_list = list(filter(lambda x:(x%2==0),mylist))\n",
    "print(mylist)"
   ]
  },
  {
   "cell_type": "code",
   "execution_count": 1,
   "metadata": {},
   "outputs": [
    {
     "name": "stdout",
     "output_type": "stream",
     "text": [
      "WELCOME TO TOPS\n"
     ]
    }
   ],
   "source": [
    "str = \"welcome to tops\"\n",
    "upper =lambda string: string.upper()\n",
    "print(upper(str))"
   ]
  },
  {
   "cell_type": "code",
   "execution_count": 3,
   "metadata": {},
   "outputs": [
    {
     "name": "stdout",
     "output_type": "stream",
     "text": [
      "SPOT OT EMOCLEW\n"
     ]
    }
   ],
   "source": [
    "str=\"welcome to tops\"\n",
    "rev_upper =lambda string: string.upper()[::-1]\n",
    "print(rev_upper(str))"
   ]
  },
  {
   "cell_type": "code",
   "execution_count": 1,
   "metadata": {},
   "outputs": [
    {
     "name": "stdout",
     "output_type": "stream",
     "text": [
      "spot ot emoclew\n"
     ]
    }
   ],
   "source": [
    "str =\"welcome to tops\"\n",
    "rev= lambda string:string[::-1]\n",
    "print(rev(str))"
   ]
  },
  {
   "cell_type": "code",
   "execution_count": 2,
   "metadata": {},
   "outputs": [
    {
     "name": "stdout",
     "output_type": "stream",
     "text": [
      "SPOT OT EMOCLEW\n"
     ]
    }
   ],
   "source": [
    "rev_upper=lambda string:string.upper()[::-1]\n",
    "print(rev_upper(str))"
   ]
  },
  {
   "cell_type": "code",
   "execution_count": 3,
   "metadata": {},
   "outputs": [
    {
     "name": "stdout",
     "output_type": "stream",
     "text": [
      "spot ot emoclew\n"
     ]
    }
   ],
   "source": [
    "rev_lower =lambda string:string.lower()[::-1]\n",
    "print(rev_lower(str))"
   ]
  },
  {
   "cell_type": "code",
   "execution_count": 4,
   "metadata": {},
   "outputs": [
    {
     "name": "stdout",
     "output_type": "stream",
     "text": [
      "welcome to tops\n"
     ]
    }
   ],
   "source": [
    "rev = lambda string:string.lower()\n",
    "print(rev(str))"
   ]
  },
  {
   "cell_type": "code",
   "execution_count": 11,
   "metadata": {},
   "outputs": [
    {
     "name": "stdout",
     "output_type": "stream",
     "text": [
      "10\n",
      "20\n",
      "30\n",
      "40\n"
     ]
    }
   ],
   "source": [
    "list =[lambda args=x:args*10 for x in range(1,5) ] \n",
    "for items in list:\n",
    "    print(items())"
   ]
  },
  {
   "cell_type": "code",
   "execution_count": 13,
   "metadata": {},
   "outputs": [
    {
     "name": "stdout",
     "output_type": "stream",
     "text": [
      "11\n",
      "12\n",
      "13\n",
      "14\n",
      "15\n",
      "16\n",
      "17\n",
      "18\n",
      "19\n",
      "20\n"
     ]
    }
   ],
   "source": [
    "list =[lambda args=x:args + 10 for x in range (1,11)]\n",
    "for items in list:\n",
    "    print(items())"
   ]
  },
  {
   "cell_type": "code",
   "execution_count": 15,
   "metadata": {},
   "outputs": [
    {
     "name": "stdout",
     "output_type": "stream",
     "text": [
      "0\n",
      "1\n",
      "2\n",
      "3\n",
      "4\n",
      "5\n",
      "6\n",
      "7\n",
      "8\n",
      "9\n",
      "10\n",
      "11\n",
      "12\n",
      "13\n",
      "14\n",
      "15\n",
      "16\n",
      "17\n"
     ]
    }
   ],
   "source": [
    "list= [lambda args=x:args - 2 for x in range(2,20)]\n",
    "for items in list:\n",
    "    print(items())"
   ]
  }
 ],
 "metadata": {
  "kernelspec": {
   "display_name": "Python 3.9.12 ('base')",
   "language": "python",
   "name": "python3"
  },
  "language_info": {
   "codemirror_mode": {
    "name": "ipython",
    "version": 3
   },
   "file_extension": ".py",
   "mimetype": "text/x-python",
   "name": "python",
   "nbconvert_exporter": "python",
   "pygments_lexer": "ipython3",
   "version": "3.9.12"
  },
  "orig_nbformat": 4,
  "vscode": {
   "interpreter": {
    "hash": "daee99e6893c0f9b4fa2cee7c11289a4ac1788238c3c1d2caa83921531d37465"
   }
  }
 },
 "nbformat": 4,
 "nbformat_minor": 2
}
