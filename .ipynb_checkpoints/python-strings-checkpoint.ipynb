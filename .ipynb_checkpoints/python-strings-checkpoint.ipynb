{
 "cells": [
  {
   "cell_type": "code",
   "execution_count": 3,
   "id": "73e55550",
   "metadata": {},
   "outputs": [
    {
     "name": "stdout",
     "output_type": "stream",
     "text": [
      "2\n",
      "3\n",
      "4\n",
      "5\n",
      "6\n",
      "7\n",
      "8\n",
      "9\n",
      "10\n",
      "11\n"
     ]
    }
   ],
   "source": [
    "#print 1st 10 natural numbers\n",
    "i=1\n",
    "while i<=10:\n",
    "    i+=1\n",
    "    print(i)"
   ]
  },
  {
   "cell_type": "code",
   "execution_count": 7,
   "id": "cf08b722",
   "metadata": {},
   "outputs": [
    {
     "name": "stdout",
     "output_type": "stream",
     "text": [
      "1  \n",
      "1  \n",
      "2  \n",
      "1  \n",
      "2  \n",
      "3  \n",
      "1  \n",
      "2  \n",
      "3  \n",
      "4  \n",
      "1  \n",
      "2  \n",
      "3  \n",
      "4  \n",
      "5  \n"
     ]
    }
   ],
   "source": [
    "row=5\n",
    "for i in range(1,row+1,1):\n",
    "    for j in range(1,i+1):\n",
    "        print(j,end=' ')\n",
    "        print(' ')"
   ]
  },
  {
   "cell_type": "code",
   "execution_count": 10,
   "id": "3cd3633a",
   "metadata": {},
   "outputs": [
    {
     "name": "stdout",
     "output_type": "stream",
     "text": [
      "enter a number:10\n",
      "10\n",
      "sum is : <built-in function sum>\n"
     ]
    }
   ],
   "source": [
    "#calculate the sum of all numbers from 1 to given number\n",
    "s=0\n",
    "n=int(input('enter a number:'))\n",
    "for i in range(1,n+1,1):\n",
    "   s+=1\n",
    "print(n)\n",
    "print('sum is :',sum)\n",
    "    \n"
   ]
  },
  {
   "cell_type": "code",
   "execution_count": 12,
   "id": "71e73eaf",
   "metadata": {},
   "outputs": [
    {
     "name": "stdout",
     "output_type": "stream",
     "text": [
      "enter a number:9\n",
      "sum is: 45\n"
     ]
    }
   ],
   "source": [
    "n=int(input(\"enter a number:\"))\n",
    "x=sum(range(1,n+1))\n",
    "print('sum is:',x)"
   ]
  },
  {
   "cell_type": "code",
   "execution_count": 13,
   "id": "84cec013",
   "metadata": {},
   "outputs": [
    {
     "name": "stdout",
     "output_type": "stream",
     "text": [
      "2\n",
      "4\n",
      "6\n",
      "8\n",
      "10\n",
      "12\n",
      "14\n",
      "16\n",
      "18\n",
      "20\n"
     ]
    }
   ],
   "source": [
    "n=2\n",
    "for i in range(1,11,1):\n",
    "    p=n*i\n",
    "    print(p)"
   ]
  },
  {
   "cell_type": "code",
   "execution_count": 14,
   "id": "b0245524",
   "metadata": {},
   "outputs": [
    {
     "name": "stdout",
     "output_type": "stream",
     "text": [
      "123\n",
      "246\n",
      "369\n",
      "492\n",
      "615\n",
      "738\n",
      "861\n",
      "984\n",
      "1107\n",
      "1230\n"
     ]
    }
   ],
   "source": [
    "n=123\n",
    "for i in range(1,11,1):\n",
    "    p=n*i\n",
    "    print(p)"
   ]
  },
  {
   "cell_type": "code",
   "execution_count": 16,
   "id": "0efa4821",
   "metadata": {},
   "outputs": [
    {
     "ename": "IndentationError",
     "evalue": "expected an indented block (3751202742.py, line 9)",
     "output_type": "error",
     "traceback": [
      "\u001b[1;36m  Input \u001b[1;32mIn [16]\u001b[1;36m\u001b[0m\n\u001b[1;33m    print(item)\u001b[0m\n\u001b[1;37m    ^\u001b[0m\n\u001b[1;31mIndentationError\u001b[0m\u001b[1;31m:\u001b[0m expected an indented block\n"
     ]
    }
   ],
   "source": [
    "numbers=[45,65,78,49,300]\n",
    "for item in numbers:\n",
    "    if item >250:\n",
    "        break\n",
    "    elif item>78:\n",
    "        continue\n",
    "    elif item % 5==0:\n",
    "    \n",
    "    print(item)"
   ]
  },
  {
   "cell_type": "code",
   "execution_count": null,
   "id": "96d1885c",
   "metadata": {},
   "outputs": [],
   "source": [
    "#count the total number in digits in a number\n",
    "number=98765\n",
    "count=0\n",
    "while number !=5:\n",
    "    \n"
   ]
  }
 ],
 "metadata": {
  "kernelspec": {
   "display_name": "Python 3 (ipykernel)",
   "language": "python",
   "name": "python3"
  },
  "language_info": {
   "codemirror_mode": {
    "name": "ipython",
    "version": 3
   },
   "file_extension": ".py",
   "mimetype": "text/x-python",
   "name": "python",
   "nbconvert_exporter": "python",
   "pygments_lexer": "ipython3",
   "version": "3.9.12"
  }
 },
 "nbformat": 4,
 "nbformat_minor": 5
}
