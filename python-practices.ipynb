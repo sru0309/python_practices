{
 "cells": [
  {
   "cell_type": "code",
   "execution_count": null,
   "metadata": {
    "colab": {
     "base_uri": "https://localhost:8080/"
    },
    "executionInfo": {
     "elapsed": 7183,
     "status": "ok",
     "timestamp": 1662445871124,
     "user": {
      "displayName": "Srushti Patel",
      "userId": "04188926097343651666"
     },
     "user_tz": -330
    },
    "id": "_CMXqRPoe9mA",
    "outputId": "eb1ee95e-f689-49fa-c6d7-0a671009db5b"
   },
   "outputs": [
    {
     "name": "stdout",
     "output_type": "stream",
     "text": [
      "enter your age21\n",
      "<class 'int'>\n"
     ]
    }
   ],
   "source": [
    "bage = input ('enter your age')\n",
    "\n",
    "age = int(age)\n",
    "\n",
    "print (type(age))\n",
    "\n"
   ]
  },
  {
   "cell_type": "code",
   "execution_count": null,
   "metadata": {
    "id": "17C2fwGRtkmZ"
   },
   "outputs": [],
   "source": []
  },
  {
   "cell_type": "code",
   "execution_count": null,
   "metadata": {
    "colab": {
     "base_uri": "https://localhost:8080/"
    },
    "executionInfo": {
     "elapsed": 381,
     "status": "ok",
     "timestamp": 1662446512538,
     "user": {
      "displayName": "Srushti Patel",
      "userId": "04188926097343651666"
     },
     "user_tz": -330
    },
    "id": "5qYILVAkh7oh",
    "outputId": "d5cf095b-7b72-427c-dbc6-5fa80633599d"
   },
   "outputs": [
    {
     "name": "stdout",
     "output_type": "stream",
     "text": [
      "b is greater than a\n"
     ]
    }
   ],
   "source": [
    "a = 33\n",
    "b = 200\n",
    "\n",
    "if b>a:\n",
    "  print('b is greater than a')"
   ]
  },
  {
   "cell_type": "code",
   "execution_count": null,
   "metadata": {
    "colab": {
     "base_uri": "https://localhost:8080/"
    },
    "executionInfo": {
     "elapsed": 413,
     "status": "ok",
     "timestamp": 1662446969873,
     "user": {
      "displayName": "Srushti Patel",
      "userId": "04188926097343651666"
     },
     "user_tz": -330
    },
    "id": "8olkfAD9jQ35",
    "outputId": "f39b4957-5073-4f54-a920-36038efb5c54"
   },
   "outputs": [
    {
     "name": "stdout",
     "output_type": "stream",
     "text": [
      "b and a are equal\n"
     ]
    }
   ],
   "source": [
    "a = 33\n",
    "b = 33\n",
    "if b>a:\n",
    "  print('b is greater than a')\n",
    "\n",
    "elif a==b:\n",
    "  print('b and a are equal')  "
   ]
  },
  {
   "cell_type": "code",
   "execution_count": null,
   "metadata": {
    "colab": {
     "base_uri": "https://localhost:8080/"
    },
    "executionInfo": {
     "elapsed": 374,
     "status": "ok",
     "timestamp": 1662447187197,
     "user": {
      "displayName": "Srushti Patel",
      "userId": "04188926097343651666"
     },
     "user_tz": -330
    },
    "id": "YL5rcMA7j7Ck",
    "outputId": "e04b195b-2453-4a59-d4a7-c3c3e6bf5ca9"
   },
   "outputs": [
    {
     "name": "stdout",
     "output_type": "stream",
     "text": [
      "a is greater than b\n"
     ]
    }
   ],
   "source": [
    "a = 200\n",
    "b = 33\n",
    "if b>a:\n",
    "  print('b is greater than a')\n",
    "elif a==b:\n",
    "  print('b and a are equal')\n",
    "else:\n",
    "  print('a is greater than b')\n"
   ]
  },
  {
   "cell_type": "code",
   "execution_count": null,
   "metadata": {
    "colab": {
     "base_uri": "https://localhost:8080/"
    },
    "executionInfo": {
     "elapsed": 408,
     "status": "ok",
     "timestamp": 1662447456137,
     "user": {
      "displayName": "Srushti Patel",
      "userId": "04188926097343651666"
     },
     "user_tz": -330
    },
    "id": "Ct0MRvAtjx5f",
    "outputId": "52bd4014-320b-4d1f-8aaf-efd5fe7169a4"
   },
   "outputs": [
    {
     "name": "stdout",
     "output_type": "stream",
     "text": [
      "a is greater than b\n"
     ]
    }
   ],
   "source": [
    "a = 200\n",
    "b = 33\n",
    "\n",
    "if a>b: print('a is greater than b')"
   ]
  },
  {
   "cell_type": "code",
   "execution_count": null,
   "metadata": {
    "colab": {
     "base_uri": "https://localhost:8080/"
    },
    "executionInfo": {
     "elapsed": 388,
     "status": "ok",
     "timestamp": 1662447802726,
     "user": {
      "displayName": "Srushti Patel",
      "userId": "04188926097343651666"
     },
     "user_tz": -330
    },
    "id": "X6MfFIJQmOo7",
    "outputId": "a0aed384-0f99-40e8-d9e8-1f49b6b847cf"
   },
   "outputs": [
    {
     "name": "stdout",
     "output_type": "stream",
     "text": [
      "B\n"
     ]
    }
   ],
   "source": [
    "a = 3\n",
    "b = 330\n",
    "\n",
    "print('A') if a>b else print('B')"
   ]
  },
  {
   "cell_type": "code",
   "execution_count": null,
   "metadata": {
    "colab": {
     "base_uri": "https://localhost:8080/"
    },
    "executionInfo": {
     "elapsed": 370,
     "status": "ok",
     "timestamp": 1662448112614,
     "user": {
      "displayName": "Srushti Patel",
      "userId": "04188926097343651666"
     },
     "user_tz": -330
    },
    "id": "jgrKcaibnv76",
    "outputId": "b0593f18-20c6-4f60-ac46-ffed174aaaac"
   },
   "outputs": [
    {
     "name": "stdout",
     "output_type": "stream",
     "text": [
      "both conditions are true\n"
     ]
    }
   ],
   "source": [
    " a = 300\n",
    " b = 200\n",
    " c = 500\n",
    "\n",
    " if a>b and  c>a:\n",
    "   print('both conditions are true')"
   ]
  },
  {
   "cell_type": "code",
   "execution_count": null,
   "metadata": {
    "colab": {
     "base_uri": "https://localhost:8080/"
    },
    "executionInfo": {
     "elapsed": 430,
     "status": "ok",
     "timestamp": 1662448351475,
     "user": {
      "displayName": "Srushti Patel",
      "userId": "04188926097343651666"
     },
     "user_tz": -330
    },
    "id": "G0IGHWF2oTLA",
    "outputId": "580e36e5-f16e-469a-d72f-1f5225492cf1"
   },
   "outputs": [
    {
     "name": "stdout",
     "output_type": "stream",
     "text": [
      "at least one of the conditions are true\n"
     ]
    }
   ],
   "source": [
    "a = 200\n",
    "b = 100\n",
    "c = 300\n",
    "\n",
    "if a>b or a>c:\n",
    "  print('at least one of the conditions are true')"
   ]
  },
  {
   "cell_type": "code",
   "execution_count": null,
   "metadata": {
    "colab": {
     "base_uri": "https://localhost:8080/"
    },
    "executionInfo": {
     "elapsed": 9432,
     "status": "ok",
     "timestamp": 1662448913108,
     "user": {
      "displayName": "Srushti Patel",
      "userId": "04188926097343651666"
     },
     "user_tz": -330
    },
    "id": "d-B60kQNqNWx",
    "outputId": "d3098289-bdad-46c1-a54e-a53c93cbaa8a"
   },
   "outputs": [
    {
     "name": "stdout",
     "output_type": "stream",
     "text": [
      "enter the number8\n",
      "number is even\n"
     ]
    }
   ],
   "source": [
    "num=int(input('enter the number'))\n",
    "if num%2==0:\n",
    "  print('number is even')\n"
   ]
  },
  {
   "cell_type": "code",
   "execution_count": null,
   "metadata": {
    "colab": {
     "base_uri": "https://localhost:8080/"
    },
    "executionInfo": {
     "elapsed": 13853,
     "status": "ok",
     "timestamp": 1662449079936,
     "user": {
      "displayName": "Srushti Patel",
      "userId": "04188926097343651666"
     },
     "user_tz": -330
    },
    "id": "8U7UiKn4rVX8",
    "outputId": "472dc23e-82e5-47d4-8461-f8dee33e701d"
   },
   "outputs": [
    {
     "name": "stdout",
     "output_type": "stream",
     "text": [
      "enter number65\n",
      "enter number63\n",
      "a is largest\n"
     ]
    }
   ],
   "source": [
    "a=int(input('enter number'))\n",
    "b=int(input('enter number'))\n",
    "\n",
    "if a>b:\n",
    "  print('a is largest')"
   ]
  },
  {
   "cell_type": "code",
   "execution_count": null,
   "metadata": {
    "id": "u4gue1IdREfX"
   },
   "outputs": [],
   "source": [
    "l=list('1 2')"
   ]
  },
  {
   "cell_type": "code",
   "execution_count": null,
   "metadata": {
    "colab": {
     "base_uri": "https://localhost:8080/"
    },
    "executionInfo": {
     "elapsed": 544,
     "status": "ok",
     "timestamp": 1662609956192,
     "user": {
      "displayName": "Srushti Patel",
      "userId": "04188926097343651666"
     },
     "user_tz": -330
    },
    "id": "m5dp_Xn4Rmtk",
    "outputId": "784887db-a282-45a4-95c7-f233b3ea0c69"
   },
   "outputs": [
    {
     "data": {
      "text/plain": [
       "list"
      ]
     },
     "execution_count": 2,
     "metadata": {},
     "output_type": "execute_result"
    }
   ],
   "source": [
    "type(l)"
   ]
  },
  {
   "cell_type": "code",
   "execution_count": null,
   "metadata": {
    "colab": {
     "base_uri": "https://localhost:8080/"
    },
    "executionInfo": {
     "elapsed": 13,
     "status": "ok",
     "timestamp": 1662610003487,
     "user": {
      "displayName": "Srushti Patel",
      "userId": "04188926097343651666"
     },
     "user_tz": -330
    },
    "id": "09KYUsJORrj3",
    "outputId": "c9591f7a-8bd8-495c-af59-35353f8b5c55"
   },
   "outputs": [
    {
     "name": "stdout",
     "output_type": "stream",
     "text": [
      "['1', ',', '2']\n"
     ]
    }
   ],
   "source": [
    "print(l)"
   ]
  },
  {
   "cell_type": "code",
   "execution_count": null,
   "metadata": {
    "colab": {
     "base_uri": "https://localhost:8080/"
    },
    "executionInfo": {
     "elapsed": 561,
     "status": "ok",
     "timestamp": 1662610046529,
     "user": {
      "displayName": "Srushti Patel",
      "userId": "04188926097343651666"
     },
     "user_tz": -330
    },
    "id": "60IYyAxFR8Ol",
    "outputId": "e3aac780-03a8-4c9d-ce72-368baeff887d"
   },
   "outputs": [
    {
     "name": "stdout",
     "output_type": "stream",
     "text": [
      "['1', ',', '2']\n"
     ]
    }
   ],
   "source": [
    "print(l)"
   ]
  },
  {
   "cell_type": "code",
   "execution_count": null,
   "metadata": {
    "colab": {
     "base_uri": "https://localhost:8080/"
    },
    "executionInfo": {
     "elapsed": 11,
     "status": "ok",
     "timestamp": 1662610086240,
     "user": {
      "displayName": "Srushti Patel",
      "userId": "04188926097343651666"
     },
     "user_tz": -330
    },
    "id": "vPPeJRibSG2X",
    "outputId": "381d0eb6-c1b8-411c-ded0-a23b7215fcd3"
   },
   "outputs": [
    {
     "name": "stdout",
     "output_type": "stream",
     "text": [
      "['1', ',', '2']\n"
     ]
    }
   ],
   "source": [
    "print(l)"
   ]
  },
  {
   "cell_type": "code",
   "execution_count": null,
   "metadata": {
    "colab": {
     "base_uri": "https://localhost:8080/"
    },
    "executionInfo": {
     "elapsed": 604,
     "status": "ok",
     "timestamp": 1662610157837,
     "user": {
      "displayName": "Srushti Patel",
      "userId": "04188926097343651666"
     },
     "user_tz": -330
    },
    "id": "FHqitytISMnu",
    "outputId": "79b77e96-7154-4dc5-85d6-fdc4a59575bd"
   },
   "outputs": [
    {
     "name": "stdout",
     "output_type": "stream",
     "text": [
      "[1, 2, 3]\n"
     ]
    }
   ],
   "source": [
    "l = [1,2,3]\n",
    "   \n",
    "print(l)"
   ]
  },
  {
   "cell_type": "code",
   "execution_count": null,
   "metadata": {
    "colab": {
     "base_uri": "https://localhost:8080/"
    },
    "executionInfo": {
     "elapsed": 11,
     "status": "ok",
     "timestamp": 1662610179659,
     "user": {
      "displayName": "Srushti Patel",
      "userId": "04188926097343651666"
     },
     "user_tz": -330
    },
    "id": "gCZI6BzISccR",
    "outputId": "dbd76672-558d-4e2b-d678-a010fd046434"
   },
   "outputs": [
    {
     "data": {
      "text/plain": [
       "3"
      ]
     },
     "execution_count": 8,
     "metadata": {},
     "output_type": "execute_result"
    }
   ],
   "source": [
    "len(l)"
   ]
  },
  {
   "cell_type": "code",
   "execution_count": null,
   "metadata": {
    "id": "bS5xr3KOSf_2"
   },
   "outputs": [],
   "source": [
    "l.append(6)"
   ]
  },
  {
   "cell_type": "code",
   "execution_count": null,
   "metadata": {
    "colab": {
     "base_uri": "https://localhost:8080/"
    },
    "executionInfo": {
     "elapsed": 6,
     "status": "ok",
     "timestamp": 1662610257077,
     "user": {
      "displayName": "Srushti Patel",
      "userId": "04188926097343651666"
     },
     "user_tz": -330
    },
    "id": "ljR_mmLpSu10",
    "outputId": "3559b89e-f63a-4be7-9d71-b8ba8ebcea00"
   },
   "outputs": [
    {
     "data": {
      "text/plain": [
       "[1, 2, 3, 6]"
      ]
     },
     "execution_count": 10,
     "metadata": {},
     "output_type": "execute_result"
    }
   ],
   "source": [
    "l"
   ]
  },
  {
   "cell_type": "code",
   "execution_count": null,
   "metadata": {
    "id": "1F-14C1KSy5M"
   },
   "outputs": [],
   "source": [
    "l.extend([1,2,3,6])"
   ]
  },
  {
   "cell_type": "code",
   "execution_count": null,
   "metadata": {
    "colab": {
     "base_uri": "https://localhost:8080/"
    },
    "executionInfo": {
     "elapsed": 9,
     "status": "ok",
     "timestamp": 1662610342444,
     "user": {
      "displayName": "Srushti Patel",
      "userId": "04188926097343651666"
     },
     "user_tz": -330
    },
    "id": "c0Ht4wFyTC3Z",
    "outputId": "2f6ab32f-3f91-4aa9-d00e-a28b4860fe55"
   },
   "outputs": [
    {
     "data": {
      "text/plain": [
       "[1, 2, 3, 6, 1, 2, 3, 6]"
      ]
     },
     "execution_count": 12,
     "metadata": {},
     "output_type": "execute_result"
    }
   ],
   "source": [
    "l"
   ]
  },
  {
   "cell_type": "code",
   "execution_count": null,
   "metadata": {
    "id": "CV9IU6q4THvg"
   },
   "outputs": [],
   "source": [
    "l.insert(4,5)"
   ]
  },
  {
   "cell_type": "code",
   "execution_count": null,
   "metadata": {
    "colab": {
     "base_uri": "https://localhost:8080/"
    },
    "executionInfo": {
     "elapsed": 11,
     "status": "ok",
     "timestamp": 1662610405891,
     "user": {
      "displayName": "Srushti Patel",
      "userId": "04188926097343651666"
     },
     "user_tz": -330
    },
    "id": "9SlgeBC1TV6e",
    "outputId": "8c8aed09-5290-4d90-ffe6-31ce73950fcb"
   },
   "outputs": [
    {
     "data": {
      "text/plain": [
       "[1, 2, 3, 6, 5, 1, 2, 3, 6]"
      ]
     },
     "execution_count": 14,
     "metadata": {},
     "output_type": "execute_result"
    }
   ],
   "source": [
    "l"
   ]
  },
  {
   "cell_type": "code",
   "execution_count": null,
   "metadata": {
    "id": "fV75fVwnTXNQ"
   },
   "outputs": [],
   "source": [
    "l.insert(0,9)"
   ]
  },
  {
   "cell_type": "code",
   "execution_count": null,
   "metadata": {
    "colab": {
     "base_uri": "https://localhost:8080/"
    },
    "executionInfo": {
     "elapsed": 9,
     "status": "ok",
     "timestamp": 1662610471733,
     "user": {
      "displayName": "Srushti Patel",
      "userId": "04188926097343651666"
     },
     "user_tz": -330
    },
    "id": "6JyC1O3NTmKI",
    "outputId": "100f0e6e-1b3f-41c3-dac5-e8cc380480b3"
   },
   "outputs": [
    {
     "data": {
      "text/plain": [
       "[9, 1, 2, 3, 6, 5, 1, 2, 3, 6]"
      ]
     },
     "execution_count": 16,
     "metadata": {},
     "output_type": "execute_result"
    }
   ],
   "source": [
    "l"
   ]
  },
  {
   "cell_type": "code",
   "execution_count": null,
   "metadata": {
    "colab": {
     "base_uri": "https://localhost:8080/"
    },
    "executionInfo": {
     "elapsed": 10,
     "status": "ok",
     "timestamp": 1662610508801,
     "user": {
      "displayName": "Srushti Patel",
      "userId": "04188926097343651666"
     },
     "user_tz": -330
    },
    "id": "lEixuWocTnS0",
    "outputId": "6b90cc9d-fc13-406c-9526-523acecf2858"
   },
   "outputs": [
    {
     "data": {
      "text/plain": [
       "9"
      ]
     },
     "execution_count": 17,
     "metadata": {},
     "output_type": "execute_result"
    }
   ],
   "source": [
    "l.pop(0)"
   ]
  },
  {
   "cell_type": "code",
   "execution_count": null,
   "metadata": {
    "colab": {
     "base_uri": "https://localhost:8080/"
    },
    "executionInfo": {
     "elapsed": 9,
     "status": "ok",
     "timestamp": 1662610515412,
     "user": {
      "displayName": "Srushti Patel",
      "userId": "04188926097343651666"
     },
     "user_tz": -330
    },
    "id": "ixkqeJWPTwSJ",
    "outputId": "693bb239-437c-4a4b-f4bb-1ca7939e0a47"
   },
   "outputs": [
    {
     "data": {
      "text/plain": [
       "[1, 2, 3, 6, 5, 1, 2, 3, 6]"
      ]
     },
     "execution_count": 18,
     "metadata": {},
     "output_type": "execute_result"
    }
   ],
   "source": [
    "l"
   ]
  },
  {
   "cell_type": "code",
   "execution_count": null,
   "metadata": {
    "colab": {
     "base_uri": "https://localhost:8080/"
    },
    "executionInfo": {
     "elapsed": 10,
     "status": "ok",
     "timestamp": 1662610527222,
     "user": {
      "displayName": "Srushti Patel",
      "userId": "04188926097343651666"
     },
     "user_tz": -330
    },
    "id": "6AD69LTSTx8i",
    "outputId": "967cd743-64b8-436d-aa6f-dea0a8f2482d"
   },
   "outputs": [
    {
     "data": {
      "text/plain": [
       "2"
      ]
     },
     "execution_count": 19,
     "metadata": {},
     "output_type": "execute_result"
    }
   ],
   "source": [
    "l.pop(1)"
   ]
  },
  {
   "cell_type": "code",
   "execution_count": null,
   "metadata": {
    "colab": {
     "base_uri": "https://localhost:8080/"
    },
    "executionInfo": {
     "elapsed": 9,
     "status": "ok",
     "timestamp": 1662610532894,
     "user": {
      "displayName": "Srushti Patel",
      "userId": "04188926097343651666"
     },
     "user_tz": -330
    },
    "id": "2473Y2GHT0ys",
    "outputId": "f9fb2916-f339-4af6-d555-832d793760ec"
   },
   "outputs": [
    {
     "data": {
      "text/plain": [
       "[1, 3, 6, 5, 1, 2, 3, 6]"
      ]
     },
     "execution_count": 20,
     "metadata": {},
     "output_type": "execute_result"
    }
   ],
   "source": [
    "l"
   ]
  },
  {
   "cell_type": "code",
   "execution_count": null,
   "metadata": {
    "id": "QP7t64v0T13v"
   },
   "outputs": [],
   "source": [
    "l.remove(1)"
   ]
  },
  {
   "cell_type": "code",
   "execution_count": null,
   "metadata": {
    "colab": {
     "base_uri": "https://localhost:8080/"
    },
    "executionInfo": {
     "elapsed": 9,
     "status": "ok",
     "timestamp": 1662610667172,
     "user": {
      "displayName": "Srushti Patel",
      "userId": "04188926097343651666"
     },
     "user_tz": -330
    },
    "id": "RK6Czxa0UV1E",
    "outputId": "9cc56cd6-fae6-4608-c522-e0ef4fd99553"
   },
   "outputs": [
    {
     "data": {
      "text/plain": [
       "[3, 6, 5, 1, 2, 3, 6]"
      ]
     },
     "execution_count": 22,
     "metadata": {},
     "output_type": "execute_result"
    }
   ],
   "source": [
    "l"
   ]
  },
  {
   "cell_type": "code",
   "execution_count": null,
   "metadata": {
    "id": "aZZmIMrfUW3H"
   },
   "outputs": [],
   "source": []
  },
  {
   "cell_type": "code",
   "execution_count": null,
   "metadata": {
    "id": "b8hrHnxoUbgh"
   },
   "outputs": [],
   "source": [
    "l.reverse()"
   ]
  },
  {
   "cell_type": "code",
   "execution_count": null,
   "metadata": {
    "colab": {
     "base_uri": "https://localhost:8080/"
    },
    "executionInfo": {
     "elapsed": 11,
     "status": "ok",
     "timestamp": 1662610719500,
     "user": {
      "displayName": "Srushti Patel",
      "userId": "04188926097343651666"
     },
     "user_tz": -330
    },
    "id": "a11SHMVrUimC",
    "outputId": "726b26d1-1e3a-40df-fee6-e090dd721a3c"
   },
   "outputs": [
    {
     "data": {
      "text/plain": [
       "[6, 3, 2, 1, 5, 6, 3]"
      ]
     },
     "execution_count": 24,
     "metadata": {},
     "output_type": "execute_result"
    }
   ],
   "source": [
    "l"
   ]
  },
  {
   "cell_type": "code",
   "execution_count": null,
   "metadata": {
    "id": "kYp-Yir3Ujte"
   },
   "outputs": [],
   "source": [
    "l.sort()"
   ]
  },
  {
   "cell_type": "code",
   "execution_count": null,
   "metadata": {
    "colab": {
     "base_uri": "https://localhost:8080/"
    },
    "executionInfo": {
     "elapsed": 629,
     "status": "ok",
     "timestamp": 1662610760263,
     "user": {
      "displayName": "Srushti Patel",
      "userId": "04188926097343651666"
     },
     "user_tz": -330
    },
    "id": "SLuIMqirUsqC",
    "outputId": "8270abc1-a5a2-4902-80fa-e35499dd73d0"
   },
   "outputs": [
    {
     "data": {
      "text/plain": [
       "[1, 2, 3, 3, 5, 6, 6]"
      ]
     },
     "execution_count": 27,
     "metadata": {},
     "output_type": "execute_result"
    }
   ],
   "source": [
    "l"
   ]
  },
  {
   "cell_type": "code",
   "execution_count": null,
   "metadata": {
    "id": "boRU0bKZUteq"
   },
   "outputs": [],
   "source": [
    "l =[1,3,5,7]"
   ]
  },
  {
   "cell_type": "code",
   "execution_count": null,
   "metadata": {
    "colab": {
     "base_uri": "https://localhost:8080/"
    },
    "executionInfo": {
     "elapsed": 12,
     "status": "ok",
     "timestamp": 1662617676213,
     "user": {
      "displayName": "Srushti Patel",
      "userId": "04188926097343651666"
     },
     "user_tz": -330
    },
    "id": "_7_wJmr6torC",
    "outputId": "f8ef67d4-3c20-4352-80c9-a9c85a5a8e22"
   },
   "outputs": [
    {
     "name": "stdout",
     "output_type": "stream",
     "text": [
      "3\n"
     ]
    }
   ],
   "source": [
    "print(l[1])"
   ]
  },
  {
   "cell_type": "code",
   "execution_count": null,
   "metadata": {
    "colab": {
     "base_uri": "https://localhost:8080/"
    },
    "executionInfo": {
     "elapsed": 9,
     "status": "ok",
     "timestamp": 1662617696082,
     "user": {
      "displayName": "Srushti Patel",
      "userId": "04188926097343651666"
     },
     "user_tz": -330
    },
    "id": "6kgIQOe2vGRt",
    "outputId": "163addd3-ab21-40af-f48b-471367c0bd8e"
   },
   "outputs": [
    {
     "name": "stdout",
     "output_type": "stream",
     "text": [
      "5\n"
     ]
    }
   ],
   "source": [
    "print(l[2])"
   ]
  },
  {
   "cell_type": "code",
   "execution_count": null,
   "metadata": {
    "colab": {
     "base_uri": "https://localhost:8080/"
    },
    "executionInfo": {
     "elapsed": 9,
     "status": "ok",
     "timestamp": 1662617761079,
     "user": {
      "displayName": "Srushti Patel",
      "userId": "04188926097343651666"
     },
     "user_tz": -330
    },
    "id": "NvVTHJNzvLIt",
    "outputId": "4c7177d8-aa65-4925-e0b0-9005004475c5"
   },
   "outputs": [
    {
     "name": "stdout",
     "output_type": "stream",
     "text": [
      "[1, 8, 5, 7]\n"
     ]
    }
   ],
   "source": [
    "l[1]=8\n",
    "print(l)"
   ]
  },
  {
   "cell_type": "code",
   "execution_count": null,
   "metadata": {
    "colab": {
     "base_uri": "https://localhost:8080/"
    },
    "executionInfo": {
     "elapsed": 9,
     "status": "ok",
     "timestamp": 1662617792302,
     "user": {
      "displayName": "Srushti Patel",
      "userId": "04188926097343651666"
     },
     "user_tz": -330
    },
    "id": "Wawpg3Jiva4O",
    "outputId": "09fdd9ff-b1a4-4958-9d48-eb1b78305633"
   },
   "outputs": [
    {
     "name": "stdout",
     "output_type": "stream",
     "text": [
      "[1, 8, 19, 7]\n"
     ]
    }
   ],
   "source": [
    "l[2]=19\n",
    "print(l)"
   ]
  },
  {
   "cell_type": "code",
   "execution_count": null,
   "metadata": {
    "colab": {
     "base_uri": "https://localhost:8080/"
    },
    "executionInfo": {
     "elapsed": 8,
     "status": "ok",
     "timestamp": 1662617848481,
     "user": {
      "displayName": "Srushti Patel",
      "userId": "04188926097343651666"
     },
     "user_tz": -330
    },
    "id": "qqj924skvijr",
    "outputId": "8061d3d1-270c-4fe0-b751-b73dd5bed43c"
   },
   "outputs": [
    {
     "name": "stdout",
     "output_type": "stream",
     "text": [
      "1\n",
      "8\n",
      "19\n",
      "7\n"
     ]
    }
   ],
   "source": [
    "for x in l:\n",
    "  print(x)"
   ]
  },
  {
   "cell_type": "code",
   "execution_count": null,
   "metadata": {
    "id": "v5rsHZWWvwVu"
   },
   "outputs": [],
   "source": [
    "l =[2,4,8,10]"
   ]
  },
  {
   "cell_type": "code",
   "execution_count": null,
   "metadata": {
    "colab": {
     "base_uri": "https://localhost:8080/"
    },
    "executionInfo": {
     "elapsed": 10,
     "status": "ok",
     "timestamp": 1662617983672,
     "user": {
      "displayName": "Srushti Patel",
      "userId": "04188926097343651666"
     },
     "user_tz": -330
    },
    "id": "jUdrBzIDwH02",
    "outputId": "64f46216-a071-4e49-a286-5b384cbcbbf4"
   },
   "outputs": [
    {
     "name": "stdout",
     "output_type": "stream",
     "text": [
      "2\n",
      "4\n",
      "8\n",
      "10\n"
     ]
    }
   ],
   "source": [
    "for x in l:\n",
    "  print(x)"
   ]
  },
  {
   "cell_type": "code",
   "execution_count": null,
   "metadata": {
    "colab": {
     "base_uri": "https://localhost:8080/"
    },
    "executionInfo": {
     "elapsed": 538,
     "status": "ok",
     "timestamp": 1662618154849,
     "user": {
      "displayName": "Srushti Patel",
      "userId": "04188926097343651666"
     },
     "user_tz": -330
    },
    "id": "BFtTPNTMwRWh",
    "outputId": "6e384e8e-2bcb-492f-b8f6-1de1641aa866"
   },
   "outputs": [
    {
     "name": "stdout",
     "output_type": "stream",
     "text": [
      "15 is in l\n"
     ]
    }
   ],
   "source": [
    "l = [11,13,15,17]\n",
    "if 15 in l:\n",
    "  print('15 is in l')\n",
    "    "
   ]
  },
  {
   "cell_type": "code",
   "execution_count": null,
   "metadata": {
    "colab": {
     "base_uri": "https://localhost:8080/"
    },
    "executionInfo": {
     "elapsed": 376,
     "status": "ok",
     "timestamp": 1662618316641,
     "user": {
      "displayName": "Srushti Patel",
      "userId": "04188926097343651666"
     },
     "user_tz": -330
    },
    "id": "rz260JmOwyZq",
    "outputId": "08e9074f-436e-4db3-9912-4119a1759f63"
   },
   "outputs": [
    {
     "name": "stdout",
     "output_type": "stream",
     "text": [
      "17 is in l \n"
     ]
    }
   ],
   "source": [
    "if 17 in l: \n",
    "  print(\"17 is in l \")\n",
    "\n",
    "else:\n",
    "  print(\"17 is not in l\")  "
   ]
  },
  {
   "cell_type": "code",
   "execution_count": null,
   "metadata": {
    "colab": {
     "base_uri": "https://localhost:8080/"
    },
    "executionInfo": {
     "elapsed": 8,
     "status": "ok",
     "timestamp": 1662618380465,
     "user": {
      "displayName": "Srushti Patel",
      "userId": "04188926097343651666"
     },
     "user_tz": -330
    },
    "id": "JvrDxGfrxVIA",
    "outputId": "bbf12585-873c-4ceb-f898-74502b1559c4"
   },
   "outputs": [
    {
     "data": {
      "text/plain": [
       "4"
      ]
     },
     "execution_count": 16,
     "metadata": {},
     "output_type": "execute_result"
    }
   ],
   "source": [
    "len(l)\n",
    "  "
   ]
  },
  {
   "cell_type": "code",
   "execution_count": null,
   "metadata": {
    "id": "UHvtynLHxyNY"
   },
   "outputs": [],
   "source": [
    "l.append(33)"
   ]
  },
  {
   "cell_type": "code",
   "execution_count": null,
   "metadata": {
    "colab": {
     "base_uri": "https://localhost:8080/"
    },
    "executionInfo": {
     "elapsed": 9,
     "status": "ok",
     "timestamp": 1662618459024,
     "user": {
      "displayName": "Srushti Patel",
      "userId": "04188926097343651666"
     },
     "user_tz": -330
    },
    "id": "Fk44x7diyDRH",
    "outputId": "c016bb0e-ac12-4715-e786-14d9a82789a8"
   },
   "outputs": [
    {
     "data": {
      "text/plain": [
       "[11, 13, 15, 17, 33]"
      ]
     },
     "execution_count": 18,
     "metadata": {},
     "output_type": "execute_result"
    }
   ],
   "source": [
    "l"
   ]
  },
  {
   "cell_type": "code",
   "execution_count": null,
   "metadata": {
    "id": "DmTzUq20ylLm"
   },
   "outputs": [],
   "source": [
    "l.extend([35,37,39])"
   ]
  },
  {
   "cell_type": "code",
   "execution_count": null,
   "metadata": {
    "colab": {
     "base_uri": "https://localhost:8080/"
    },
    "executionInfo": {
     "elapsed": 9,
     "status": "ok",
     "timestamp": 1662618681073,
     "user": {
      "displayName": "Srushti Patel",
      "userId": "04188926097343651666"
     },
     "user_tz": -330
    },
    "id": "QNTjsDhny6QP",
    "outputId": "6bf62a8e-5006-43b7-b9f1-19d4f28cf64e"
   },
   "outputs": [
    {
     "data": {
      "text/plain": [
       "[11, 13, 15, 17, 33, 35, 37, 39]"
      ]
     },
     "execution_count": 23,
     "metadata": {},
     "output_type": "execute_result"
    }
   ],
   "source": [
    "l"
   ]
  },
  {
   "cell_type": "code",
   "execution_count": null,
   "metadata": {
    "id": "4QCt1yoOy7m3"
   },
   "outputs": [],
   "source": [
    "l.remove(33)"
   ]
  },
  {
   "cell_type": "code",
   "execution_count": null,
   "metadata": {
    "colab": {
     "base_uri": "https://localhost:8080/"
    },
    "executionInfo": {
     "elapsed": 4,
     "status": "ok",
     "timestamp": 1662618757155,
     "user": {
      "displayName": "Srushti Patel",
      "userId": "04188926097343651666"
     },
     "user_tz": -330
    },
    "id": "RojLfEESzKLQ",
    "outputId": "ba437536-b719-4714-bfa4-ca26b6000fde"
   },
   "outputs": [
    {
     "data": {
      "text/plain": [
       "[11, 13, 15, 17, 35, 37, 39]"
      ]
     },
     "execution_count": 26,
     "metadata": {},
     "output_type": "execute_result"
    }
   ],
   "source": [
    "l"
   ]
  },
  {
   "cell_type": "code",
   "execution_count": null,
   "metadata": {
    "colab": {
     "base_uri": "https://localhost:8080/"
    },
    "executionInfo": {
     "elapsed": 8,
     "status": "ok",
     "timestamp": 1662618837020,
     "user": {
      "displayName": "Srushti Patel",
      "userId": "04188926097343651666"
     },
     "user_tz": -330
    },
    "id": "tttVe9b0zOLK",
    "outputId": "3beb5bff-616c-4154-bfd3-9f854d477431"
   },
   "outputs": [
    {
     "data": {
      "text/plain": [
       "39"
      ]
     },
     "execution_count": 27,
     "metadata": {},
     "output_type": "execute_result"
    }
   ],
   "source": [
    "l.pop()"
   ]
  },
  {
   "cell_type": "code",
   "execution_count": null,
   "metadata": {
    "colab": {
     "base_uri": "https://localhost:8080/"
    },
    "executionInfo": {
     "elapsed": 8,
     "status": "ok",
     "timestamp": 1662618841760,
     "user": {
      "displayName": "Srushti Patel",
      "userId": "04188926097343651666"
     },
     "user_tz": -330
    },
    "id": "zshiBsrazhrp",
    "outputId": "bee62d76-9b9d-481c-9792-4eca6c349bdc"
   },
   "outputs": [
    {
     "data": {
      "text/plain": [
       "[11, 13, 15, 17, 35, 37]"
      ]
     },
     "execution_count": 28,
     "metadata": {},
     "output_type": "execute_result"
    }
   ],
   "source": [
    "l"
   ]
  },
  {
   "cell_type": "code",
   "execution_count": null,
   "metadata": {
    "colab": {
     "base_uri": "https://localhost:8080/"
    },
    "executionInfo": {
     "elapsed": 649,
     "status": "ok",
     "timestamp": 1662618854202,
     "user": {
      "displayName": "Srushti Patel",
      "userId": "04188926097343651666"
     },
     "user_tz": -330
    },
    "id": "hSncwO6Izixo",
    "outputId": "1230dfdd-4094-4cb0-f33c-7cdf7e76afc6"
   },
   "outputs": [
    {
     "data": {
      "text/plain": [
       "35"
      ]
     },
     "execution_count": 29,
     "metadata": {},
     "output_type": "execute_result"
    }
   ],
   "source": [
    "l.pop(4)"
   ]
  },
  {
   "cell_type": "code",
   "execution_count": null,
   "metadata": {
    "colab": {
     "base_uri": "https://localhost:8080/"
    },
    "executionInfo": {
     "elapsed": 9,
     "status": "ok",
     "timestamp": 1662618970531,
     "user": {
      "displayName": "Srushti Patel",
      "userId": "04188926097343651666"
     },
     "user_tz": -330
    },
    "id": "xYf0kQGpzl3I",
    "outputId": "77802990-318e-4d64-b40e-91a5a96d5263"
   },
   "outputs": [
    {
     "data": {
      "text/plain": [
       "[11, 13, 15, 17, 37]"
      ]
     },
     "execution_count": 34,
     "metadata": {},
     "output_type": "execute_result"
    }
   ],
   "source": [
    "l"
   ]
  },
  {
   "cell_type": "code",
   "execution_count": null,
   "metadata": {
    "id": "PykWokm70CM2"
   },
   "outputs": [],
   "source": [
    "del l[2]"
   ]
  },
  {
   "cell_type": "code",
   "execution_count": null,
   "metadata": {
    "colab": {
     "base_uri": "https://localhost:8080/"
    },
    "executionInfo": {
     "elapsed": 385,
     "status": "ok",
     "timestamp": 1662619031761,
     "user": {
      "displayName": "Srushti Patel",
      "userId": "04188926097343651666"
     },
     "user_tz": -330
    },
    "id": "C1M14-JH0PhV",
    "outputId": "93b1aa9b-3679-4b3d-9deb-82efc02199dc"
   },
   "outputs": [
    {
     "data": {
      "text/plain": [
       "[11, 13, 17, 37]"
      ]
     },
     "execution_count": 36,
     "metadata": {},
     "output_type": "execute_result"
    }
   ],
   "source": [
    "l"
   ]
  },
  {
   "cell_type": "code",
   "execution_count": null,
   "metadata": {
    "id": "rh5o-LVb0Q59"
   },
   "outputs": [],
   "source": [
    "l.clear()"
   ]
  },
  {
   "cell_type": "code",
   "execution_count": null,
   "metadata": {
    "colab": {
     "base_uri": "https://localhost:8080/"
    },
    "executionInfo": {
     "elapsed": 6,
     "status": "ok",
     "timestamp": 1662619072900,
     "user": {
      "displayName": "Srushti Patel",
      "userId": "04188926097343651666"
     },
     "user_tz": -330
    },
    "id": "W8qY0B7D0aO0",
    "outputId": "efb0c009-953d-4aca-fca7-8672f46b1b23"
   },
   "outputs": [
    {
     "data": {
      "text/plain": [
       "[]"
      ]
     },
     "execution_count": 38,
     "metadata": {},
     "output_type": "execute_result"
    }
   ],
   "source": [
    "l"
   ]
  },
  {
   "cell_type": "code",
   "execution_count": null,
   "metadata": {
    "colab": {
     "base_uri": "https://localhost:8080/"
    },
    "executionInfo": {
     "elapsed": 6,
     "status": "ok",
     "timestamp": 1662619211387,
     "user": {
      "displayName": "Srushti Patel",
      "userId": "04188926097343651666"
     },
     "user_tz": -330
    },
    "id": "kz5s-2NK0bJ0",
    "outputId": "b9cd4cbc-b21e-46f6-ab96-9e750694bcdd"
   },
   "outputs": [
    {
     "name": "stdout",
     "output_type": "stream",
     "text": [
      "[]\n"
     ]
    }
   ],
   "source": [
    "print(l)"
   ]
  },
  {
   "cell_type": "code",
   "execution_count": null,
   "metadata": {
    "id": "DvmcyG1e09E-"
   },
   "outputs": [],
   "source": [
    "t = (\"A\",\"B\",\"C\")"
   ]
  },
  {
   "cell_type": "code",
   "execution_count": null,
   "metadata": {
    "colab": {
     "base_uri": "https://localhost:8080/"
    },
    "executionInfo": {
     "elapsed": 600,
     "status": "ok",
     "timestamp": 1662619387331,
     "user": {
      "displayName": "Srushti Patel",
      "userId": "04188926097343651666"
     },
     "user_tz": -330
    },
    "id": "YVwa8n7l1NAg",
    "outputId": "a681cf90-bd4f-4b8c-81db-cf404eddba9e"
   },
   "outputs": [
    {
     "data": {
      "text/plain": [
       "('A', 'B', 'C')"
      ]
     },
     "execution_count": 46,
     "metadata": {},
     "output_type": "execute_result"
    }
   ],
   "source": [
    "t"
   ]
  },
  {
   "cell_type": "code",
   "execution_count": null,
   "metadata": {
    "colab": {
     "base_uri": "https://localhost:8080/"
    },
    "executionInfo": {
     "elapsed": 374,
     "status": "ok",
     "timestamp": 1662619392055,
     "user": {
      "displayName": "Srushti Patel",
      "userId": "04188926097343651666"
     },
     "user_tz": -330
    },
    "id": "pRBQjg4s1Qiz",
    "outputId": "20cf2dbb-5aae-4a53-840d-0eb6dc1c35ce"
   },
   "outputs": [
    {
     "name": "stdout",
     "output_type": "stream",
     "text": [
      "B\n"
     ]
    }
   ],
   "source": [
    "print(t[1])"
   ]
  },
  {
   "cell_type": "code",
   "execution_count": null,
   "metadata": {
    "id": "Y1qr6Ylg4Ja6"
   },
   "outputs": [],
   "source": [
    "list1=[\"red\",\"black\",\"green\"]\n",
    "list2=[2,4,6,8,10]\n",
    "list3=['2.2','3.3','4.4','5.5']\n"
   ]
  },
  {
   "cell_type": "code",
   "execution_count": null,
   "metadata": {
    "colab": {
     "base_uri": "https://localhost:8080/"
    },
    "executionInfo": {
     "elapsed": 15,
     "status": "ok",
     "timestamp": 1662631539629,
     "user": {
      "displayName": "Srushti Patel",
      "userId": "04188926097343651666"
     },
     "user_tz": -330
    },
    "id": "kSR3OVyU5qrJ",
    "outputId": "a5817208-6910-4b20-a5b1-e18771bb9055"
   },
   "outputs": [
    {
     "name": "stdout",
     "output_type": "stream",
     "text": [
      "['red', 'black', 'green']\n",
      "[2, 4, 6, 8, 10]\n",
      "['2.2', '3.3', '4.4', '5.5']\n"
     ]
    }
   ],
   "source": [
    "print(list1)\n",
    "print(list2)\n",
    "print(list3)"
   ]
  },
  {
   "cell_type": "code",
   "execution_count": null,
   "metadata": {
    "id": "313PXo0Y6LSi"
   },
   "outputs": [],
   "source": [
    "list1.append(\"orange\")\n",
    "list2.append(12)\n",
    "list3.append('6.6')"
   ]
  },
  {
   "cell_type": "code",
   "execution_count": null,
   "metadata": {
    "colab": {
     "base_uri": "https://localhost:8080/"
    },
    "executionInfo": {
     "elapsed": 410,
     "status": "ok",
     "timestamp": 1662620819211,
     "user": {
      "displayName": "Srushti Patel",
      "userId": "04188926097343651666"
     },
     "user_tz": -330
    },
    "id": "ChcWMu2p6n5o",
    "outputId": "a868c77c-3314-4aa3-9051-b6b7a476448a"
   },
   "outputs": [
    {
     "data": {
      "text/plain": [
       "['2.2', '3.3', '4.4', '5.5', '6.6']"
      ]
     },
     "execution_count": 60,
     "metadata": {},
     "output_type": "execute_result"
    }
   ],
   "source": [
    "list1\n",
    "list2\n",
    "list3"
   ]
  },
  {
   "cell_type": "code",
   "execution_count": null,
   "metadata": {
    "colab": {
     "base_uri": "https://localhost:8080/"
    },
    "executionInfo": {
     "elapsed": 408,
     "status": "ok",
     "timestamp": 1662631551931,
     "user": {
      "displayName": "Srushti Patel",
      "userId": "04188926097343651666"
     },
     "user_tz": -330
    },
    "id": "8TBmUtcu6tza",
    "outputId": "b8e92678-b401-418e-b7cd-ee9ba447c5d4"
   },
   "outputs": [
    {
     "name": "stdout",
     "output_type": "stream",
     "text": [
      "['red', 'black', 'green', 'orange']\n",
      "[2, 4, 6, 8, 10, 12]\n",
      "['2.2', '3.3', '4.4', '5.5', '6.6']\n"
     ]
    }
   ],
   "source": [
    "print(list1)\n",
    "print(list2)\n",
    "print(list3)"
   ]
  },
  {
   "cell_type": "code",
   "execution_count": null,
   "metadata": {
    "id": "IpsDidtM7OgS"
   },
   "outputs": [],
   "source": [
    "list1.extend([\"purpul\",\"white\"])\n",
    "list2.extend([12,14])\n",
    "list3.extend(['7.7','8.8'])"
   ]
  },
  {
   "cell_type": "code",
   "execution_count": null,
   "metadata": {
    "colab": {
     "base_uri": "https://localhost:8080/"
    },
    "executionInfo": {
     "elapsed": 423,
     "status": "ok",
     "timestamp": 1662631564914,
     "user": {
      "displayName": "Srushti Patel",
      "userId": "04188926097343651666"
     },
     "user_tz": -330
    },
    "id": "hFb0G5ym8aAS",
    "outputId": "e5c4bd36-5d48-4715-b93b-dc19c2420f8b"
   },
   "outputs": [
    {
     "data": {
      "text/plain": [
       "['2.2', '3.3', '4.4', '5.5', '6.6', '7.7', '8.8']"
      ]
     },
     "execution_count": 9,
     "metadata": {},
     "output_type": "execute_result"
    }
   ],
   "source": [
    "list1\n",
    "list2\n",
    "list3"
   ]
  },
  {
   "cell_type": "code",
   "execution_count": null,
   "metadata": {
    "colab": {
     "base_uri": "https://localhost:8080/"
    },
    "executionInfo": {
     "elapsed": 8,
     "status": "ok",
     "timestamp": 1662621244833,
     "user": {
      "displayName": "Srushti Patel",
      "userId": "04188926097343651666"
     },
     "user_tz": -330
    },
    "id": "5fgH0IPh8e7Z",
    "outputId": "1c5831e8-3435-4686-f3fb-a484a123edee"
   },
   "outputs": [
    {
     "name": "stdout",
     "output_type": "stream",
     "text": [
      "['red', 'black', 'green', 'orange', 'purpul', 'white']\n",
      "[2, 4, 6, 8, 10, 12, 12, 14]\n",
      "['2.2', '3.3', '4.4', '5.5', '6.6', '7.7', '8.8']\n"
     ]
    }
   ],
   "source": [
    "print(list1)\n",
    "print(list2)\n",
    "print(list3)"
   ]
  },
  {
   "cell_type": "code",
   "execution_count": null,
   "metadata": {
    "id": "JpBlzPuF8tih"
   },
   "outputs": [],
   "source": [
    "list1.insert(2,\"grey\")"
   ]
  },
  {
   "cell_type": "code",
   "execution_count": null,
   "metadata": {
    "colab": {
     "base_uri": "https://localhost:8080/"
    },
    "executionInfo": {
     "elapsed": 11,
     "status": "ok",
     "timestamp": 1662621422292,
     "user": {
      "displayName": "Srushti Patel",
      "userId": "04188926097343651666"
     },
     "user_tz": -330
    },
    "id": "SR1xyAu_9W59",
    "outputId": "f80e643d-9c6f-42d1-9441-b1dd3bf154ee"
   },
   "outputs": [
    {
     "data": {
      "text/plain": [
       "['red', 'black', 'grey', 'green', 'orange', 'purpul', 'white']"
      ]
     },
     "execution_count": 67,
     "metadata": {},
     "output_type": "execute_result"
    }
   ],
   "source": [
    "list1"
   ]
  },
  {
   "cell_type": "code",
   "execution_count": null,
   "metadata": {
    "id": "1Zqwrcwm9Y28"
   },
   "outputs": [],
   "source": [
    "list2.append(16)\n"
   ]
  },
  {
   "cell_type": "code",
   "execution_count": null,
   "metadata": {
    "colab": {
     "base_uri": "https://localhost:8080/"
    },
    "executionInfo": {
     "elapsed": 9,
     "status": "ok",
     "timestamp": 1662621940194,
     "user": {
      "displayName": "Srushti Patel",
      "userId": "04188926097343651666"
     },
     "user_tz": -330
    },
    "id": "CGUVU7fH_RXU",
    "outputId": "d810ce9d-7ed8-474a-9059-f61868218513"
   },
   "outputs": [
    {
     "data": {
      "text/plain": [
       "[2, 4, 6, 8, 10, 12, 12, 14, 16, 16]"
      ]
     },
     "execution_count": 73,
     "metadata": {},
     "output_type": "execute_result"
    }
   ],
   "source": [
    "list2\n"
   ]
  },
  {
   "cell_type": "code",
   "execution_count": null,
   "metadata": {
    "colab": {
     "base_uri": "https://localhost:8080/"
    },
    "executionInfo": {
     "elapsed": 380,
     "status": "ok",
     "timestamp": 1662622248986,
     "user": {
      "displayName": "Srushti Patel",
      "userId": "04188926097343651666"
     },
     "user_tz": -330
    },
    "id": "ghATuD7j_XTz",
    "outputId": "1adba67c-e83c-4ad1-ab7e-5fac1f4edacc"
   },
   "outputs": [
    {
     "data": {
      "text/plain": [
       "12"
      ]
     },
     "execution_count": 80,
     "metadata": {},
     "output_type": "execute_result"
    }
   ],
   "source": [
    "list2.pop(5)\n",
    "          "
   ]
  },
  {
   "cell_type": "code",
   "execution_count": null,
   "metadata": {
    "colab": {
     "base_uri": "https://localhost:8080/"
    },
    "executionInfo": {
     "elapsed": 10,
     "status": "ok",
     "timestamp": 1662622052064,
     "user": {
      "displayName": "Srushti Patel",
      "userId": "04188926097343651666"
     },
     "user_tz": -330
    },
    "id": "mk1If_DN_qcc",
    "outputId": "5ae7375d-b80d-4189-9436-6bc25e913163"
   },
   "outputs": [
    {
     "data": {
      "text/plain": [
       "[2, 4, 6, 8, 10, 12, 14, 16, 16]"
      ]
     },
     "execution_count": 76,
     "metadata": {},
     "output_type": "execute_result"
    }
   ],
   "source": [
    "list2"
   ]
  },
  {
   "cell_type": "code",
   "execution_count": null,
   "metadata": {
    "colab": {
     "base_uri": "https://localhost:8080/"
    },
    "executionInfo": {
     "elapsed": 9,
     "status": "ok",
     "timestamp": 1662622082904,
     "user": {
      "displayName": "Srushti Patel",
      "userId": "04188926097343651666"
     },
     "user_tz": -330
    },
    "id": "16k6sojz_yqL",
    "outputId": "bd001ff0-4870-41e7-e506-0e704378c4a3"
   },
   "outputs": [
    {
     "data": {
      "text/plain": [
       "16"
      ]
     },
     "execution_count": 77,
     "metadata": {},
     "output_type": "execute_result"
    }
   ],
   "source": [
    "list2.pop(7)"
   ]
  },
  {
   "cell_type": "code",
   "execution_count": null,
   "metadata": {
    "colab": {
     "base_uri": "https://localhost:8080/"
    },
    "executionInfo": {
     "elapsed": 7,
     "status": "ok",
     "timestamp": 1662622091664,
     "user": {
      "displayName": "Srushti Patel",
      "userId": "04188926097343651666"
     },
     "user_tz": -330
    },
    "id": "ugy38Kk2_6F7",
    "outputId": "c838a0db-c3d6-452d-f874-e1c26e9ff30b"
   },
   "outputs": [
    {
     "data": {
      "text/plain": [
       "[2, 4, 6, 8, 10, 12, 14, 16]"
      ]
     },
     "execution_count": 78,
     "metadata": {},
     "output_type": "execute_result"
    }
   ],
   "source": [
    "list2"
   ]
  },
  {
   "cell_type": "code",
   "execution_count": null,
   "metadata": {
    "id": "DNKmQ-nMDs1j"
   },
   "outputs": [],
   "source": [
    "thislist={'name : srushti', 'place: jalgoan',}"
   ]
  },
  {
   "cell_type": "code",
   "execution_count": null,
   "metadata": {
    "colab": {
     "base_uri": "https://localhost:8080/"
    },
    "executionInfo": {
     "elapsed": 10,
     "status": "ok",
     "timestamp": 1662791121981,
     "user": {
      "displayName": "Srushti Patel",
      "userId": "04188926097343651666"
     },
     "user_tz": -330
    },
    "id": "xpURyhqYET8E",
    "outputId": "5fd83810-4796-4322-fe9a-44dcbe2ef7bc"
   },
   "outputs": [
    {
     "name": "stdout",
     "output_type": "stream",
     "text": [
      "{'place: jalgoan', 'name : srushti'}\n"
     ]
    }
   ],
   "source": [
    "print(thislist)"
   ]
  },
  {
   "cell_type": "code",
   "execution_count": null,
   "metadata": {
    "colab": {
     "base_uri": "https://localhost:8080/"
    },
    "executionInfo": {
     "elapsed": 524,
     "status": "ok",
     "timestamp": 1662791726637,
     "user": {
      "displayName": "Srushti Patel",
      "userId": "04188926097343651666"
     },
     "user_tz": -330
    },
    "id": "igoF7wKVEvXM",
    "outputId": "a38be7e3-2372-416d-b43d-de2b59075fc6"
   },
   "outputs": [
    {
     "name": "stdout",
     "output_type": "stream",
     "text": [
      "the sum of 3.6 and 5.6 is 9.2\n"
     ]
    }
   ],
   "source": [
    "# this program add two num\n",
    "num1 = 3.6\n",
    "num2 =5.6\n",
    "# add two number\n",
    "sum = num1 + num2\n",
    "\n",
    "print('the sum of {0} and {1} is {2}'.format (num1, num2 ,sum))"
   ]
  },
  {
   "cell_type": "code",
   "execution_count": null,
   "metadata": {
    "colab": {
     "base_uri": "https://localhost:8080/"
    },
    "executionInfo": {
     "elapsed": 12774,
     "status": "ok",
     "timestamp": 1662791995146,
     "user": {
      "displayName": "Srushti Patel",
      "userId": "04188926097343651666"
     },
     "user_tz": -330
    },
    "id": "NUn4KISBHDD-",
    "outputId": "6278125b-921f-4c8b-de63-e94332297162"
   },
   "outputs": [
    {
     "name": "stdout",
     "output_type": "stream",
     "text": [
      "enter first num:867\n",
      "enter second num:976\n",
      "the sum of 867 and 976 is 1843\n"
     ]
    }
   ],
   "source": [
    "#store input numbers\n",
    "num1=input('enter first num:')\n",
    "num2=input('enter second num:')\n",
    "\n",
    "#add two numbers\n",
    "sum = int(num1) + int(num2)\n",
    "print('the sum of {0} and {1} is {2}'.format(num1 ,num2 ,sum))"
   ]
  },
  {
   "cell_type": "code",
   "execution_count": null,
   "metadata": {
    "id": "eTON6yQPIBZN"
   },
   "outputs": [],
   "source": [
    "#empty dictionary\n",
    "mydict = {} "
   ]
  },
  {
   "cell_type": "code",
   "execution_count": null,
   "metadata": {
    "id": "qZeHqgVLJnBh"
   },
   "outputs": [],
   "source": [
    "mydict={1: \"srushti\",2 :\"jalgoan\" }"
   ]
  },
  {
   "cell_type": "code",
   "execution_count": null,
   "metadata": {
    "colab": {
     "base_uri": "https://localhost:8080/"
    },
    "executionInfo": {
     "elapsed": 14,
     "status": "ok",
     "timestamp": 1662792565472,
     "user": {
      "displayName": "Srushti Patel",
      "userId": "04188926097343651666"
     },
     "user_tz": -330
    },
    "id": "EHB_WGGrKOLF",
    "outputId": "a51401fd-d4e0-45a0-c6c5-ef349e6804ab"
   },
   "outputs": [
    {
     "data": {
      "text/plain": [
       "{1: 'srushti', 2: 'jalgoan'}"
      ]
     },
     "execution_count": 11,
     "metadata": {},
     "output_type": "execute_result"
    }
   ],
   "source": [
    "mydict"
   ]
  },
  {
   "cell_type": "code",
   "execution_count": null,
   "metadata": {
    "id": "HgRwTcTZKP29"
   },
   "outputs": [],
   "source": [
    "mydict.setdefault('3')"
   ]
  },
  {
   "cell_type": "code",
   "execution_count": null,
   "metadata": {
    "colab": {
     "base_uri": "https://localhost:8080/"
    },
    "executionInfo": {
     "elapsed": 532,
     "status": "ok",
     "timestamp": 1662792710649,
     "user": {
      "displayName": "Srushti Patel",
      "userId": "04188926097343651666"
     },
     "user_tz": -330
    },
    "id": "q-CgR1R9KbUO",
    "outputId": "08b43904-635e-4a52-d2ec-88747b66621e"
   },
   "outputs": [
    {
     "data": {
      "text/plain": [
       "{1: 'srushti', 2: 'jalgoan', '1': None, '3': None}"
      ]
     },
     "execution_count": 17,
     "metadata": {},
     "output_type": "execute_result"
    }
   ],
   "source": [
    "mydict"
   ]
  },
  {
   "cell_type": "code",
   "execution_count": null,
   "metadata": {
    "colab": {
     "base_uri": "https://localhost:8080/"
    },
    "executionInfo": {
     "elapsed": 544,
     "status": "ok",
     "timestamp": 1662792851956,
     "user": {
      "displayName": "Srushti Patel",
      "userId": "04188926097343651666"
     },
     "user_tz": -330
    },
    "id": "IoNKgJ7NKvHe",
    "outputId": "8b4f612e-d522-4af1-f4bf-c9bb664eb705"
   },
   "outputs": [
    {
     "name": "stdout",
     "output_type": "stream",
     "text": [
      "['__class__', '__contains__', '__delattr__', '__delitem__', '__dir__', '__doc__', '__eq__', '__format__', '__ge__', '__getattribute__', '__getitem__', '__gt__', '__hash__', '__init__', '__init_subclass__', '__iter__', '__le__', '__len__', '__lt__', '__ne__', '__new__', '__reduce__', '__reduce_ex__', '__repr__', '__setattr__', '__setitem__', '__sizeof__', '__str__', '__subclasshook__', 'clear', 'copy', 'fromkeys', 'get', 'items', 'keys', 'pop', 'popitem', 'setdefault', 'update', 'values']\n"
     ]
    }
   ],
   "source": [
    "print(dir(mydict))"
   ]
  },
  {
   "cell_type": "code",
   "execution_count": null,
   "metadata": {
    "colab": {
     "base_uri": "https://localhost:8080/",
     "height": 35
    },
    "executionInfo": {
     "elapsed": 618,
     "status": "ok",
     "timestamp": 1662792963916,
     "user": {
      "displayName": "Srushti Patel",
      "userId": "04188926097343651666"
     },
     "user_tz": -330
    },
    "id": "HxE3pBE8LS2d",
    "outputId": "8ee9f5ac-9810-4f2b-ae95-350448c739d3"
   },
   "outputs": [
    {
     "data": {
      "application/vnd.google.colaboratory.intrinsic+json": {
       "type": "string"
      },
      "text/plain": [
       "'jalgoan'"
      ]
     },
     "execution_count": 20,
     "metadata": {},
     "output_type": "execute_result"
    }
   ],
   "source": [
    "mydict.get(2)\n"
   ]
  },
  {
   "cell_type": "code",
   "execution_count": null,
   "metadata": {
    "colab": {
     "base_uri": "https://localhost:8080/"
    },
    "executionInfo": {
     "elapsed": 759,
     "status": "ok",
     "timestamp": 1662793002165,
     "user": {
      "displayName": "Srushti Patel",
      "userId": "04188926097343651666"
     },
     "user_tz": -330
    },
    "id": "fo3SsCa4LxHW",
    "outputId": "2c91909e-1680-4e1a-d466-30b40482f2c4"
   },
   "outputs": [
    {
     "data": {
      "text/plain": [
       "dict_items([(1, 'srushti'), (2, 'jalgoan'), ('1', None), ('3', None)])"
      ]
     },
     "execution_count": 21,
     "metadata": {},
     "output_type": "execute_result"
    }
   ],
   "source": [
    "mydict.items()"
   ]
  },
  {
   "cell_type": "code",
   "execution_count": null,
   "metadata": {
    "colab": {
     "base_uri": "https://localhost:8080/"
    },
    "executionInfo": {
     "elapsed": 953,
     "status": "ok",
     "timestamp": 1662793055308,
     "user": {
      "displayName": "Srushti Patel",
      "userId": "04188926097343651666"
     },
     "user_tz": -330
    },
    "id": "0ka4qhmFL6Zm",
    "outputId": "a950977a-aad5-4c4f-a7c2-fbde847d5e35"
   },
   "outputs": [
    {
     "data": {
      "text/plain": [
       "dict_keys([1, 2, '1', '3'])"
      ]
     },
     "execution_count": 22,
     "metadata": {},
     "output_type": "execute_result"
    }
   ],
   "source": [
    "mydict.keys()"
   ]
  },
  {
   "cell_type": "code",
   "execution_count": null,
   "metadata": {
    "id": "m8qbSurKMHVO"
   },
   "outputs": [],
   "source": [
    "mydict.update({3 : \"mh\"})"
   ]
  },
  {
   "cell_type": "code",
   "execution_count": null,
   "metadata": {
    "colab": {
     "base_uri": "https://localhost:8080/"
    },
    "executionInfo": {
     "elapsed": 541,
     "status": "ok",
     "timestamp": 1662793321666,
     "user": {
      "displayName": "Srushti Patel",
      "userId": "04188926097343651666"
     },
     "user_tz": -330
    },
    "id": "ePO3G-NiM5ZI",
    "outputId": "1de55d7d-8374-4b9b-abf9-78f7a5e7f087"
   },
   "outputs": [
    {
     "data": {
      "text/plain": [
       "{1: 'srushti', 2: 'jalgoan', '1': None, '3': None, 3: 'mh'}"
      ]
     },
     "execution_count": 25,
     "metadata": {},
     "output_type": "execute_result"
    }
   ],
   "source": [
    "mydict"
   ]
  },
  {
   "cell_type": "code",
   "execution_count": null,
   "metadata": {
    "id": "T0q7zH8YNc5O"
   },
   "outputs": [],
   "source": [
    "mydict.pop('1')"
   ]
  },
  {
   "cell_type": "code",
   "execution_count": null,
   "metadata": {
    "colab": {
     "base_uri": "https://localhost:8080/"
    },
    "executionInfo": {
     "elapsed": 549,
     "status": "ok",
     "timestamp": 1662793488245,
     "user": {
      "displayName": "Srushti Patel",
      "userId": "04188926097343651666"
     },
     "user_tz": -330
    },
    "id": "ICZemaYqNu-O",
    "outputId": "61a7bd49-71e6-421d-f11f-868f6f2d08cb"
   },
   "outputs": [
    {
     "data": {
      "text/plain": [
       "{1: 'srushti', 2: 'jalgoan', '3': None, 3: 'mh'}"
      ]
     },
     "execution_count": 28,
     "metadata": {},
     "output_type": "execute_result"
    }
   ],
   "source": [
    "mydict"
   ]
  },
  {
   "cell_type": "code",
   "execution_count": null,
   "metadata": {
    "id": "0mU9u32NNwyt"
   },
   "outputs": [],
   "source": [
    "mydict.pop('3')"
   ]
  },
  {
   "cell_type": "code",
   "execution_count": null,
   "metadata": {
    "colab": {
     "base_uri": "https://localhost:8080/"
    },
    "executionInfo": {
     "elapsed": 560,
     "status": "ok",
     "timestamp": 1662793522536,
     "user": {
      "displayName": "Srushti Patel",
      "userId": "04188926097343651666"
     },
     "user_tz": -330
    },
    "id": "yFdVkAOiN3Bu",
    "outputId": "432637ee-9709-4138-eb8a-fcd292c6f8ce"
   },
   "outputs": [
    {
     "data": {
      "text/plain": [
       "{1: 'srushti', 2: 'jalgoan', 3: 'mh'}"
      ]
     },
     "execution_count": 30,
     "metadata": {},
     "output_type": "execute_result"
    }
   ],
   "source": [
    "mydict"
   ]
  },
  {
   "cell_type": "code",
   "execution_count": null,
   "metadata": {
    "colab": {
     "base_uri": "https://localhost:8080/"
    },
    "executionInfo": {
     "elapsed": 544,
     "status": "ok",
     "timestamp": 1662793685305,
     "user": {
      "displayName": "Srushti Patel",
      "userId": "04188926097343651666"
     },
     "user_tz": -330
    },
    "id": "rKZjJ_x2N5UO",
    "outputId": "b8b071b3-d86f-4f28-c588-aa1c7b6af414"
   },
   "outputs": [
    {
     "data": {
      "text/plain": [
       "dict_values(['srushti', 'jalgoan', 'mh'])"
      ]
     },
     "execution_count": 31,
     "metadata": {},
     "output_type": "execute_result"
    }
   ],
   "source": [
    "mydict.values()"
   ]
  },
  {
   "cell_type": "code",
   "execution_count": null,
   "metadata": {
    "colab": {
     "base_uri": "https://localhost:8080/",
     "height": 269
    },
    "executionInfo": {
     "elapsed": 8245,
     "status": "error",
     "timestamp": 1662795547054,
     "user": {
      "displayName": "Srushti Patel",
      "userId": "04188926097343651666"
     },
     "user_tz": -330
    },
    "id": "G0GzeLiWOhQB",
    "outputId": "81825649-d807-4ce8-859a-0f4c790a74f8"
   },
   "outputs": [
    {
     "name": "stdout",
     "output_type": "stream",
     "text": [
      "enter first number10\n",
      "enter first number20\n"
     ]
    },
    {
     "ename": "IndexError",
     "evalue": "ignored",
     "output_type": "error",
     "traceback": [
      "\u001b[0;31m---------------------------------------------------------------------------\u001b[0m",
      "\u001b[0;31mIndexError\u001b[0m                                Traceback (most recent call last)",
      "\u001b[0;32m<ipython-input-35-116900e920f1>\u001b[0m in \u001b[0;36m<module>\u001b[0;34m\u001b[0m\n\u001b[1;32m     15\u001b[0m \u001b[0mdiv\u001b[0m \u001b[0;34m=\u001b[0m \u001b[0mfloat\u001b[0m\u001b[0;34m(\u001b[0m\u001b[0mnum1\u001b[0m\u001b[0;34m)\u001b[0m \u001b[0;34m/\u001b[0m \u001b[0mfloat\u001b[0m\u001b[0;34m(\u001b[0m\u001b[0mnum2\u001b[0m\u001b[0;34m)\u001b[0m\u001b[0;34m\u001b[0m\u001b[0;34m\u001b[0m\u001b[0m\n\u001b[1;32m     16\u001b[0m \u001b[0;34m\u001b[0m\u001b[0m\n\u001b[0;32m---> 17\u001b[0;31m \u001b[0mprint\u001b[0m\u001b[0;34m(\u001b[0m\u001b[0;34m'the sum of {0} and {1} is {2}'\u001b[0m\u001b[0;34m.\u001b[0m\u001b[0mformat\u001b[0m\u001b[0;34m(\u001b[0m\u001b[0;34m'num1,num2,sum'\u001b[0m\u001b[0;34m)\u001b[0m\u001b[0;34m)\u001b[0m\u001b[0;34m\u001b[0m\u001b[0;34m\u001b[0m\u001b[0m\n\u001b[0m\u001b[1;32m     18\u001b[0m \u001b[0;34m\u001b[0m\u001b[0m\n\u001b[1;32m     19\u001b[0m \u001b[0mprint\u001b[0m\u001b[0;34m(\u001b[0m\u001b[0;34m'the substraction of {0} and {1} is {2}'\u001b[0m\u001b[0;34m.\u001b[0m\u001b[0mformat\u001b[0m\u001b[0;34m(\u001b[0m\u001b[0;34m'num1,num2,min'\u001b[0m\u001b[0;34m)\u001b[0m\u001b[0;34m)\u001b[0m\u001b[0;34m\u001b[0m\u001b[0;34m\u001b[0m\u001b[0m\n",
      "\u001b[0;31mIndexError\u001b[0m: tuple index out of range"
     ]
    }
   ],
   "source": [
    "#store input numbers\n",
    "num1=input('enter first number')\n",
    "num2=input('enter first number')\n",
    "\n",
    "# add two numbers\n",
    "sum =float(num1) +float (num2)\n",
    "\n",
    "#substract two numbers\n",
    "min = float(num1) - float(num2)\n",
    "\n",
    "#multiply two numbers \n",
    "mul = float(num1) * float(num2)\n",
    "\n",
    "#divide two numbers\n",
    "div = float(num1) / float(num2)\n",
    "\n",
    "print('the sum of {0} and {1} is {2}'.format('num1,num2,sum'))\n",
    "\n",
    "print('the substraction of {0} and {1} is {2}'.format('num1,num2,min'))\n",
    "\n",
    "print('the multiplicatiom of {0} and {1} is {2}'.format('num1,num2,mul'))\n",
    "\n",
    "print('the division of {0} and {1} is {2}'.format('num1,num2,div'))"
   ]
  },
  {
   "cell_type": "code",
   "execution_count": null,
   "metadata": {
    "colab": {
     "base_uri": "https://localhost:8080/"
    },
    "executionInfo": {
     "elapsed": 10,
     "status": "ok",
     "timestamp": 1663050030140,
     "user": {
      "displayName": "Srushti Patel",
      "userId": "04188926097343651666"
     },
     "user_tz": -330
    },
    "id": "bS8TEqcAUZyQ",
    "outputId": "b49d35f1-d72c-4206-b3c0-d8efd4f37443"
   },
   "outputs": [
    {
     "name": "stdout",
     "output_type": "stream",
     "text": [
      "1  \n",
      "3  \n",
      "5  \n",
      "7  \n",
      "9  \n",
      "11  \n",
      "13  \n",
      "15  \n",
      "17  \n",
      "19  \n",
      "21  \n",
      "23  \n",
      "25  \n",
      "27  \n",
      "29  \n"
     ]
    }
   ],
   "source": [
    "for i in range(1,30,2):\n",
    " print(i,\" \")"
   ]
  },
  {
   "cell_type": "code",
   "execution_count": null,
   "metadata": {
    "colab": {
     "base_uri": "https://localhost:8080/"
    },
    "executionInfo": {
     "elapsed": 665,
     "status": "ok",
     "timestamp": 1663050111019,
     "user": {
      "displayName": "Srushti Patel",
      "userId": "04188926097343651666"
     },
     "user_tz": -330
    },
    "id": "6vhEdm-0gLOm",
    "outputId": "0c4f6d82-6470-40b1-f6fe-356c65f08b4a"
   },
   "outputs": [
    {
     "name": "stdout",
     "output_type": "stream",
     "text": [
      "1 3 5 7 9 11 13 15 17 19 21 23 25 27 29 "
     ]
    }
   ],
   "source": [
    "for i in range(1,30,2):\n",
    "  print(i, end= \" \")"
   ]
  },
  {
   "cell_type": "code",
   "execution_count": null,
   "metadata": {
    "colab": {
     "base_uri": "https://localhost:8080/"
    },
    "executionInfo": {
     "elapsed": 1126,
     "status": "ok",
     "timestamp": 1663050253958,
     "user": {
      "displayName": "Srushti Patel",
      "userId": "04188926097343651666"
     },
     "user_tz": -330
    },
    "id": "4CnUsmxBgqb9",
    "outputId": "ef7f1fc4-943e-4adb-d530-71cfaf8b05c8"
   },
   "outputs": [
    {
     "name": "stdout",
     "output_type": "stream",
     "text": [
      "2 2004 2006 2008 20010 20012 20014 20016 20018 20020 20022 20024 20026 20028 20030 20032 20034 20036 20038 20040 20042 20044 20046 20048 20050 20052 20054 20056 20058 20060 20062 20064 20066 20068 20070 20072 20074 20076 20078 20080 20082 20084 20086 20088 20090 20092 20094 20096 20098 200100 200102 200104 200106 200108 200110 200112 200114 200116 200118 200120 200122 200124 200126 200128 200130 200132 200134 200136 200138 200140 200142 200144 200146 200148 200150 200152 200154 200156 200158 200160 200162 200164 200166 200168 200170 200172 200174 200176 200178 200180 200182 200184 200186 200188 200190 200192 200194 200196 200198 200"
     ]
    }
   ],
   "source": [
    "for i in range (2,200,2):\n",
    "  print(i,end= \" 200\")\n",
    "            \n"
   ]
  },
  {
   "cell_type": "code",
   "execution_count": null,
   "metadata": {
    "colab": {
     "base_uri": "https://localhost:8080/"
    },
    "executionInfo": {
     "elapsed": 10,
     "status": "ok",
     "timestamp": 1663050353233,
     "user": {
      "displayName": "Srushti Patel",
      "userId": "04188926097343651666"
     },
     "user_tz": -330
    },
    "id": "OBSrJc8zhElU",
    "outputId": "ce83dac2-5236-4995-cf16-e38b1eba8141"
   },
   "outputs": [
    {
     "name": "stdout",
     "output_type": "stream",
     "text": [
      "9\n",
      "18\n",
      "27\n",
      "36\n",
      "45\n",
      "54\n",
      "63\n",
      "72\n",
      "81\n",
      "90\n",
      "99\n",
      "108\n",
      "117\n",
      "126\n"
     ]
    }
   ],
   "source": [
    "n =9\n",
    "for i in range(1,15):\n",
    "  print(i * n)"
   ]
  },
  {
   "cell_type": "code",
   "execution_count": null,
   "metadata": {
    "colab": {
     "base_uri": "https://localhost:8080/"
    },
    "executionInfo": {
     "elapsed": 3,
     "status": "ok",
     "timestamp": 1663050439779,
     "user": {
      "displayName": "Srushti Patel",
      "userId": "04188926097343651666"
     },
     "user_tz": -330
    },
    "id": "DLG7niIZhoDr",
    "outputId": "2b096517-e2dc-4af3-b48e-587253771137"
   },
   "outputs": [
    {
     "name": "stdout",
     "output_type": "stream",
     "text": [
      "9 18 27 36 45 54 63 72 81 90 99 108 117 126 "
     ]
    }
   ],
   "source": [
    "n=9\n",
    "for i in range(1,15):\n",
    "  print(i*n,end=\" \")"
   ]
  },
  {
   "cell_type": "code",
   "execution_count": null,
   "metadata": {
    "colab": {
     "base_uri": "https://localhost:8080/"
    },
    "executionInfo": {
     "elapsed": 9,
     "status": "ok",
     "timestamp": 1663050597061,
     "user": {
      "displayName": "Srushti Patel",
      "userId": "04188926097343651666"
     },
     "user_tz": -330
    },
    "id": "s56tFdMHh9Wj",
    "outputId": "41dc3aa4-dd4f-4a00-87b6-9eea5f7d311f"
   },
   "outputs": [
    {
     "name": "stdout",
     "output_type": "stream",
     "text": [
      "0\n",
      "1\n",
      "2\n",
      "3\n",
      "4\n",
      "5\n",
      "6\n",
      "7\n",
      "8\n",
      "9\n",
      "10\n",
      "11\n",
      "12\n",
      "13\n",
      "14\n",
      "15\n",
      "16\n",
      "17\n",
      "18\n",
      "19\n"
     ]
    }
   ],
   "source": [
    "i=0\n",
    "while i<20 :\n",
    "  print(i)\n",
    "  i += 1"
   ]
  },
  {
   "cell_type": "code",
   "execution_count": null,
   "metadata": {
    "colab": {
     "base_uri": "https://localhost:8080/"
    },
    "executionInfo": {
     "elapsed": 545,
     "status": "ok",
     "timestamp": 1663051179207,
     "user": {
      "displayName": "Srushti Patel",
      "userId": "04188926097343651666"
     },
     "user_tz": -330
    },
    "id": "YJH8HnfVjIGy",
    "outputId": "5b97f6c5-7de6-427c-c744-137b3bf1d39f"
   },
   "outputs": [
    {
     "name": "stdout",
     "output_type": "stream",
     "text": [
      "112\n",
      "97\n",
      "116\n",
      "101\n",
      "108\n",
      "32\n",
      "115\n",
      "114\n",
      "117\n",
      "115\n",
      "104\n",
      "116\n",
      "105\n"
     ]
    }
   ],
   "source": [
    "name ='patel srushti'\n",
    "\n",
    "c =' '\n",
    "for i in name:\n",
    "  print(ord(i))"
   ]
  },
  {
   "cell_type": "code",
   "execution_count": null,
   "metadata": {
    "colab": {
     "base_uri": "https://localhost:8080/"
    },
    "executionInfo": {
     "elapsed": 765,
     "status": "ok",
     "timestamp": 1663051185656,
     "user": {
      "displayName": "Srushti Patel",
      "userId": "04188926097343651666"
     },
     "user_tz": -330
    },
    "id": "2q-qZmQwkVDJ",
    "outputId": "ce440dfb-2c70-4d3c-9105-ba6ed216e934"
   },
   "outputs": [
    {
     "name": "stdout",
     "output_type": "stream",
     "text": [
      "80\n",
      "65\n",
      "84\n",
      "69\n",
      "76\n",
      "0\n",
      "83\n",
      "82\n",
      "85\n",
      "83\n",
      "72\n",
      "84\n",
      "73\n"
     ]
    }
   ],
   "source": [
    "for i in name:\n",
    "  print(ord(i)- 32)"
   ]
  },
  {
   "cell_type": "code",
   "execution_count": null,
   "metadata": {
    "colab": {
     "base_uri": "https://localhost:8080/"
    },
    "executionInfo": {
     "elapsed": 9,
     "status": "ok",
     "timestamp": 1663051306794,
     "user": {
      "displayName": "Srushti Patel",
      "userId": "04188926097343651666"
     },
     "user_tz": -330
    },
    "id": "EoY43JomkrNw",
    "outputId": "fa1adfbf-1767-4ee2-d786-6cf4e7c4d241"
   },
   "outputs": [
    {
     "name": "stdout",
     "output_type": "stream",
     "text": [
      "P 80\n",
      "A 65\n",
      "T 84\n",
      "E 69\n",
      "L 76\n",
      "\u0000 0\n",
      "S 83\n",
      "R 82\n",
      "U 85\n",
      "S 83\n",
      "H 72\n",
      "T 84\n",
      "I 73\n"
     ]
    }
   ],
   "source": [
    "for i in name:\n",
    "  print(chr(ord(i)-32),ord(i)-32)"
   ]
  },
  {
   "cell_type": "code",
   "execution_count": null,
   "metadata": {
    "colab": {
     "base_uri": "https://localhost:8080/"
    },
    "executionInfo": {
     "elapsed": 10,
     "status": "ok",
     "timestamp": 1663051403428,
     "user": {
      "displayName": "Srushti Patel",
      "userId": "04188926097343651666"
     },
     "user_tz": -330
    },
    "id": "D8ueWfF6lRLv",
    "outputId": "faaff92b-9c2f-4281-b6a1-f1e20143f195"
   },
   "outputs": [
    {
     "name": "stdout",
     "output_type": "stream",
     "text": [
      "112 P 80\n",
      "97 A 65\n",
      "116 T 84\n",
      "101 E 69\n",
      "108 L 76\n",
      "32 \u0000 0\n",
      "115 S 83\n",
      "114 R 82\n",
      "117 U 85\n",
      "115 S 83\n",
      "104 H 72\n",
      "116 T 84\n",
      "105 I 73\n"
     ]
    }
   ],
   "source": [
    "for i in name:\n",
    "  print(ord(i),chr(ord(i)-32),ord(i)-32)"
   ]
  },
  {
   "cell_type": "code",
   "execution_count": null,
   "metadata": {
    "colab": {
     "base_uri": "https://localhost:8080/"
    },
    "executionInfo": {
     "elapsed": 13920,
     "status": "ok",
     "timestamp": 1663052694322,
     "user": {
      "displayName": "Srushti Patel",
      "userId": "04188926097343651666"
     },
     "user_tz": -330
    },
    "id": "xmSDpTNDnPgm",
    "outputId": "1b325c2b-4e7a-42d1-a1d7-f6ab8a459226"
   },
   "outputs": [
    {
     "name": "stdout",
     "output_type": "stream",
     "text": [
      "enter your name:srushti\n",
      "SRUSHTI\n"
     ]
    }
   ],
   "source": [
    "name = input('enter your name:')\n",
    "c = ''\n",
    "for i in name:\n",
    "  c += chr(ord(i)-32)\n",
    "else:\n",
    "   print(c)  "
   ]
  },
  {
   "cell_type": "code",
   "execution_count": null,
   "metadata": {
    "colab": {
     "base_uri": "https://localhost:8080/"
    },
    "executionInfo": {
     "elapsed": 814,
     "status": "ok",
     "timestamp": 1663053026271,
     "user": {
      "displayName": "Srushti Patel",
      "userId": "04188926097343651666"
     },
     "user_tz": -330
    },
    "id": "2K01RFvwrWJ1",
    "outputId": "240b00a8-5d0d-42e4-f7fb-1ab05dc5551f"
   },
   "outputs": [
    {
     "name": "stdout",
     "output_type": "stream",
     "text": [
      "2\n",
      "4\n",
      "6\n",
      "8\n",
      "finished.\n"
     ]
    }
   ],
   "source": [
    "digits = [ 2,4,6,8]\n",
    "for i in digits:\n",
    "  print(i)\n",
    "else:\n",
    "  print(\"finished.\")   "
   ]
  },
  {
   "cell_type": "code",
   "execution_count": null,
   "metadata": {
    "colab": {
     "base_uri": "https://localhost:8080/"
    },
    "executionInfo": {
     "elapsed": 516,
     "status": "ok",
     "timestamp": 1663053386839,
     "user": {
      "displayName": "Srushti Patel",
      "userId": "04188926097343651666"
     },
     "user_tz": -330
    },
    "id": "CsM5n8Dar004",
    "outputId": "8cf48e5b-14c6-4d7c-98b1-6504311edbe1"
   },
   "outputs": [
    {
     "name": "stdout",
     "output_type": "stream",
     "text": [
      "s\n",
      "t\n",
      "r\n"
     ]
    }
   ],
   "source": [
    "for val in \"string\":\n",
    "   if val == \"i\":\n",
    "     break\n",
    "   print(val)  \n"
   ]
  },
  {
   "cell_type": "code",
   "execution_count": null,
   "metadata": {
    "colab": {
     "base_uri": "https://localhost:8080/"
    },
    "executionInfo": {
     "elapsed": 40,
     "status": "ok",
     "timestamp": 1663053675213,
     "user": {
      "displayName": "Srushti Patel",
      "userId": "04188926097343651666"
     },
     "user_tz": -330
    },
    "id": "Riik6UmqtBm_",
    "outputId": "085fbdaf-5907-44dc-d9c4-85f90432119a"
   },
   "outputs": [
    {
     "name": "stdout",
     "output_type": "stream",
     "text": [
      "s\n",
      "t\n",
      "r\n",
      "i\n",
      "g\n",
      "s\n"
     ]
    }
   ],
   "source": [
    "for val in \"strings\":\n",
    "   if val == \"n\":\n",
    "     continue\n",
    "   print(val)"
   ]
  },
  {
   "cell_type": "code",
   "execution_count": null,
   "metadata": {
    "colab": {
     "base_uri": "https://localhost:8080/"
    },
    "executionInfo": {
     "elapsed": 788,
     "status": "ok",
     "timestamp": 1663055213737,
     "user": {
      "displayName": "Srushti Patel",
      "userId": "04188926097343651666"
     },
     "user_tz": -330
    },
    "id": "Gnbqvglqtoqn",
    "outputId": "343aa6e0-36d3-4d14-8f71-584db7b8f7e8"
   },
   "outputs": [
    {
     "name": "stdout",
     "output_type": "stream",
     "text": [
      "  **                                        \n",
      "  *  **  *                                      \n",
      "  *  *  **  *  *                                    \n",
      "  *  *  *  **  *  *  *                                  \n",
      "  *  *  *  *  **  *  *  *  *                                \n",
      "  *  *  *  *  *  **  *  *  *  *  *                              \n",
      "  *  *  *  *  *  *  **  *  *  *  *  *  *                            \n",
      "  *  *  *  *  *  *  *  **  *  *  *  *  *  *  *                          \n",
      "  *  *  *  *  *  *  *  *  **  *  *  *  *  *  *  *  *                        \n",
      "  *  *  *  *  *  *  *  *  *  **  *  *  *  *  *  *  *  *  *                      \n",
      "  *  *  *  *  *  *  *  *  *  *  **  *  *  *  *  *  *  *  *  *  *                    \n",
      "  *  *  *  *  *  *  *  *  *  *  *  **  *  *  *  *  *  *  *  *  *  *  *                  \n",
      "  *  *  *  *  *  *  *  *  *  *  *  *  **  *  *  *  *  *  *  *  *  *  *  *  *                \n",
      "  *  *  *  *  *  *  *  *  *  *  *  *  *  **  *  *  *  *  *  *  *  *  *  *  *  *  *              \n",
      "  *  *  *  *  *  *  *  *  *  *  *  *  *  *  **  *  *  *  *  *  *  *  *  *  *  *  *  *  *            \n",
      "  *  *  *  *  *  *  *  *  *  *  *  *  *  *  *  **  *  *  *  *  *  *  *  *  *  *  *  *  *  *  *          \n",
      "  *  *  *  *  *  *  *  *  *  *  *  *  *  *  *  *  **  *  *  *  *  *  *  *  *  *  *  *  *  *  *  *  *        \n",
      "  *  *  *  *  *  *  *  *  *  *  *  *  *  *  *  *  *  **  *  *  *  *  *  *  *  *  *  *  *  *  *  *  *  *  *      \n",
      "  *  *  *  *  *  *  *  *  *  *  *  *  *  *  *  *  *  *  **  *  *  *  *  *  *  *  *  *  *  *  *  *  *  *  *  *  *    \n",
      "  *  *  *  *  *  *  *  *  *  *  *  *  *  *  *  *  *  *  *  *\n",
      "  *  *  *  *  *  *  *  *  *  *  *  *  *  *  *  *  *  *  *\n",
      "  *  *  *  *  *  *  *  *  *  *  *  *  *  *  *  *  *  *\n",
      "  *  *  *  *  *  *  *  *  *  *  *  *  *  *  *  *  *\n",
      "  *  *  *  *  *  *  *  *  *  *  *  *  *  *  *  *\n",
      "  *  *  *  *  *  *  *  *  *  *  *  *  *  *  *\n",
      "  *  *  *  *  *  *  *  *  *  *  *  *  *  *\n",
      "  *  *  *  *  *  *  *  *  *  *  *  *  *\n",
      "  *  *  *  *  *  *  *  *  *  *  *  *\n",
      "  *  *  *  *  *  *  *  *  *  *  *\n",
      "  *  *  *  *  *  *  *  *  *  *\n",
      "  *  *  *  *  *  *  *  *  *\n",
      "  *  *  *  *  *  *  *  *\n",
      "  *  *  *  *  *  *  *\n",
      "  *  *  *  *  *  *\n",
      "  *  *  *  *  *\n",
      "  *  *  *  *\n",
      "  *  *  *\n",
      "  *  *\n"
     ]
    }
   ],
   "source": [
    "for i in range (1,20,1):\n",
    " print('  *' * i + '*  ' * i + '  '* (20 - i))\n",
    "\n",
    "\n",
    "for i in range (20,1,-1):\n",
    "  print( '  *' * i )\n",
    "               "
   ]
  },
  {
   "cell_type": "code",
   "execution_count": null,
   "metadata": {
    "id": "6XyMl-iBvxmN"
   },
   "outputs": [],
   "source": [
    "l1 = [ 11,12,13,14,15,16,17,18,19,20]\n",
    " for i in l"
   ]
  },
  {
   "cell_type": "code",
   "execution_count": 5,
   "metadata": {
    "colab": {
     "base_uri": "https://localhost:8080/",
     "height": 235
    },
    "executionInfo": {
     "elapsed": 6873,
     "status": "error",
     "timestamp": 1663341858851,
     "user": {
      "displayName": "Srushti Patel",
      "userId": "04188926097343651666"
     },
     "user_tz": -330
    },
    "id": "vgN0Yu7S5aal",
    "outputId": "9966116e-cb09-40d4-d762-c57e1cbd78d0"
   },
   "outputs": [
    {
     "name": "stdout",
     "output_type": "stream",
     "text": [
      "enter the positive number:2\n"
     ]
    },
    {
     "ename": "TypeError",
     "evalue": "ignored",
     "output_type": "error",
     "traceback": [
      "\u001b[0;31m---------------------------------------------------------------------------\u001b[0m",
      "\u001b[0;31mTypeError\u001b[0m                                 Traceback (most recent call last)",
      "\u001b[0;32m<ipython-input-5-0a80c53fb482>\u001b[0m in \u001b[0;36m<module>\u001b[0;34m\u001b[0m\n\u001b[1;32m      1\u001b[0m \u001b[0;31m#Write a python program to sum of the first n positive integers.\u001b[0m\u001b[0;34m\u001b[0m\u001b[0;34m\u001b[0m\u001b[0;34m\u001b[0m\u001b[0m\n\u001b[1;32m      2\u001b[0m \u001b[0mn\u001b[0m\u001b[0;34m=\u001b[0m\u001b[0;34m(\u001b[0m\u001b[0minput\u001b[0m\u001b[0;34m(\u001b[0m\u001b[0;34m\"enter the positive number:\"\u001b[0m\u001b[0;34m)\u001b[0m\u001b[0;34m)\u001b[0m\u001b[0;34m\u001b[0m\u001b[0;34m\u001b[0m\u001b[0m\n\u001b[0;32m----> 3\u001b[0;31m \u001b[0msum\u001b[0m\u001b[0;34m=\u001b[0m\u001b[0;34m(\u001b[0m\u001b[0mn\u001b[0m\u001b[0;34m*\u001b[0m\u001b[0;34m(\u001b[0m\u001b[0mn\u001b[0m\u001b[0;34m+\u001b[0m\u001b[0;36m1\u001b[0m\u001b[0;34m)\u001b[0m\u001b[0;34m)\u001b[0m\u001b[0;34m/\u001b[0m\u001b[0;36m2\u001b[0m\u001b[0;34m\u001b[0m\u001b[0;34m\u001b[0m\u001b[0m\n\u001b[0m\u001b[1;32m      4\u001b[0m \u001b[0mprint\u001b[0m\u001b[0;34m(\u001b[0m\u001b[0msum\u001b[0m\u001b[0;34m)\u001b[0m\u001b[0;34m\u001b[0m\u001b[0;34m\u001b[0m\u001b[0m\n",
      "\u001b[0;31mTypeError\u001b[0m: can only concatenate str (not \"int\") to str"
     ]
    }
   ],
   "source": [
    "#Write a python program to sum of the first n positive integers.\n",
    "n=(input(\"enter the positive number:\"))\n",
    "sum=(n*(n+1))/2\n",
    "print(sum)"
   ]
  },
  {
   "cell_type": "code",
   "execution_count": null,
   "metadata": {
    "colab": {
     "base_uri": "https://localhost:8080/"
    },
    "executionInfo": {
     "elapsed": 9401,
     "status": "ok",
     "timestamp": 1663237234649,
     "user": {
      "displayName": "Srushti Patel",
      "userId": "04188926097343651666"
     },
     "user_tz": -330
    },
    "id": "vBYy_Cn_2kdX",
    "outputId": "e387a559-38c8-4e52-f794-91f5a2e5b76c"
   },
   "outputs": [
    {
     "name": "stdout",
     "output_type": "stream",
     "text": [
      "Input an integer: 1\n",
      "Sum of the first 1 positive integers: 1\n"
     ]
    }
   ],
   "source": [
    "#Write a python program to sum of the first n positive integers.\n",
    "n = int(input(\"Input an integer: \"))\n",
    "result = sum(range(n+1))\n",
    "print(\"Sum of the first\", n ,\"positive integers:\",result)"
   ]
  },
  {
   "cell_type": "code",
   "execution_count": null,
   "metadata": {
    "colab": {
     "base_uri": "https://localhost:8080/"
    },
    "executionInfo": {
     "elapsed": 17,
     "status": "ok",
     "timestamp": 1663236845548,
     "user": {
      "displayName": "Srushti Patel",
      "userId": "04188926097343651666"
     },
     "user_tz": -330
    },
    "id": "n-RfbPjH2lhX",
    "outputId": "20eedc6f-49dd-4764-fde8-b2aa4f715ef1"
   },
   "outputs": [
    {
     "name": "stdout",
     "output_type": "stream",
     "text": [
      "\n",
      "1\n",
      "\n"
     ]
    }
   ],
   "source": [
    "#Write a Python program to count occurrences of a substring in a string.\n",
    "str1 = ' quick brown fox jumTheps over the lazy dog.'\n",
    "print()\n",
    "print(str1.count(\"fox\"))\n",
    "print()"
   ]
  },
  {
   "cell_type": "code",
   "execution_count": null,
   "metadata": {
    "colab": {
     "base_uri": "https://localhost:8080/"
    },
    "executionInfo": {
     "elapsed": 10,
     "status": "ok",
     "timestamp": 1663310104509,
     "user": {
      "displayName": "Srushti Patel",
      "userId": "04188926097343651666"
     },
     "user_tz": -330
    },
    "id": "wwy7vXTKo9th",
    "outputId": "ef06cdcd-86e4-409d-8b49-982e77964d70"
   },
   "outputs": [
    {
     "name": "stdout",
     "output_type": "stream",
     "text": [
      "{'hello,': 1, 'i': 1, 'am': 1, 'srushti': 1}\n"
     ]
    }
   ],
   "source": [
    "#Write a Python program to count the occurrences of each word in a given sentence.\n",
    "def word_count(str):\n",
    "    counts = dict()\n",
    "    words = str.split()\n",
    "\n",
    "    for word in words:\n",
    "        if word in counts:\n",
    "            counts[word] += 1\n",
    "        else:\n",
    "            counts[word] = 1\n",
    "    return counts\n",
    "\n",
    "print( word_count('hello, i am srushti'))"
   ]
  },
  {
   "cell_type": "code",
   "execution_count": null,
   "metadata": {
    "colab": {
     "base_uri": "https://localhost:8080/"
    },
    "executionInfo": {
     "elapsed": 519,
     "status": "ok",
     "timestamp": 1663238490167,
     "user": {
      "displayName": "Srushti Patel",
      "userId": "04188926097343651666"
     },
     "user_tz": -330
    },
    "id": "NPuKQq3jrVkU",
    "outputId": "60c4b58f-2cab-4acf-a309-78ce68fcf080"
   },
   "outputs": [
    {
     "name": "stdout",
     "output_type": "stream",
     "text": [
      "xyc abz\n"
     ]
    }
   ],
   "source": [
    "|#Write a Python program to get a single string from two given strings, separated by a space and swap the first two characters of each string.\n",
    "def chars_mix_up(a, b):\n",
    "  new_a = b[:2] + a[2:]\n",
    "  new_b = a[:2] + b[2:]\n",
    "\n",
    "  return new_a + ' ' + new_b\n",
    "print(chars_mix_up('abc', 'xyz'))"
   ]
  },
  {
   "cell_type": "code",
   "execution_count": null,
   "metadata": {
    "colab": {
     "base_uri": "https://localhost:8080/"
    },
    "executionInfo": {
     "elapsed": 17734,
     "status": "ok",
     "timestamp": 1663313618881,
     "user": {
      "displayName": "Srushti Patel",
      "userId": "04188926097343651666"
     },
     "user_tz": -330
    },
    "id": "cnd0q2RAvUKA",
    "outputId": "550cacc3-a070-436c-adb6-179eea749596"
   },
   "outputs": [
    {
     "name": "stdout",
     "output_type": "stream",
     "text": [
      "string\n",
      "stringly\n"
     ]
    }
   ],
   "source": [
    "#Write a Python program to add 'ing' at the end of a given string (length should be at least 3).\n",
    "#If the given string already ends with 'ing' then add 'ly' instead If the string length of the given\n",
    "#string is less than 3, leave it unchanged\n",
    "string = input()\n",
    "if len(string)<3:\n",
    "  print(string)\n",
    "else :\n",
    "  print(string + 'ly')    "
   ]
  },
  {
   "cell_type": "code",
   "execution_count": null,
   "metadata": {
    "colab": {
     "base_uri": "https://localhost:8080/"
    },
    "executionInfo": {
     "elapsed": 14115,
     "status": "ok",
     "timestamp": 1663312866695,
     "user": {
      "displayName": "Srushti Patel",
      "userId": "04188926097343651666"
     },
     "user_tz": -330
    },
    "id": "xGE4PcuvxGsm",
    "outputId": "730eae79-947f-49c1-d4c3-42f075c85488"
   },
   "outputs": [
    {
     "name": "stdout",
     "output_type": "stream",
     "text": [
      "enter a string:her work is not so poor\n",
      "her work is good\n"
     ]
    }
   ],
   "source": [
    "#Write a Python program to find the first appearance of the substring 'not' and 'poor' from a given string, if\n",
    "#'not' follows the 'poor', replace the whole 'not'...'poor' substring with 'good'.\n",
    "#Return the resulting string\n",
    "a = input('enter a string:')\n",
    "b = a\n",
    "c=d=0\n",
    "c=a.find('not')\n",
    "d=a.find('poor')\n",
    "if c>=0 and d >=0:\n",
    "  b=b.replace(b[c:d+4],'good')\n",
    "  print(b)"
   ]
  },
  {
   "cell_type": "code",
   "execution_count": null,
   "metadata": {
    "colab": {
     "base_uri": "https://localhost:8080/",
     "height": 130
    },
    "executionInfo": {
     "elapsed": 416,
     "status": "error",
     "timestamp": 1663314578545,
     "user": {
      "displayName": "Srushti Patel",
      "userId": "04188926097343651666"
     },
     "user_tz": -330
    },
    "id": "VyTsRkYXy89o",
    "outputId": "3016e8a5-a027-4930-ebfc-90f9fb8f0412"
   },
   "outputs": [
    {
     "ename": "IndentationError",
     "evalue": "ignored",
     "output_type": "error",
     "traceback": [
      "\u001b[0;36m  File \u001b[0;32m\"<ipython-input-24-1412b41f5319>\"\u001b[0;36m, line \u001b[0;32m3\u001b[0m\n\u001b[0;31m    def find.gcd(a,b):\u001b[0m\n\u001b[0m    ^\u001b[0m\n\u001b[0;31mIndentationError\u001b[0m\u001b[0;31m:\u001b[0m unexpected indent\n"
     ]
    }
   ],
   "source": [
    "\n",
    "#Program to find Greatest Common Divisor of two numbers.\n",
    "#For example, the GCD of 20 and 28 is 4 and GCD of 98 and 56 is 14.\n",
    " def find.gcd(a,b):\n",
    "   if (b==0):\n",
    "     return a\n",
    "   else:\n",
    "     return gcd(b,a%b)\n",
    "\n",
    " num1=int(input('enter the number:'))      \n",
    " num2=int(input('enter the number:'))\n",
    "\n",
    " val=findgcd(num1,num2)\n",
    " print(\" the result of{0} and {1}={2}\".format(num1,num2,val)\n",
    " \n"
   ]
  },
  {
   "cell_type": "markdown",
   "metadata": {
    "id": "eOezbMb7Mv5G"
   },
   "source": []
  },
  {
   "cell_type": "code",
   "execution_count": null,
   "metadata": {
    "id": "NNhEQ3UV0EO2"
   },
   "outputs": [],
   "source": []
  },
  {
   "cell_type": "code",
   "execution_count": null,
   "metadata": {
    "colab": {
     "base_uri": "https://localhost:8080/",
     "height": 130
    },
    "executionInfo": {
     "elapsed": 386,
     "status": "error",
     "timestamp": 1663315695983,
     "user": {
      "displayName": "Srushti Patel",
      "userId": "04188926097343651666"
     },
     "user_tz": -330
    },
    "id": "3oGntJ3421xS",
    "outputId": "911718f5-1ad7-4108-d144-f1e465093365"
   },
   "outputs": [
    {
     "ename": "IndentationError",
     "evalue": "ignored",
     "output_type": "error",
     "traceback": [
      "\u001b[0;36m  File \u001b[0;32m\"<tokenize>\"\u001b[0;36m, line \u001b[0;32m7\u001b[0m\n\u001b[0;31m    print(\"is sublist present in list? :\" + str(result))\u001b[0m\n\u001b[0m    ^\u001b[0m\n\u001b[0;31mIndentationError\u001b[0m\u001b[0;31m:\u001b[0m unindent does not match any outer indentation level\n"
     ]
    }
   ],
   "source": [
    "#Write a Python program to check whether a list contains a sublist\n",
    "list =[1,2,3,4,5,6,7]\n",
    "print(list)\n",
    "sublist = [3,5,7]\n",
    "result= any(list[i:i + len(sublist)])==sublist\n",
    "        for i in range(len(list)-len(sublist)+1)\n",
    "    print(\"is sublist present in list? :\" + str(result))            "
   ]
  },
  {
   "cell_type": "code",
   "execution_count": null,
   "metadata": {
    "colab": {
     "base_uri": "https://localhost:8080/"
    },
    "executionInfo": {
     "elapsed": 462,
     "status": "ok",
     "timestamp": 1663317406525,
     "user": {
      "displayName": "Srushti Patel",
      "userId": "04188926097343651666"
     },
     "user_tz": -330
    },
    "id": "iMkKkQM1a8Rt",
    "outputId": "d1b8db90-7ae5-4fe8-a39a-eb9a74f3d1fd"
   },
   "outputs": [
    {
     "name": "stdout",
     "output_type": "stream",
     "text": [
      "second smallest number is: 4\n"
     ]
    }
   ],
   "source": [
    "#Write a Python program to find the second smallest number in a list.\n",
    "l1 = [2,5,7,8,4]\n",
    "l1.sort()\n",
    "print(\"second smallest number is:\",l1[1])\n"
   ]
  },
  {
   "cell_type": "code",
   "execution_count": null,
   "metadata": {
    "colab": {
     "base_uri": "https://localhost:8080/",
     "height": 130
    },
    "executionInfo": {
     "elapsed": 407,
     "status": "error",
     "timestamp": 1663318347011,
     "user": {
      "displayName": "Srushti Patel",
      "userId": "04188926097343651666"
     },
     "user_tz": -330
    },
    "id": "sCauRoYhcW1Q",
    "outputId": "0df1674f-e4d5-4df5-b9ec-c12dc4267c5c"
   },
   "outputs": [
    {
     "ename": "SyntaxError",
     "evalue": "ignored",
     "output_type": "error",
     "traceback": [
      "\u001b[0;36m  File \u001b[0;32m\"<ipython-input-38-873b357c7ac8>\"\u001b[0;36m, line \u001b[0;32m4\u001b[0m\n\u001b[0;31m    for l2 not in l1:\u001b[0m\n\u001b[0m             ^\u001b[0m\n\u001b[0;31mSyntaxError\u001b[0m\u001b[0;31m:\u001b[0m invalid syntax\n"
     ]
    }
   ],
   "source": [
    "#Write a Python program to get unique values from a list.\n",
    "l1 = [10,20,40,20,30,10]\n",
    "l2=[]\n",
    "for l2 not in l1:\n",
    "  l2.append(l1)\n",
    "  print(l2)"
   ]
  },
  {
   "cell_type": "code",
   "execution_count": null,
   "metadata": {
    "colab": {
     "base_uri": "https://localhost:8080/",
     "height": 130
    },
    "executionInfo": {
     "elapsed": 410,
     "status": "error",
     "timestamp": 1663319219270,
     "user": {
      "displayName": "Srushti Patel",
      "userId": "04188926097343651666"
     },
     "user_tz": -330
    },
    "id": "Bk0C20F8gEVb",
    "outputId": "db8f69c8-73dc-4cbf-9ba2-d8fbe575365f"
   },
   "outputs": [
    {
     "ename": "IndentationError",
     "evalue": "ignored",
     "output_type": "error",
     "traceback": [
      "\u001b[0;36m  File \u001b[0;32m\"<ipython-input-48-028ed7f562d2>\"\u001b[0;36m, line \u001b[0;32m4\u001b[0m\n\u001b[0;31m    unique.append(l1)\u001b[0m\n\u001b[0m    ^\u001b[0m\n\u001b[0;31mIndentationError\u001b[0m\u001b[0;31m:\u001b[0m unexpected indent\n"
     ]
    }
   ],
   "source": [
    "l1=[ 10,30,40,20,10,20]\n",
    "unique =[]\n",
    "  \n",
    "  unique.append(l1)\n",
    "     \n",
    "  print(unique) "
   ]
  },
  {
   "cell_type": "code",
   "execution_count": null,
   "metadata": {
    "colab": {
     "base_uri": "https://localhost:8080/",
     "height": 217
    },
    "executionInfo": {
     "elapsed": 414,
     "status": "error",
     "timestamp": 1663319440273,
     "user": {
      "displayName": "Srushti Patel",
      "userId": "04188926097343651666"
     },
     "user_tz": -330
    },
    "id": "GJcQI187jksY",
    "outputId": "a1616745-82b9-49fa-a7d3-c07d09c41238"
   },
   "outputs": [
    {
     "ename": "TypeError",
     "evalue": "ignored",
     "output_type": "error",
     "traceback": [
      "\u001b[0;31m---------------------------------------------------------------------------\u001b[0m",
      "\u001b[0;31mTypeError\u001b[0m                                 Traceback (most recent call last)",
      "\u001b[0;32m<ipython-input-49-d43dd467f06e>\u001b[0m in \u001b[0;36m<module>\u001b[0;34m\u001b[0m\n\u001b[1;32m      1\u001b[0m \u001b[0ml1\u001b[0m\u001b[0;34m=\u001b[0m\u001b[0;34m[\u001b[0m\u001b[0;36m10\u001b[0m\u001b[0;34m,\u001b[0m\u001b[0;36m30\u001b[0m\u001b[0;34m,\u001b[0m\u001b[0;36m20\u001b[0m\u001b[0;34m,\u001b[0m\u001b[0;36m30\u001b[0m\u001b[0;34m,\u001b[0m\u001b[0;36m20\u001b[0m\u001b[0;34m]\u001b[0m\u001b[0;34m\u001b[0m\u001b[0;34m\u001b[0m\u001b[0m\n\u001b[1;32m      2\u001b[0m \u001b[0ml2\u001b[0m\u001b[0;34m=\u001b[0m\u001b[0mset\u001b[0m\u001b[0;34m(\u001b[0m\u001b[0ml1\u001b[0m\u001b[0;34m)\u001b[0m\u001b[0;34m\u001b[0m\u001b[0;34m\u001b[0m\u001b[0m\n\u001b[0;32m----> 3\u001b[0;31m \u001b[0ml3\u001b[0m\u001b[0;34m=\u001b[0m\u001b[0mlist\u001b[0m\u001b[0;34m(\u001b[0m\u001b[0ml2\u001b[0m\u001b[0;34m)\u001b[0m\u001b[0;34m\u001b[0m\u001b[0;34m\u001b[0m\u001b[0m\n\u001b[0m\u001b[1;32m      4\u001b[0m \u001b[0mprint\u001b[0m\u001b[0;34m(\u001b[0m\u001b[0ml3\u001b[0m\u001b[0;34m)\u001b[0m\u001b[0;34m\u001b[0m\u001b[0;34m\u001b[0m\u001b[0m\n",
      "\u001b[0;31mTypeError\u001b[0m: 'list' object is not callable"
     ]
    }
   ],
   "source": [
    "l1=[10,30,20,30,20]\n",
    "l2=set(l1)"
   ]
  },
  {
   "cell_type": "code",
   "execution_count": null,
   "metadata": {
    "colab": {
     "base_uri": "https://localhost:8080/",
     "height": 200
    },
    "executionInfo": {
     "elapsed": 440,
     "status": "error",
     "timestamp": 1663320222193,
     "user": {
      "displayName": "Srushti Patel",
      "userId": "04188926097343651666"
     },
     "user_tz": -330
    },
    "id": "tBLAUvZekNcQ",
    "outputId": "681bb803-d23a-48a6-abba-64916098c2a0"
   },
   "outputs": [
    {
     "ename": "TypeError",
     "evalue": "ignored",
     "output_type": "error",
     "traceback": [
      "\u001b[0;31m---------------------------------------------------------------------------\u001b[0m",
      "\u001b[0;31mTypeError\u001b[0m                                 Traceback (most recent call last)",
      "\u001b[0;32m<ipython-input-51-e4237c837f2a>\u001b[0m in \u001b[0;36m<module>\u001b[0;34m\u001b[0m\n\u001b[1;32m      1\u001b[0m \u001b[0;31m#Write a Python program to unzip a list of tuples into individual lists.\u001b[0m\u001b[0;34m\u001b[0m\u001b[0;34m\u001b[0m\u001b[0;34m\u001b[0m\u001b[0m\n\u001b[1;32m      2\u001b[0m \u001b[0ml\u001b[0m\u001b[0;34m=\u001b[0m\u001b[0;34m[\u001b[0m\u001b[0;34m(\u001b[0m\u001b[0;36m1\u001b[0m\u001b[0;34m,\u001b[0m\u001b[0;36m2\u001b[0m\u001b[0;34m)\u001b[0m\u001b[0;34m,\u001b[0m\u001b[0;34m(\u001b[0m\u001b[0;36m3\u001b[0m\u001b[0;34m,\u001b[0m\u001b[0;36m4\u001b[0m\u001b[0;34m)\u001b[0m\u001b[0;34m]\u001b[0m\u001b[0;34m\u001b[0m\u001b[0;34m\u001b[0m\u001b[0m\n\u001b[0;32m----> 3\u001b[0;31m \u001b[0mprint\u001b[0m\u001b[0;34m(\u001b[0m\u001b[0ml\u001b[0m\u001b[0;34m(\u001b[0m\u001b[0mzip\u001b[0m\u001b[0;34m(\u001b[0m\u001b[0;34m*\u001b[0m\u001b[0;36m1\u001b[0m\u001b[0;34m)\u001b[0m\u001b[0;34m)\u001b[0m\u001b[0;34m)\u001b[0m\u001b[0;34m\u001b[0m\u001b[0;34m\u001b[0m\u001b[0m\n\u001b[0m",
      "\u001b[0;31mTypeError\u001b[0m: type object argument after * must be an iterable, not int"
     ]
    }
   ],
   "source": [
    "#Write a Python program to unzip a list of tuples into individual lists.\n",
    "l=[(1,2),(3,4)]\n"
   ]
  },
  {
   "cell_type": "code",
   "execution_count": null,
   "metadata": {
    "colab": {
     "base_uri": "https://localhost:8080/",
     "height": 200
    },
    "executionInfo": {
     "elapsed": 425,
     "status": "error",
     "timestamp": 1663320444291,
     "user": {
      "displayName": "Srushti Patel",
      "userId": "04188926097343651666"
     },
     "user_tz": -330
    },
    "id": "awewkqNHmSjn",
    "outputId": "ebab0cc6-dab7-4b53-ac4d-6717aedc22c8"
   },
   "outputs": [
    {
     "ename": "TypeError",
     "evalue": "ignored",
     "output_type": "error",
     "traceback": [
      "\u001b[0;31m---------------------------------------------------------------------------\u001b[0m",
      "\u001b[0;31mTypeError\u001b[0m                                 Traceback (most recent call last)",
      "\u001b[0;32m<ipython-input-54-79262b663dbf>\u001b[0m in \u001b[0;36m<module>\u001b[0;34m\u001b[0m\n\u001b[1;32m      2\u001b[0m \u001b[0ml2\u001b[0m\u001b[0;34m=\u001b[0m\u001b[0;34m[\u001b[0m\u001b[0;36m11\u001b[0m\u001b[0;34m,\u001b[0m\u001b[0;36m22\u001b[0m\u001b[0;34m]\u001b[0m\u001b[0;34m\u001b[0m\u001b[0;34m\u001b[0m\u001b[0m\n\u001b[1;32m      3\u001b[0m \u001b[0mop\u001b[0m\u001b[0;34m=\u001b[0m\u001b[0mzip\u001b[0m\u001b[0;34m(\u001b[0m\u001b[0;34m*\u001b[0m\u001b[0;34m[\u001b[0m\u001b[0ml1\u001b[0m\u001b[0;34m,\u001b[0m\u001b[0ml2\u001b[0m\u001b[0;34m]\u001b[0m\u001b[0;34m)\u001b[0m\u001b[0;34m\u001b[0m\u001b[0;34m\u001b[0m\u001b[0m\n\u001b[0;32m----> 4\u001b[0;31m \u001b[0mprint\u001b[0m\u001b[0;34m(\u001b[0m\u001b[0mlist\u001b[0m\u001b[0;34m(\u001b[0m\u001b[0mop\u001b[0m\u001b[0;34m)\u001b[0m\u001b[0;34m)\u001b[0m\u001b[0;34m\u001b[0m\u001b[0;34m\u001b[0m\u001b[0m\n\u001b[0m",
      "\u001b[0;31mTypeError\u001b[0m: 'list' object is not callable"
     ]
    }
   ],
   "source": [
    "l1=[1,2]\n",
    "l2=[11,22]\n",
    "op=zip(*[l1,l2])\n",
    "print(list(op))"
   ]
  },
  {
   "cell_type": "code",
   "execution_count": null,
   "metadata": {
    "colab": {
     "base_uri": "https://localhost:8080/"
    },
    "executionInfo": {
     "elapsed": 10,
     "status": "ok",
     "timestamp": 1663321017120,
     "user": {
      "displayName": "Srushti Patel",
      "userId": "04188926097343651666"
     },
     "user_tz": -330
    },
    "id": "JcecntbWo9rB",
    "outputId": "f30746d3-3060-4e28-ff0d-248c6428c570"
   },
   "outputs": [
    {
     "name": "stdout",
     "output_type": "stream",
     "text": [
      "{'Key 1': 1, 'Key 2': 2, 'Key 3': 3, 'Key 4': 4, 'Key 5': 5}\n"
     ]
    }
   ],
   "source": [
    "#Write a Python program to convert a list of tuples into a dictionary\n",
    "tuples = [('Key 1', 1), ('Key 2', 2), ('Key 3', 3), ('Key 4', 4), ('Key 5', 5)]\n",
    "\n",
    "result = dict(tuples)\n",
    "\n",
    "print(result)"
   ]
  },
  {
   "cell_type": "code",
   "execution_count": null,
   "metadata": {
    "colab": {
     "base_uri": "https://localhost:8080/"
    },
    "executionInfo": {
     "elapsed": 7,
     "status": "ok",
     "timestamp": 1663321399511,
     "user": {
      "displayName": "Srushti Patel",
      "userId": "04188926097343651666"
     },
     "user_tz": -330
    },
    "id": "0m7v4Jx7qIVV",
    "outputId": "e1c39db7-c711-4f58-d5b3-015e0c251406"
   },
   "outputs": [
    {
     "name": "stdout",
     "output_type": "stream",
     "text": [
      "{1: 'srushti', 2: 'patel'}\n"
     ]
    },
    {
     "data": {
      "text/plain": [
       "[1, 2]"
      ]
     },
     "execution_count": 60,
     "metadata": {},
     "output_type": "execute_result"
    }
   ],
   "source": [
    "#Write a Python program to sort a dictionary (ascending /descending) by value.\n",
    "d={1:'srushti',2:'patel'}\n",
    "print(d)\n",
    "sorted(d)"
   ]
  },
  {
   "cell_type": "code",
   "execution_count": null,
   "metadata": {
    "id": "O0uiMILxssYf"
   },
   "outputs": [],
   "source": [
    "my_dict={'A':56,'B':76,'C':98}\n",
    "m"
   ]
  },
  {
   "cell_type": "code",
   "execution_count": 6,
   "metadata": {
    "colab": {
     "base_uri": "https://localhost:8080/"
    },
    "executionInfo": {
     "elapsed": 10630,
     "status": "ok",
     "timestamp": 1663341869460,
     "user": {
      "displayName": "Srushti Patel",
      "userId": "04188926097343651666"
     },
     "user_tz": -330
    },
    "id": "P74oOgpD4cXx",
    "outputId": "8c01b0af-fcd7-4bab-aecb-6ab66567e8f2"
   },
   "outputs": [
    {
     "name": "stdout",
     "output_type": "stream",
     "text": [
      "enter a number: 1\n",
      "1.0\n"
     ]
    }
   ],
   "source": [
    "#Write a python program to sum of the first n positive integers.\n",
    "n = int(input(\"enter a number: \"))\n",
    "sum = (n * (n + 1)) / 2\n",
    "print(sum)"
   ]
  },
  {
   "cell_type": "code",
   "execution_count": 7,
   "metadata": {
    "colab": {
     "base_uri": "https://localhost:8080/"
    },
    "executionInfo": {
     "elapsed": 590,
     "status": "ok",
     "timestamp": 1663342209699,
     "user": {
      "displayName": "Srushti Patel",
      "userId": "04188926097343651666"
     },
     "user_tz": -330
    },
    "id": "7mi8YNs_52w-",
    "outputId": "08ad4d70-f20a-4656-c128-3dcaeae474c2"
   },
   "outputs": [
    {
     "name": "stdout",
     "output_type": "stream",
     "text": [
      "\n",
      "1\n",
      "\n"
     ]
    }
   ],
   "source": [
    "#Write a Python program to count occurrences of a substring in a string.\n",
    "str1 = ' welcome to the world of python.'\n",
    "print()\n",
    "print(str1.count(\"world\"))\n",
    "print()"
   ]
  },
  {
   "cell_type": "code",
   "execution_count": 2,
   "metadata": {
    "id": "JGs2Z_8W6-WI"
   },
   "outputs": [],
   "source": [
    "#Write a Python program to count the occurrences of each word in a given sentence.\n"
   ]
  },
  {
   "cell_type": "code",
   "execution_count": 7,
   "metadata": {},
   "outputs": [
    {
     "ename": "TypeError",
     "evalue": "unhashable type: 'list'",
     "output_type": "error",
     "traceback": [
      "\u001b[1;31m---------------------------------------------------------------------------\u001b[0m",
      "\u001b[1;31mTypeError\u001b[0m                                 Traceback (most recent call last)",
      "\u001b[1;32md:\\Python\\python_practice\\python-practices.ipynb Cell 143\u001b[0m in \u001b[0;36m<cell line: 3>\u001b[1;34m()\u001b[0m\n\u001b[0;32m      <a href='vscode-notebook-cell:/d%3A/Python/python_practice/python-practices.ipynb#Y262sZmlsZQ%3D%3D?line=1'>2</a>\u001b[0m my_dict\u001b[39m=\u001b[39m{}\n\u001b[0;32m      <a href='vscode-notebook-cell:/d%3A/Python/python_practice/python-practices.ipynb#Y262sZmlsZQ%3D%3D?line=2'>3</a>\u001b[0m \u001b[39mfor\u001b[39;00m number \u001b[39min\u001b[39;00m list1 :\n\u001b[1;32m----> <a href='vscode-notebook-cell:/d%3A/Python/python_practice/python-practices.ipynb#Y262sZmlsZQ%3D%3D?line=3'>4</a>\u001b[0m     \u001b[39mif\u001b[39;00m list1 \u001b[39min\u001b[39;49;00m d:\n\u001b[0;32m      <a href='vscode-notebook-cell:/d%3A/Python/python_practice/python-practices.ipynb#Y262sZmlsZQ%3D%3D?line=4'>5</a>\u001b[0m         my_dict[\u001b[39mlist\u001b[39m]\u001b[39m=\u001b[39mmy_dict[\u001b[39mlist\u001b[39m]\u001b[39m+\u001b[39m\u001b[39m1\u001b[39m\n\u001b[0;32m      <a href='vscode-notebook-cell:/d%3A/Python/python_practice/python-practices.ipynb#Y262sZmlsZQ%3D%3D?line=5'>6</a>\u001b[0m     \u001b[39mprint\u001b[39m(my_dict)\n",
      "\u001b[1;31mTypeError\u001b[0m: unhashable type: 'list'"
     ]
    }
   ],
   "source": [
    "list1 = [1, 1, 1, 5, 5, 3, 1, 3, 3, 1, 4, 4, 4, 2, 2, 2, 2]\n",
    "my_dict={}\n",
    "for number in list1 :\n",
    "    if list1 in d:\n",
    "        my_dict[list]=my_dict[list]+1\n",
    "    print(my_dict)    "
   ]
  },
  {
   "cell_type": "code",
   "execution_count": 18,
   "metadata": {},
   "outputs": [
    {
     "ename": "IndentationError",
     "evalue": "unindent does not match any outer indentation level (<tokenize>, line 13)",
     "output_type": "error",
     "traceback": [
      "\u001b[1;36m  File \u001b[1;32m<tokenize>:13\u001b[1;36m\u001b[0m\n\u001b[1;33m    CountFrequency(mylist)\u001b[0m\n\u001b[1;37m    ^\u001b[0m\n\u001b[1;31mIndentationError\u001b[0m\u001b[1;31m:\u001b[0m unindent does not match any outer indentation level\n"
     ]
    }
   ],
   "source": [
    "def CountFrequency(mylist):\n",
    "  \n",
    "  freq={}\n",
    "  for item in mylist:\n",
    "    \n",
    "  for key , value in freq.item():\n",
    "    print(\"%d:%d\"%(key,value))    \n",
    "    if __name__ == \"__main__\":\n",
    "        mylist=[1, 1, 1, 5, 5, 3, 1, 3, 3, 1,4, 4, 4, 2, 2, 2, 2]\n",
    "\n",
    "   CountFrequency(mylist)    \n",
    "    \n"
   ]
  },
  {
   "cell_type": "code",
   "execution_count": 19,
   "metadata": {},
   "outputs": [
    {
     "name": "stdout",
     "output_type": "stream",
     "text": [
      " 1 :  5\n",
      " 5 :  2\n",
      " 3 :  3\n",
      " 4 :  3\n",
      " 2 :  4\n"
     ]
    }
   ],
   "source": [
    "def CountFrequency(my_list):\n",
    "     \n",
    "    freq = {}\n",
    "    for items in my_list:\n",
    "        freq[items] = my_list.count(items)\n",
    "     \n",
    "    for key, value in freq.items():\n",
    "        print (\"% d : % d\"%(key, value))\n",
    " \n",
    "if __name__ == \"__main__\":\n",
    "    my_list =[1, 1, 1, 5, 5, 3, 1, 3, 3, 1, 4, 4, 4, 2, 2, 2, 2]\n",
    "    CountFrequency(my_list)"
   ]
  },
  {
   "cell_type": "code",
   "execution_count": 1,
   "metadata": {},
   "outputs": [
    {
     "ename": "ValueError",
     "evalue": "invalid literal for int() with base 10: ''",
     "output_type": "error",
     "traceback": [
      "\u001b[1;31m---------------------------------------------------------------------------\u001b[0m",
      "\u001b[1;31mValueError\u001b[0m                                Traceback (most recent call last)",
      "\u001b[1;32md:\\Python\\python_practice\\python-practices.ipynb Cell 146\u001b[0m in \u001b[0;36m<cell line: 7>\u001b[1;34m()\u001b[0m\n\u001b[0;32m      <a href='vscode-notebook-cell:/d%3A/Python/python_practice/python-practices.ipynb#Y265sZmlsZQ%3D%3D?line=0'>1</a>\u001b[0m \u001b[39m#Write a python program using function to find the sum of odd series and even series\u001b[39;00m\n\u001b[0;32m      <a href='vscode-notebook-cell:/d%3A/Python/python_practice/python-practices.ipynb#Y265sZmlsZQ%3D%3D?line=1'>2</a>\u001b[0m \u001b[39m#Odd series: 12/ 1! + 32/ 3! + 52/ 5!+......n\u001b[39;00m\n\u001b[0;32m      <a href='vscode-notebook-cell:/d%3A/Python/python_practice/python-practices.ipynb#Y265sZmlsZQ%3D%3D?line=2'>3</a>\u001b[0m \u001b[39m#Even series: 22/ 2! + 42/ 4! + 62/ 6!+......n\u001b[39;00m\n\u001b[0;32m      <a href='vscode-notebook-cell:/d%3A/Python/python_practice/python-practices.ipynb#Y265sZmlsZQ%3D%3D?line=3'>4</a>\u001b[0m \u001b[39m#odd series= 1+3+5+....n\u001b[39;00m\n\u001b[0;32m      <a href='vscode-notebook-cell:/d%3A/Python/python_practice/python-practices.ipynb#Y265sZmlsZQ%3D%3D?line=4'>5</a>\u001b[0m \u001b[39m#even series= 2+4+6+...n\u001b[39;00m\n\u001b[1;32m----> <a href='vscode-notebook-cell:/d%3A/Python/python_practice/python-practices.ipynb#Y265sZmlsZQ%3D%3D?line=6'>7</a>\u001b[0m \u001b[39msum\u001b[39m\u001b[39m=\u001b[39m\u001b[39mint\u001b[39;49m(\u001b[39minput\u001b[39;49m(\u001b[39m\"\u001b[39;49m\u001b[39menter a number :\u001b[39;49m\u001b[39m\"\u001b[39;49m))\n\u001b[0;32m      <a href='vscode-notebook-cell:/d%3A/Python/python_practice/python-practices.ipynb#Y265sZmlsZQ%3D%3D?line=7'>8</a>\u001b[0m odd_sum \u001b[39m=\u001b[39m\u001b[39m0\u001b[39m,\n\u001b[0;32m      <a href='vscode-notebook-cell:/d%3A/Python/python_practice/python-practices.ipynb#Y265sZmlsZQ%3D%3D?line=8'>9</a>\u001b[0m x\u001b[39m=\u001b[39m\u001b[39m1\u001b[39m,\n",
      "\u001b[1;31mValueError\u001b[0m: invalid literal for int() with base 10: ''"
     ]
    }
   ],
   "source": [
    "#Write a python program using function to find the sum of odd series and even series\n",
    "#Odd series: 12/ 1! + 32/ 3! + 52/ 5!+......n\n",
    "#Even series: 22/ 2! + 42/ 4! + 62/ 6!+......n\n",
    "#odd series= 1+3+5+....n\n",
    "#even series= 2+4+6+...n\n",
    "\n",
    "sum=int(input(\"enter a number :\"))\n",
    "odd_sum =0,\n",
    "x=1,\n",
    "while x<=num :\n",
    "    if x%2==1:\n",
    "        sum=sum+1\n",
    "        \n",
    "    x=x+1\n",
    "\n",
    "    print(\"sum of odd number: \",sum)     \n",
    "\n"
   ]
  },
  {
   "cell_type": "code",
   "execution_count": 1,
   "metadata": {},
   "outputs": [
    {
     "name": "stdout",
     "output_type": "stream",
     "text": [
      "str1+str2= helloworld\n"
     ]
    }
   ],
   "source": [
    "str1='hello'\n",
    "str2='world'\n",
    "print('str1+str2=',str1+str2)"
   ]
  },
  {
   "cell_type": "code",
   "execution_count": 5,
   "metadata": {},
   "outputs": [],
   "source": [
    "count =0\n",
    "for letter in 'hello world':\n",
    "    if (letter == 1):\n",
    "       count +=1\n",
    "       print(count,'letters found')"
   ]
  },
  {
   "cell_type": "code",
   "execution_count": 6,
   "metadata": {},
   "outputs": [
    {
     "name": "stdout",
     "output_type": "stream",
     "text": [
      "0 letters found\n"
     ]
    }
   ],
   "source": [
    "print(count,'letters found')"
   ]
  },
  {
   "cell_type": "code",
   "execution_count": null,
   "metadata": {},
   "outputs": [],
   "source": [
    "#"
   ]
  }
 ],
 "metadata": {
  "colab": {
   "authorship_tag": "ABX9TyPV1H3ZnIOiICD/TbtoUuRp",
   "provenance": []
  },
  "kernelspec": {
   "display_name": "Python 3 (ipykernel)",
   "language": "python",
   "name": "python3"
  },
  "language_info": {
   "codemirror_mode": {
    "name": "ipython",
    "version": 3
   },
   "file_extension": ".py",
   "mimetype": "text/x-python",
   "name": "python",
   "nbconvert_exporter": "python",
   "pygments_lexer": "ipython3",
   "version": "3.9.12"
  },
  "vscode": {
   "interpreter": {
    "hash": "daee99e6893c0f9b4fa2cee7c11289a4ac1788238c3c1d2caa83921531d37465"
   }
  }
 },
 "nbformat": 4,
 "nbformat_minor": 1
}
